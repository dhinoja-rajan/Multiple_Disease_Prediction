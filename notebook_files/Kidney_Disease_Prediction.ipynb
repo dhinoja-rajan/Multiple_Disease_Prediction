{
  "cells": [
    {
      "cell_type": "markdown",
      "metadata": {
        "colab_type": "text",
        "id": "view-in-github"
      },
      "source": [
        "<a href=\"https://colab.research.google.com/github/rajan-dhinoja/Multiple_Disease_Prediction/blob/main/notebook_files/Kidney_Disease_Prediction.ipynb\" target=\"_parent\"><img src=\"https://colab.research.google.com/assets/colab-badge.svg\" alt=\"Open In Colab\"/></a>"
      ]
    },
    {
      "cell_type": "markdown",
      "metadata": {
        "id": "KBPGWkUlq5PL"
      },
      "source": [
        "---\n",
        "# **Classification Template**\n",
        "---\n",
        "\n"
      ]
    },
    {
      "cell_type": "markdown",
      "metadata": {
        "id": "HvALcJ3yAryu"
      },
      "source": [
        "# ***Step-A: Data Preprocessing:-***"
      ]
    },
    {
      "cell_type": "markdown",
      "metadata": {
        "id": "LbMfPnCfAryw"
      },
      "source": [
        "## Step-1: Import Required Dependencies:-\n",
        "Import essential libraries and modules for data manipulation, visualization, and preprocessing..."
      ]
    },
    {
      "cell_type": "code",
      "execution_count": 46,
      "metadata": {
        "colab": {
          "base_uri": "https://localhost:8080/"
        },
        "id": "MmgVQ5oeAryx",
        "outputId": "d18a6d6f-3a83-4e67-d2fa-834deade16c3"
      },
      "outputs": [
        {
          "name": "stdout",
          "output_type": "stream",
          "text": [
            "✅ Required Libraries are Imported - Done!\n",
            "\n"
          ]
        }
      ],
      "source": [
        "# from google.colab import drive\n",
        "# drive.mount('/content/drive')\n",
        "\n",
        "import numpy as np\n",
        "import matplotlib.pyplot as plt\n",
        "import pandas as pd\n",
        "import seaborn as sns\n",
        "import re\n",
        "import nltk\n",
        "import warnings\n",
        "warnings.filterwarnings('ignore')\n",
        "\n",
        "# Set the option to prevent silent downcasting\n",
        "np.set_printoptions(formatter={'float': '{:,.2f}'.format}, suppress=True, precision=2)\n",
        "pd.options.display.float_format = '{:,.2f}'.format\n",
        "pd.set_option('future.no_silent_downcasting', True)\n",
        "\n",
        "print(\"✅ Required Libraries are Imported - Done!\\n\")"
      ]
    },
    {
      "cell_type": "markdown",
      "metadata": {
        "id": "yVRL8v08Aryx"
      },
      "source": [
        "## Step-2: Load the Dataset and Display Different overviews of Datasets:-"
      ]
    },
    {
      "cell_type": "code",
      "execution_count": 47,
      "metadata": {
        "colab": {
          "base_uri": "https://localhost:8080/",
          "height": 235
        },
        "id": "xBtYmKrSAryy",
        "outputId": "9cfe000b-5fbb-465e-ce0d-7bbc16ae2820"
      },
      "outputs": [
        {
          "data": {
            "text/html": [
              "<div>\n",
              "<style scoped>\n",
              "    .dataframe tbody tr th:only-of-type {\n",
              "        vertical-align: middle;\n",
              "    }\n",
              "\n",
              "    .dataframe tbody tr th {\n",
              "        vertical-align: top;\n",
              "    }\n",
              "\n",
              "    .dataframe thead th {\n",
              "        text-align: right;\n",
              "    }\n",
              "</style>\n",
              "<table border=\"1\" class=\"dataframe\">\n",
              "  <thead>\n",
              "    <tr style=\"text-align: right;\">\n",
              "      <th></th>\n",
              "      <th>id</th>\n",
              "      <th>age</th>\n",
              "      <th>bp</th>\n",
              "      <th>sg</th>\n",
              "      <th>al</th>\n",
              "      <th>su</th>\n",
              "      <th>rbc</th>\n",
              "      <th>pc</th>\n",
              "      <th>pcc</th>\n",
              "      <th>ba</th>\n",
              "      <th>...</th>\n",
              "      <th>pcv</th>\n",
              "      <th>wc</th>\n",
              "      <th>rc</th>\n",
              "      <th>htn</th>\n",
              "      <th>dm</th>\n",
              "      <th>cad</th>\n",
              "      <th>appet</th>\n",
              "      <th>pe</th>\n",
              "      <th>ane</th>\n",
              "      <th>classification</th>\n",
              "    </tr>\n",
              "  </thead>\n",
              "  <tbody>\n",
              "    <tr>\n",
              "      <th>0</th>\n",
              "      <td>0</td>\n",
              "      <td>48.00</td>\n",
              "      <td>80.00</td>\n",
              "      <td>1.02</td>\n",
              "      <td>1.00</td>\n",
              "      <td>0.00</td>\n",
              "      <td>NaN</td>\n",
              "      <td>normal</td>\n",
              "      <td>notpresent</td>\n",
              "      <td>notpresent</td>\n",
              "      <td>...</td>\n",
              "      <td>44</td>\n",
              "      <td>7800</td>\n",
              "      <td>5.2</td>\n",
              "      <td>yes</td>\n",
              "      <td>yes</td>\n",
              "      <td>no</td>\n",
              "      <td>good</td>\n",
              "      <td>no</td>\n",
              "      <td>no</td>\n",
              "      <td>ckd</td>\n",
              "    </tr>\n",
              "    <tr>\n",
              "      <th>1</th>\n",
              "      <td>1</td>\n",
              "      <td>7.00</td>\n",
              "      <td>50.00</td>\n",
              "      <td>1.02</td>\n",
              "      <td>4.00</td>\n",
              "      <td>0.00</td>\n",
              "      <td>NaN</td>\n",
              "      <td>normal</td>\n",
              "      <td>notpresent</td>\n",
              "      <td>notpresent</td>\n",
              "      <td>...</td>\n",
              "      <td>38</td>\n",
              "      <td>6000</td>\n",
              "      <td>NaN</td>\n",
              "      <td>no</td>\n",
              "      <td>no</td>\n",
              "      <td>no</td>\n",
              "      <td>good</td>\n",
              "      <td>no</td>\n",
              "      <td>no</td>\n",
              "      <td>ckd</td>\n",
              "    </tr>\n",
              "    <tr>\n",
              "      <th>2</th>\n",
              "      <td>2</td>\n",
              "      <td>62.00</td>\n",
              "      <td>80.00</td>\n",
              "      <td>1.01</td>\n",
              "      <td>2.00</td>\n",
              "      <td>3.00</td>\n",
              "      <td>normal</td>\n",
              "      <td>normal</td>\n",
              "      <td>notpresent</td>\n",
              "      <td>notpresent</td>\n",
              "      <td>...</td>\n",
              "      <td>31</td>\n",
              "      <td>7500</td>\n",
              "      <td>NaN</td>\n",
              "      <td>no</td>\n",
              "      <td>yes</td>\n",
              "      <td>no</td>\n",
              "      <td>poor</td>\n",
              "      <td>no</td>\n",
              "      <td>yes</td>\n",
              "      <td>ckd</td>\n",
              "    </tr>\n",
              "    <tr>\n",
              "      <th>3</th>\n",
              "      <td>3</td>\n",
              "      <td>48.00</td>\n",
              "      <td>70.00</td>\n",
              "      <td>1.00</td>\n",
              "      <td>4.00</td>\n",
              "      <td>0.00</td>\n",
              "      <td>normal</td>\n",
              "      <td>abnormal</td>\n",
              "      <td>present</td>\n",
              "      <td>notpresent</td>\n",
              "      <td>...</td>\n",
              "      <td>32</td>\n",
              "      <td>6700</td>\n",
              "      <td>3.9</td>\n",
              "      <td>yes</td>\n",
              "      <td>no</td>\n",
              "      <td>no</td>\n",
              "      <td>poor</td>\n",
              "      <td>yes</td>\n",
              "      <td>yes</td>\n",
              "      <td>ckd</td>\n",
              "    </tr>\n",
              "    <tr>\n",
              "      <th>4</th>\n",
              "      <td>4</td>\n",
              "      <td>51.00</td>\n",
              "      <td>80.00</td>\n",
              "      <td>1.01</td>\n",
              "      <td>2.00</td>\n",
              "      <td>0.00</td>\n",
              "      <td>normal</td>\n",
              "      <td>normal</td>\n",
              "      <td>notpresent</td>\n",
              "      <td>notpresent</td>\n",
              "      <td>...</td>\n",
              "      <td>35</td>\n",
              "      <td>7300</td>\n",
              "      <td>4.6</td>\n",
              "      <td>no</td>\n",
              "      <td>no</td>\n",
              "      <td>no</td>\n",
              "      <td>good</td>\n",
              "      <td>no</td>\n",
              "      <td>no</td>\n",
              "      <td>ckd</td>\n",
              "    </tr>\n",
              "  </tbody>\n",
              "</table>\n",
              "<p>5 rows × 26 columns</p>\n",
              "</div>"
            ],
            "text/plain": [
              "   id   age    bp   sg   al   su     rbc        pc         pcc          ba  \\\n",
              "0   0 48.00 80.00 1.02 1.00 0.00     NaN    normal  notpresent  notpresent   \n",
              "1   1  7.00 50.00 1.02 4.00 0.00     NaN    normal  notpresent  notpresent   \n",
              "2   2 62.00 80.00 1.01 2.00 3.00  normal    normal  notpresent  notpresent   \n",
              "3   3 48.00 70.00 1.00 4.00 0.00  normal  abnormal     present  notpresent   \n",
              "4   4 51.00 80.00 1.01 2.00 0.00  normal    normal  notpresent  notpresent   \n",
              "\n",
              "   ...  pcv    wc   rc  htn   dm  cad appet   pe  ane classification  \n",
              "0  ...   44  7800  5.2  yes  yes   no  good   no   no            ckd  \n",
              "1  ...   38  6000  NaN   no   no   no  good   no   no            ckd  \n",
              "2  ...   31  7500  NaN   no  yes   no  poor   no  yes            ckd  \n",
              "3  ...   32  6700  3.9  yes   no   no  poor  yes  yes            ckd  \n",
              "4  ...   35  7300  4.6   no   no   no  good   no   no            ckd  \n",
              "\n",
              "[5 rows x 26 columns]"
            ]
          },
          "execution_count": 47,
          "metadata": {},
          "output_type": "execute_result"
        }
      ],
      "source": [
        "# dataset = pd.DataFrame(pd.read_csv('/content/drive/MyDrive/Datasets/CLASSIFICATION/Multiple_Diseases/kidney.csv'))\n",
        "dataset = pd.DataFrame(pd.read_csv('../datasets/kidney.csv'))\n",
        "dataset.head()"
      ]
    },
    {
      "cell_type": "code",
      "execution_count": 48,
      "metadata": {
        "colab": {
          "base_uri": "https://localhost:8080/",
          "height": 472
        },
        "id": "_z7mUwRhXBoc",
        "outputId": "f1f79630-8bab-44fa-9559-55ad6947017b"
      },
      "outputs": [
        {
          "data": {
            "image/png": "[encoded data removed]",
            "text/plain": [
              "<Figure size 640x480 with 1 Axes>"
            ]
          },
          "metadata": {},
          "output_type": "display_data"
        }
      ],
      "source": [
        "# plt.figure(figsize=(10, 6))\n",
        "# Plot target distribution\n",
        "sns.histplot(dataset.iloc[:, -1], bins=30, kde=True)\n",
        "plt.title('Distribution of Last Column')\n",
        "plt.show()"
      ]
    },
    {
      "cell_type": "code",
      "execution_count": 49,
      "metadata": {
        "colab": {
          "base_uri": "https://localhost:8080/"
        },
        "id": "zcZDaNI0I-4g",
        "outputId": "ab27104c-5717-4009-aa85-2073e4c8a1aa"
      },
      "outputs": [
        {
          "name": "stdout",
          "output_type": "stream",
          "text": [
            "✅ Categorical Columns found: \n",
            " Index(['rbc', 'pc', 'pcc', 'ba', 'pcv', 'wc', 'rc', 'htn', 'dm', 'cad',\n",
            "       'appet', 'pe', 'ane', 'classification'],\n",
            "      dtype='object') \n",
            "\n",
            "✅ Numerical Columns found: \n",
            " Index(['id', 'age', 'bp', 'sg', 'al', 'su', 'bgr', 'bu', 'sc', 'sod', 'pot',\n",
            "       'hemo'],\n",
            "      dtype='object')\n"
          ]
        }
      ],
      "source": [
        "# Seperate the whole datset into categorical and numerical columns...\n",
        "\n",
        "categorical_cols = dataset.select_dtypes(include=['object']).columns\n",
        "numerical_cols = dataset.select_dtypes(exclude=['object']).columns\n",
        "\n",
        "if categorical_cols.empty:\n",
        "  print(\"❌ No Categorical Columns Found...\")\n",
        "else:\n",
        "  print(\"✅ Categorical Columns found: \\n\", categorical_cols, \"\\n\")\n",
        "\n",
        "if numerical_cols.empty:\n",
        "  print(\"❌ No Numerical Columns Found...\")\n",
        "else:\n",
        "  print(\"✅ Numerical Columns found: \\n\", numerical_cols)"
      ]
    },
    {
      "cell_type": "code",
      "execution_count": 50,
      "metadata": {
        "colab": {
          "base_uri": "https://localhost:8080/"
        },
        "collapsed": true,
        "id": "ZW3HjieQAry2",
        "outputId": "5a0c851d-df34-460c-8412-07d08e2ebda4"
      },
      "outputs": [
        {
          "name": "stdout",
          "output_type": "stream",
          "text": [
            "> Shape of the Dataset:  (400, 26) \n",
            "\n",
            "> Information about Dataset:\n",
            "<class 'pandas.core.frame.DataFrame'>\n",
            "RangeIndex: 400 entries, 0 to 399\n",
            "Data columns (total 26 columns):\n",
            " #   Column          Non-Null Count  Dtype  \n",
            "---  ------          --------------  -----  \n",
            " 0   id              400 non-null    int64  \n",
            " 1   age             391 non-null    float64\n",
            " 2   bp              388 non-null    float64\n",
            " 3   sg              353 non-null    float64\n",
            " 4   al              354 non-null    float64\n",
            " 5   su              351 non-null    float64\n",
            " 6   rbc             248 non-null    object \n",
            " 7   pc              335 non-null    object \n",
            " 8   pcc             396 non-null    object \n",
            " 9   ba              396 non-null    object \n",
            " 10  bgr             356 non-null    float64\n",
            " 11  bu              381 non-null    float64\n",
            " 12  sc              383 non-null    float64\n",
            " 13  sod             313 non-null    float64\n",
            " 14  pot             312 non-null    float64\n",
            " 15  hemo            348 non-null    float64\n",
            " 16  pcv             330 non-null    object \n",
            " 17  wc              295 non-null    object \n",
            " 18  rc              270 non-null    object \n",
            " 19  htn             398 non-null    object \n",
            " 20  dm              398 non-null    object \n",
            " 21  cad             398 non-null    object \n",
            " 22  appet           399 non-null    object \n",
            " 23  pe              399 non-null    object \n",
            " 24  ane             399 non-null    object \n",
            " 25  classification  400 non-null    object \n",
            "dtypes: float64(11), int64(1), object(14)\n",
            "memory usage: 81.4+ KB\n",
            "None \n",
            "\n",
            "> Statistical summary of the Dataset:\n",
            "          id    age     bp     sg     al     su    bgr     bu     sc    sod    pot   hemo\n",
            "count 400.00 391.00 388.00 353.00 354.00 351.00 356.00 381.00 383.00 313.00 312.00 348.00\n",
            "mean  199.50  51.48  76.47   1.02   1.02   0.45 148.04  57.43   3.07 137.53   4.63  12.53\n",
            "std   115.61  17.17  13.68   0.01   1.35   1.10  79.28  50.50   5.74  10.41   3.19   2.91\n",
            "min     0.00   2.00  50.00   1.00   0.00   0.00  22.00   1.50   0.40   4.50   2.50   3.10\n",
            "25%    99.75  42.00  70.00   1.01   0.00   0.00  99.00  27.00   0.90 135.00   3.80  10.30\n",
            "50%   199.50  55.00  80.00   1.02   0.00   0.00 121.00  42.00   1.30 138.00   4.40  12.65\n",
            "75%   299.25  64.50  80.00   1.02   2.00   0.00 163.00  66.00   2.80 142.00   4.90  15.00\n",
            "max   399.00  90.00 180.00   1.02   5.00   5.00 490.00 391.00  76.00 163.00  47.00  17.80\n"
          ]
        }
      ],
      "source": [
        "print(\"> Shape of the Dataset: \", dataset.shape, \"\\n\")\n",
        "print(\"> Information about Dataset:\")\n",
        "print(dataset.info(), \"\\n\")\n",
        "print(\"> Statistical summary of the Dataset:\")\n",
        "# print(dataset.describe().map(lambda x: round(x, 4)))\n",
        "print(dataset.describe().to_string(header=True))"
      ]
    },
    {
      "cell_type": "code",
      "execution_count": 51,
      "metadata": {
        "colab": {
          "base_uri": "https://localhost:8080/",
          "height": 585
        },
        "id": "5bMrljUcI9zR",
        "outputId": "61801ec2-d428-4628-9958-53de8bbd9a22"
      },
      "outputs": [
        {
          "data": {
            "image/png": "[encoded data removed]",
            "text/plain": [
              "<Figure size 1000x600 with 2 Axes>"
            ]
          },
          "metadata": {},
          "output_type": "display_data"
        }
      ],
      "source": [
        "# Correlation Matrix Heatmap\n",
        "plt.figure(figsize=(10, 6))\n",
        "sns.heatmap(dataset[numerical_cols].corr(), annot=True, cmap='coolwarm')\n",
        "plt.title('Correlation Matrix \\n',fontsize=20,  fontweight=800)\n",
        "plt.show()"
      ]
    },
    {
      "cell_type": "markdown",
      "metadata": {
        "id": "e0E0usXBAry4"
      },
      "source": [
        "## Step-3:- Checking the Dataset:-"
      ]
    },
    {
      "cell_type": "markdown",
      "metadata": {
        "id": "PSX5IX9RAry5"
      },
      "source": [
        "### Step-3.1: Checking any Duplicate Data and Handling them:-"
      ]
    },
    {
      "cell_type": "code",
      "execution_count": 52,
      "metadata": {
        "colab": {
          "base_uri": "https://localhost:8080/"
        },
        "id": "XzvdrZlWAry5",
        "outputId": "2a0409ad-5e2d-4a83-f22b-9ca28ba1c367"
      },
      "outputs": [
        {
          "name": "stdout",
          "output_type": "stream",
          "text": [
            "❌ No Duplicate Data(or Identical Rows) found...\n"
          ]
        }
      ],
      "source": [
        "if dataset.duplicated().any():\n",
        "  dataset.drop_duplicates(inplace=True)\n",
        "  print(\"✅ Duplicate Data(or Identical Rows) found and Removed...\")\n",
        "else:\n",
        "    print(\"❌ No Duplicate Data(or Identical Rows) found...\")"
      ]
    },
    {
      "cell_type": "markdown",
      "metadata": {
        "id": "FKBEjTdDAry6"
      },
      "source": [
        "### Step-3.2: Cheking any Missing Data and Handling them:-"
      ]
    },
    {
      "cell_type": "code",
      "execution_count": 53,
      "metadata": {
        "colab": {
          "base_uri": "https://localhost:8080/"
        },
        "id": "vg_Slpg2Ary7",
        "outputId": "6fcc958d-82d0-4149-9b14-198486078f73"
      },
      "outputs": [
        {
          "name": "stdout",
          "output_type": "stream",
          "text": [
            "⚠️ Missing Data Found! Handling them...\n",
            "\n",
            "Missing Data Counts in Categorical Columns: \n",
            " rbc               152\n",
            "pc                 65\n",
            "pcc                 4\n",
            "ba                  4\n",
            "pcv                70\n",
            "wc                105\n",
            "rc                130\n",
            "htn                 2\n",
            "dm                  2\n",
            "cad                 2\n",
            "appet               1\n",
            "pe                  1\n",
            "ane                 1\n",
            "classification      0\n",
            "dtype: int64\n",
            "\n",
            "\n",
            "Missing Data Counts in Numerical Columns: \n",
            " id       0\n",
            "age      9\n",
            "bp      12\n",
            "sg      47\n",
            "al      46\n",
            "su      49\n",
            "bgr     44\n",
            "bu      19\n",
            "sc      17\n",
            "sod     87\n",
            "pot     88\n",
            "hemo    52\n",
            "dtype: int64\n",
            "\n",
            "\n",
            "✅ Missing Data Handled Successfully...\n"
          ]
        }
      ],
      "source": [
        "# Here from the module named impute of the library scikit-learn, we are using the SimpleImputer Class to Handle the Missing Values.\n",
        "from sklearn.impute import SimpleImputer\n",
        "\n",
        "missing_data_counts = dataset.isnull().sum() + dataset.isin(['', 'N/A', 'Unknown', 'NaN']).sum()\n",
        "\n",
        "# if dataset.isnull().values.any() or dataset.isin(['', 'NaN', 'N/A', 'Unknown']).any().any():\n",
        "if missing_data_counts.any():\n",
        "\n",
        "  categorical_missing_counts = dataset[categorical_cols].isnull().sum() + dataset[categorical_cols].isin(['', 'N/A', 'Unknown', 'NaN']).sum()\n",
        "  numerical_missing_counts = dataset[numerical_cols].isnull().sum()\n",
        "\n",
        "  # Replace \"Unknown\" with NaN in categorical columns\n",
        "  for col in categorical_cols:\n",
        "    dataset[col] = dataset[col].replace('Unknown', np.nan)\n",
        "\n",
        "\n",
        "  # Check if there are any missing values (categorical or numerical)\n",
        "  if categorical_missing_counts.any() or numerical_missing_counts.any():\n",
        "      # Print missing counts for categorical columns in the desired format\n",
        "      print(\"⚠️ Missing Data Found! Handling them...\\n\")\n",
        "      print(\"Missing Data Counts in Categorical Columns: \\n\", categorical_missing_counts)\n",
        "      print(\"\\n\")\n",
        "      print(\"Missing Data Counts in Numerical Columns: \\n\", numerical_missing_counts)\n",
        "      print(\"\\n\")\n",
        "\n",
        "      # Create imputers for categorical and numerical features\n",
        "      categorical_imputer = SimpleImputer(missing_values=np.nan, strategy='most_frequent')\n",
        "      numerical_imputer = SimpleImputer(missing_values=np.nan, strategy='mean')\n",
        "\n",
        "      # Apply imputers to the selected columns in X\n",
        "      if len(categorical_cols) > 0:\n",
        "        categorical_cols_for_impution = [col for col in categorical_cols if col != dataset.columns[-1]]\n",
        "        dataset[categorical_cols_for_impution] = categorical_imputer.fit_transform(dataset[categorical_cols_for_impution])\n",
        "\n",
        "      # Exclude the dependent variable column (last column) if it's numerical\n",
        "      numerical_cols_for_impution = [col for col in numerical_cols if col != dataset.columns[-1]]\n",
        "      if len(numerical_cols_for_impution) > 0:\n",
        "          dataset[numerical_cols_for_impution] = numerical_imputer.fit_transform(dataset[numerical_cols_for_impution])\n",
        "      # if len(numerical_cols) > 0:\n",
        "          # dataset[numerical_cols] = numerical_imputer.fit_transform(dataset[numerical_cols])\n",
        "      print(\"✅ Missing Data Handled Successfully...\")\n",
        "      # print(\"New Data with replaced missing values: \\n\", dataset.head(10).to_string(header=True))\n",
        "else:\n",
        "    print(\"❌ No missing data found...\")\n",
        "\n"
      ]
    },
    {
      "cell_type": "markdown",
      "metadata": {
        "id": "-F0V-G0-Ary8"
      },
      "source": [
        "### Step-3.3: Checking any Synonyms or Aliases and Handling them:-"
      ]
    },
    {
      "cell_type": "code",
      "execution_count": 54,
      "metadata": {
        "colab": {
          "base_uri": "https://localhost:8080/"
        },
        "id": "rJwxtUSyAry8",
        "outputId": "4f808678-4c95-4daa-a3e3-f7c5d2a14c97"
      },
      "outputs": [
        {
          "name": "stdout",
          "output_type": "stream",
          "text": [
            "Column: \t\t'id'\n",
            "Unique Values:  0.00 263.00 273.00 272.00 271.00 270.00 269.00 268.00 267.00 266.00 265.00 264.00 262.00 1.00 261.00 260.00 259.00 258.00 257.00 256.00 255.00 254.00 253.00 252.00 274.00 275.00 276.00 277.00 298.00 297.00 296.00 295.00 294.00 293.00 292.00 291.00 290.00 289.00 288.00 287.00 286.00 285.00 284.00 283.00 282.00 281.00 280.00 279.00 278.00 251.00 250.00 249.00 224.00 222.00 221.00 220.00 219.00 218.00 217.00 216.00 215.00 214.00 213.00 212.00 211.00 210.00 209.00 208.00 207.00 206.00 205.00 204.00 203.00 202.00 223.00 225.00 248.00 226.00 247.00 246.00 245.00 244.00 243.00 242.00 241.00 240.00 239.00 238.00 237.00 236.00 235.00 234.00 233.00 232.00 231.00 230.00 229.00 228.00 227.00 299.00 300.00 301.00 375.00 373.00 372.00 371.00 370.00 369.00 368.00 367.00 366.00 365.00 364.00 363.00 362.00 361.00 360.00 359.00 358.00 357.00 356.00 355.00 354.00 353.00 374.00 376.00 351.00 377.00 398.00 397.00 396.00 395.00 394.00 393.00 392.00 391.00 390.00 389.00 388.00 387.00 386.00 385.00 384.00 383.00 382.00 381.00 380.00 379.00 378.00 352.00 350.00 302.00 325.00 323.00 322.00 321.00 320.00 319.00 318.00 317.00 316.00 315.00 314.00 313.00 312.00 311.00 310.00 309.00 308.00 307.00 306.00 305.00 304.00 303.00 324.00 326.00 349.00 327.00 348.00 347.00 346.00 345.00 344.00 343.00 342.00 341.00 340.00 339.00 338.00 337.00 336.00 335.00 334.00 333.00 332.00 331.00 330.00 329.00 328.00 201.00 200.00 199.00 74.00 72.00 71.00 70.00 69.00 68.00 67.00 66.00 65.00 64.00 63.00 62.00 61.00 60.00 59.00 58.00 57.00 56.00 55.00 54.00 53.00 52.00 73.00 75.00 50.00 76.00 97.00 96.00 95.00 94.00 93.00 92.00 91.00 90.00 89.00 88.00 87.00 86.00 85.00 84.00 83.00 82.00 81.00 80.00 79.00 78.00 77.00 51.00 49.00 99.00 24.00 22.00 21.00 20.00 19.00 18.00 17.00 16.00 15.00 14.00 13.00 12.00 11.00 10.00 9.00 8.00 7.00 6.00 5.00 4.00 3.00 2.00 23.00 25.00 48.00 26.00 47.00 46.00 45.00 44.00 43.00 42.00 41.00 40.00 39.00 38.00 37.00 36.00 35.00 34.00 33.00 32.00 31.00 30.00 29.00 28.00 27.00 98.00 100.00 198.00 174.00 172.00 171.00 170.00 169.00 168.00 167.00 166.00 165.00 164.00 163.00 162.00 161.00 160.00 159.00 158.00 157.00 156.00 155.00 154.00 153.00 152.00 173.00 175.00 150.00 176.00 197.00 196.00 195.00 194.00 193.00 192.00 191.00 190.00 189.00 188.00 187.00 186.00 185.00 184.00 183.00 182.00 181.00 180.00 179.00 178.00 177.00 151.00 149.00 101.00 124.00 122.00 121.00 120.00 119.00 118.00 117.00 116.00 115.00 114.00 113.00 112.00 111.00 110.00 109.00 108.00 107.00 106.00 105.00 104.00 103.00 102.00 123.00 125.00 148.00 126.00 147.00 146.00 145.00 144.00 143.00 142.00 141.00 140.00 139.00 138.00 137.00 136.00 135.00 134.00 133.00 132.00 131.00 130.00 129.00 128.00 127.00 399.00\n",
            "Counts:         1.00   1.00   1.00   1.00   1.00   1.00   1.00   1.00   1.00   1.00   1.00   1.00   1.00 1.00   1.00   1.00   1.00   1.00   1.00   1.00   1.00   1.00   1.00   1.00   1.00   1.00   1.00   1.00   1.00   1.00   1.00   1.00   1.00   1.00   1.00   1.00   1.00   1.00   1.00   1.00   1.00   1.00   1.00   1.00   1.00   1.00   1.00   1.00   1.00   1.00   1.00   1.00   1.00   1.00   1.00   1.00   1.00   1.00   1.00   1.00   1.00   1.00   1.00   1.00   1.00   1.00   1.00   1.00   1.00   1.00   1.00   1.00   1.00   1.00   1.00   1.00   1.00   1.00   1.00   1.00   1.00   1.00   1.00   1.00   1.00   1.00   1.00   1.00   1.00   1.00   1.00   1.00   1.00   1.00   1.00   1.00   1.00   1.00   1.00   1.00   1.00   1.00   1.00   1.00   1.00   1.00   1.00   1.00   1.00   1.00   1.00   1.00   1.00   1.00   1.00   1.00   1.00   1.00   1.00   1.00   1.00   1.00   1.00   1.00   1.00   1.00   1.00   1.00   1.00   1.00   1.00   1.00   1.00   1.00   1.00   1.00   1.00   1.00   1.00   1.00   1.00   1.00   1.00   1.00   1.00   1.00   1.00   1.00   1.00   1.00   1.00   1.00   1.00   1.00   1.00   1.00   1.00   1.00   1.00   1.00   1.00   1.00   1.00   1.00   1.00   1.00   1.00   1.00   1.00   1.00   1.00   1.00   1.00   1.00   1.00   1.00   1.00   1.00   1.00   1.00   1.00   1.00   1.00   1.00   1.00   1.00   1.00   1.00   1.00   1.00   1.00   1.00   1.00   1.00   1.00   1.00   1.00   1.00   1.00   1.00   1.00   1.00  1.00  1.00  1.00  1.00  1.00  1.00  1.00  1.00  1.00  1.00  1.00  1.00  1.00  1.00  1.00  1.00  1.00  1.00  1.00  1.00  1.00  1.00  1.00  1.00  1.00  1.00  1.00  1.00  1.00  1.00  1.00  1.00  1.00  1.00  1.00  1.00  1.00  1.00  1.00  1.00  1.00  1.00  1.00  1.00  1.00  1.00  1.00  1.00  1.00  1.00  1.00  1.00  1.00  1.00  1.00  1.00  1.00  1.00  1.00  1.00  1.00  1.00  1.00  1.00 1.00 1.00 1.00 1.00 1.00 1.00 1.00 1.00  1.00  1.00  1.00  1.00  1.00  1.00  1.00  1.00  1.00  1.00  1.00  1.00  1.00  1.00  1.00  1.00  1.00  1.00  1.00  1.00  1.00  1.00  1.00  1.00  1.00  1.00   1.00   1.00   1.00   1.00   1.00   1.00   1.00   1.00   1.00   1.00   1.00   1.00   1.00   1.00   1.00   1.00   1.00   1.00   1.00   1.00   1.00   1.00   1.00   1.00   1.00   1.00   1.00   1.00   1.00   1.00   1.00   1.00   1.00   1.00   1.00   1.00   1.00   1.00   1.00   1.00   1.00   1.00   1.00   1.00   1.00   1.00   1.00   1.00   1.00   1.00   1.00   1.00   1.00   1.00   1.00   1.00   1.00   1.00   1.00   1.00   1.00   1.00   1.00   1.00   1.00   1.00   1.00   1.00   1.00   1.00   1.00   1.00   1.00   1.00   1.00   1.00   1.00   1.00   1.00   1.00   1.00   1.00   1.00   1.00   1.00   1.00   1.00   1.00   1.00   1.00   1.00   1.00   1.00   1.00   1.00   1.00   1.00   1.00   1.00   1.00 \n",
            "\n",
            "Column: \t\t'age'\n",
            "Unique Values:  60.00 65.00 48.00 50.00 55.00 47.00 56.00 59.00 45.00 54.00 62.00 46.00 61.00 34.00 51.48 70.00 57.00 71.00 64.00 73.00 68.00 63.00 67.00 30.00 72.00 44.00 43.00 35.00 42.00 33.00 69.00 53.00 58.00 75.00 51.00 66.00 52.00 76.00 41.00 23.00 40.00 39.00 80.00 24.00 8.00 29.00 17.00 74.00 37.00 25.00 32.00 38.00 36.00 28.00 20.00 19.00 49.00 5.00 12.00 21.00 15.00 3.00 22.00 82.00 11.00 26.00 7.00 81.00 6.00 2.00 14.00 78.00 90.00 27.00 83.00 4.00 79.00\n",
            "Counts:         19.00 17.00 12.00 12.00 12.00 11.00 10.00 10.00 10.00 10.00 10.00  9.00  9.00  9.00  9.00  9.00  8.00  8.00  8.00  8.00  8.00  7.00  7.00  7.00  7.00  6.00  6.00  6.00  6.00  6.00  6.00  5.00  5.00  5.00  5.00  5.00  5.00  5.00  5.00  4.00  4.00  4.00  4.00  4.00 3.00  3.00  3.00  3.00  3.00  3.00  3.00  3.00  2.00  2.00  2.00  2.00  2.00 2.00  2.00  2.00  2.00 1.00  1.00  1.00  1.00  1.00 1.00  1.00 1.00 1.00  1.00  1.00  1.00  1.00  1.00 1.00  1.00 \n",
            "\n",
            "Column: \t\t'bp'\n",
            "Unique Values:   80.00  70.00 60.00 90.00 100.00 76.47 50.00 110.00 140.00 180.00 120.00\n",
            "Counts:         116.00 112.00 71.00 53.00  25.00 12.00  5.00   3.00   1.00   1.00   1.00 \n",
            "\n",
            "Column: \t\t'sg'\n",
            "Unique Values:    1.02  1.01  1.02  1.01  1.02 1.00\n",
            "Counts:         106.00 84.00 81.00 75.00 47.00 7.00 \n",
            "\n",
            "Column: \t\t'al'\n",
            "Unique Values:    0.00  1.02  1.00  2.00  3.00  4.00 5.00\n",
            "Counts:         199.00 46.00 44.00 43.00 43.00 24.00 1.00 \n",
            "\n",
            "Column: \t\t'su'\n",
            "Unique Values:    0.00  0.45  2.00  3.00  4.00  1.00 5.00\n",
            "Counts:         290.00 49.00 18.00 14.00 13.00 13.00 3.00 \n",
            "\n",
            "Column: \t\t'rbc'\n",
            "Unique Values:   normal  abnormal\n",
            "Counts:             353        47 \n",
            "\n",
            "Column: \t\t'pc'\n",
            "Unique Values:   normal  abnormal\n",
            "Counts:             324        76 \n",
            "\n",
            "Column: \t\t'pcc'\n",
            "Unique Values:   notpresent  present\n",
            "Counts:                 358       42 \n",
            "\n",
            "Column: \t\t'ba'\n",
            "Unique Values:   notpresent  present\n",
            "Counts:                 378       22 \n",
            "\n",
            "Column: \t\t'bgr'\n",
            "Unique Values:  148.04 99.00 93.00 100.00 107.00 131.00 140.00 109.00 92.00 117.00 130.00 70.00 114.00 123.00 102.00 132.00 104.00 95.00 124.00 125.00 122.00 94.00 113.00 111.00 118.00 120.00 139.00 133.00 119.00 129.00 91.00 121.00 88.00 76.00 106.00 150.00 89.00 105.00 78.00 127.00 214.00 171.00 172.00 128.00 112.00 79.00 108.00 74.00 103.00 82.00 97.00 81.00 219.00 137.00 98.00 208.00 153.00 204.00 192.00 424.00 303.00 490.00 138.00 80.00 110.00 96.00 85.00 83.00 101.00 213.00 75.00 253.00 163.00 86.00 158.00 165.00 169.00 141.00 144.00 207.00 210.00 360.00 116.00 423.00 234.00 250.00 352.00 425.00 239.00 87.00 146.00 410.00 184.00 252.00 246.00 230.00 341.00 176.00 255.00 162.00 182.00 238.00 248.00 215.00 241.00 134.00 269.00 201.00 203.00 463.00 270.00 263.00 261.00 294.00 224.00 173.00 308.00 90.00 157.00 323.00 233.00 415.00 297.00 280.00 115.00 143.00 226.00 295.00 251.00 156.00 22.00 159.00 298.00 447.00 220.00 307.00 160.00 148.00 264.00 268.00 242.00 273.00 380.00 288.00 84.00 256.00 309.00\n",
            "Counts:          44.00 10.00  9.00   9.00   8.00   6.00   6.00   6.00  6.00   6.00   6.00  5.00   5.00   5.00   5.00   5.00   5.00  5.00   5.00   5.00   5.00  4.00   4.00   4.00   4.00   4.00   4.00   4.00   4.00   4.00  4.00   4.00  4.00  4.00   4.00   3.00  3.00   3.00  3.00   3.00   3.00   3.00   3.00   3.00   3.00  3.00   3.00  3.00   3.00  3.00  3.00  3.00   3.00   3.00  2.00   2.00   2.00   2.00   2.00   2.00   2.00   2.00   2.00  2.00   2.00  2.00  2.00  2.00   2.00   2.00  2.00   2.00   2.00  2.00   2.00   2.00   2.00   2.00   2.00   2.00   2.00   2.00   1.00   1.00   1.00   1.00   1.00   1.00   1.00  1.00   1.00   1.00   1.00   1.00   1.00   1.00   1.00   1.00   1.00   1.00   1.00   1.00   1.00   1.00   1.00   1.00   1.00   1.00   1.00   1.00   1.00   1.00   1.00   1.00   1.00   1.00   1.00  1.00   1.00   1.00   1.00   1.00   1.00   1.00   1.00   1.00   1.00   1.00   1.00   1.00  1.00   1.00   1.00   1.00   1.00   1.00   1.00   1.00   1.00   1.00   1.00   1.00   1.00   1.00  1.00   1.00   1.00 \n",
            "\n",
            "Column: \t\t'bu'\n",
            "Unique Values:  57.43 46.00 25.00 19.00 40.00 15.00 48.00 50.00 18.00 32.00 49.00 26.00 27.00 17.00 20.00 38.00 16.00 30.00 36.00 44.00 28.00 23.00 29.00 45.00 24.00 37.00 31.00 39.00 22.00 55.00 35.00 33.00 53.00 42.00 66.00 51.00 41.00 68.00 47.00 34.00 60.00 96.00 52.00 107.00 80.00 106.00 125.00 132.00 58.00 82.00 73.00 98.00 111.00 77.00 56.00 54.00 72.00 86.00 90.00 87.00 155.00 153.00 10.00 89.00 202.00 94.00 113.00 1.50 146.00 391.00 133.00 137.00 67.00 115.00 223.00 98.60 158.00 74.00 139.00 150.00 61.00 57.00 95.00 191.00 93.00 241.00 64.00 79.00 215.00 309.00 142.00 164.00 70.00 163.00 103.00 65.00 217.00 88.00 118.00 50.10 71.00 186.00 75.00 21.00 219.00 180.00 76.00 166.00 148.00 208.00 176.00 114.00 145.00 92.00 322.00 162.00 235.00 85.00 165.00\n",
            "Counts:         19.00 15.00 13.00 11.00 10.00  9.00  9.00  9.00  9.00  8.00  8.00  8.00  8.00  7.00  7.00  7.00  7.00  7.00  7.00  7.00  7.00  6.00  6.00  6.00  6.00  6.00  6.00  6.00  6.00  5.00  5.00  5.00  5.00  5.00  5.00  4.00  4.00  4.00  4.00  4.00  3.00  3.00  3.00   3.00  3.00   3.00   3.00   2.00  2.00  2.00  2.00  2.00   2.00  2.00  2.00  2.00  2.00  2.00  2.00  2.00   2.00   2.00  2.00  2.00   1.00  1.00   1.00 1.00   1.00   1.00   1.00   1.00  1.00   1.00   1.00  1.00   1.00  1.00   1.00   1.00  1.00  1.00  1.00   1.00  1.00   1.00  1.00  1.00   1.00   1.00   1.00   1.00  1.00   1.00   1.00  1.00   1.00  1.00   1.00  1.00  1.00   1.00  1.00  1.00   1.00   1.00  1.00   1.00   1.00   1.00   1.00   1.00   1.00  1.00   1.00   1.00   1.00  1.00   1.00 \n",
            "\n",
            "Column: \t\t'sc'\n",
            "Unique Values:   1.20  1.10  0.50  1.00  0.90  0.70  0.60  3.07  0.80  2.20 1.50 1.70 1.30 1.60 2.50 1.80 2.80 1.40 1.90 3.30 2.00 2.70 2.10 3.20 7.30 3.90 5.30 2.40 2.90 3.40 2.30 4.00 4.40 6.70 6.00 5.60 6.50 6.10 5.20 3.00 6.30 7.20 4.60 4.10 11.80 48.10 14.20 16.40 2.60 7.50 4.30 18.10 6.40 3.80 9.30 6.80 13.50 12.80 11.90 12.00 13.40 15.20 13.30 13.00 16.90 18.00 7.10 32.00 3.25 5.90 8.50 10.80 15.00 7.70 76.00 3.60 9.60 10.20 11.50 12.20 9.20 13.80 9.70 24.00 0.40\n",
            "Counts:         40.00 24.00 23.00 23.00 22.00 22.00 18.00 17.00 17.00 10.00 9.00 9.00 8.00 8.00 7.00 7.00 7.00 7.00 6.00 5.00 5.00 5.00 5.00 5.00 4.00 4.00 3.00 3.00 3.00 3.00 3.00 3.00 2.00 2.00 2.00 2.00 2.00 2.00 2.00 2.00 2.00 2.00 2.00 2.00  1.00  1.00  1.00  1.00 1.00 1.00 1.00  1.00 1.00 1.00 1.00 1.00  1.00  1.00  1.00  1.00  1.00  1.00  1.00  1.00  1.00  1.00 1.00  1.00 1.00 1.00 1.00  1.00  1.00 1.00  1.00 1.00 1.00  1.00  1.00  1.00 1.00  1.00 1.00  1.00 1.00 \n",
            "\n",
            "Column: \t\t'sod'\n",
            "Unique Values:  137.53 135.00 140.00 141.00 139.00 142.00 138.00 137.00 150.00 136.00 147.00 145.00 146.00 132.00 144.00 131.00 133.00 130.00 134.00 143.00 127.00 124.00 114.00 125.00 120.00 113.00 128.00 122.00 104.00 129.00 115.00 4.50 163.00 111.00 126.00\n",
            "Counts:          87.00  40.00  25.00  22.00  21.00  20.00  20.00  19.00  17.00  17.00  13.00  11.00  10.00  10.00   9.00   9.00   8.00   7.00   6.00   4.00   3.00   3.00   2.00   2.00   2.00   2.00   2.00   2.00   1.00   1.00   1.00 1.00   1.00   1.00   1.00 \n",
            "\n",
            "Column: \t\t'pot'\n",
            "Unique Values:   4.63  3.50  5.00  4.90  4.70  4.80  4.00  4.10  4.40  3.90  3.80  4.20  4.50  4.30  3.70 3.60 4.60 3.40 5.20 5.70 5.30 6.30 5.40 2.90 3.30 5.50 3.20 2.50 5.90 5.80 5.60 3.00 6.50 7.60 39.00 6.40 47.00 5.10 2.80 2.70 6.60\n",
            "Counts:         88.00 30.00 30.00 27.00 17.00 16.00 14.00 14.00 14.00 14.00 14.00 14.00 13.00 12.00 12.00 8.00 7.00 5.00 5.00 4.00 4.00 3.00 3.00 3.00 3.00 3.00 3.00 2.00 2.00 2.00 2.00 2.00 2.00 1.00  1.00 1.00  1.00 1.00 1.00 1.00 1.00 \n",
            "\n",
            "Column: \t\t'hemo'\n",
            "Unique Values:  12.53 15.00 10.90 13.60 13.00 9.80 11.10 10.30 11.30 13.90 12.00 15.40 14.80 14.30 10.00 7.90 14.00 12.60 9.70 11.20 10.80 13.70 12.40 16.10 13.50 11.90 15.80 9.10 13.20 15.20 13.80 12.20 14.10 15.50 17.00 13.40 12.50 15.70 16.30 11.80 14.40 11.40 11.60 16.20 14.50 15.90 9.60 14.90 16.40 16.50 11.50 12.70 14.20 9.40 15.30 8.60 9.50 15.60 10.10 17.80 11.00 8.10 8.30 9.90 10.40 8.80 9.30 12.10 10.20 13.30 10.50 17.40 14.60 15.10 16.90 17.10 16.00 14.70 13.10 16.60 8.70 16.70 12.30 8.00 16.80 17.20 11.70 6.00 17.30 17.70 17.50 9.00 3.10 6.30 7.60 12.90 5.60 6.60 7.50 4.80 7.10 9.20 6.20 8.20 6.10 8.40 7.70 10.60 10.70 5.50 5.80 6.80 8.50 7.30 12.80 17.60\n",
            "Counts:         52.00 16.00  8.00  7.00  7.00 7.00  7.00  6.00  6.00  6.00  6.00  5.00  5.00  5.00  5.00 5.00  5.00  5.00 5.00  5.00  5.00  4.00  4.00  4.00  4.00  4.00  4.00 4.00  4.00  4.00  4.00  4.00  4.00  4.00  4.00  4.00  4.00  3.00  3.00  3.00  3.00  3.00  3.00  3.00  3.00  3.00 3.00  3.00  3.00  3.00  3.00  3.00  3.00 3.00  3.00 3.00 3.00  3.00  3.00  3.00  3.00 3.00 3.00 3.00  3.00 2.00 2.00  2.00  2.00  2.00  2.00  2.00  2.00  2.00  2.00  2.00  2.00  2.00  2.00  2.00 2.00  2.00  2.00 2.00  2.00  2.00  2.00 2.00  1.00  1.00  1.00 1.00 1.00 1.00 1.00  1.00 1.00 1.00 1.00 1.00 1.00 1.00 1.00 1.00 1.00 1.00 1.00  1.00  1.00 1.00 1.00 1.00 1.00 1.00  1.00  1.00 \n",
            "\n",
            "Column: \t\t'pcv'\n",
            "Unique Values:   41  52  44  48  40  43  42  45  32  36  33  50  28  34  37  30  29  35  46  31  24  39  26  38  53  51  49  47  54  25  22  27  19  23  15  21  17  20  \\t43  18  9  \\t?  16  14\n",
            "Counts:          91  21  19  19  16  14  13  13  12  12  12  12  12  11  11   9   9   9   9   8   7   7   6   5   4   4   4   4   4   3   3   3   2   2   1   1   1   1     1   1  1    1   1   1 \n",
            "\n",
            "Column: \t\t'wc'\n",
            "Unique Values:   9800  6700  9600  7200  9200  11000  5800  6900  7800  9400  9100  7000  10700  10500  6300  4300  9500  8600  5600  5000  7500  8100  10200  7900  8300  6000  4700  10400  6200  5500  10300  6800  7700  6500  6400  8400  7300  4500  8000  5400  7400  4200  8200  12800  15200  12400  8800  5700  9300  9000  6600  5300  8500  11400  13200  7100  3800  14600  4900  12000  15700  4100  11500  13600  12200  18900  9900  5200  5900  12100  9700  5100  10800  16700  26400  2600  11900  12500  16300  11800  \\t8400  \\t6200  10900  11300  2200  21600  11200  19100  \\t?  12300  14900  12700\n",
            "Counts:           116    10     9     9     9      8     8     8     7     7     7     7      6      6     6     6     5     5     5     5     5     5      5     5     5     4     4      4     4     4      4     4     4     4     3     3     3     3     3     3     3     3     2      2      2      2     2     2     2     2     2     2     2      2      2     2     2      2     1      1      1     1      1      1      1      1     1     1     1      1     1     1      1      1      1     1      1      1      1      1       1       1      1      1     1      1      1      1    1      1      1      1 \n",
            "\n",
            "Column: \t\t'rc'\n",
            "Unique Values:   5.2  4.5  4.9  4.7  4.8  3.9  4.6  3.4  5.9  5.5  6.1  5.0  3.7  5.3  5.8  5.4  3.8  5.6  4.3  4.2  3.2  4.4  5.7  6.4  5.1  6.2  6.5  4.1  3.6  6.3  6.0  4.0  3.3  4  3.5  2.9  3.1  2.6  2.1  2.5  2.8  3.0  2.7  5  2.3  \\t?  2.4  3  8.0\n",
            "Counts:          148   16   14   11   10   10    9    9    8    8    8    8    8    7    7    7    7    6    6    6    5    5    5    5    5    5    5    5    4    4    4    3    3  3    3    2    2    2    2    2    2    2    2  2    1    1    1  1    1 \n",
            "\n",
            "Column: \t\t'htn'\n",
            "Unique Values:    no  yes\n",
            "Counts:          253  147 \n",
            "\n",
            "Column: \t\t'dm'\n",
            "Unique Values:    no  yes  \\tno  \\tyes   yes\n",
            "Counts:          260  134     3      2     1 \n",
            "\n",
            "Column: \t\t'cad'\n",
            "Unique Values:    no  yes  \\tno\n",
            "Counts:          364   34     2 \n",
            "\n",
            "Column: \t\t'appet'\n",
            "Unique Values:   good  poor\n",
            "Counts:           318    82 \n",
            "\n",
            "Column: \t\t'pe'\n",
            "Unique Values:    no  yes\n",
            "Counts:          324   76 \n",
            "\n",
            "Column: \t\t'ane'\n",
            "Unique Values:    no  yes\n",
            "Counts:          340   60 \n",
            "\n",
            "Column: \t\t'classification'\n",
            "Unique Values:   ckd  notckd  ckd\\t\n",
            "Counts:          248     150      2 \n",
            "\n"
          ]
        }
      ],
      "source": [
        "for col in dataset.columns:\n",
        "  value_counts_dataset = dataset[col].value_counts().rename_axis('Unique Values: ').reset_index(name='Counts: ')\n",
        "\n",
        "  print(f\"Column: \\t\\t'{col}'\")\n",
        "  print(value_counts_dataset.T.to_string(header=False), \"\\n\")"
      ]
    },
    {
      "cell_type": "code",
      "execution_count": 55,
      "metadata": {
        "colab": {
          "base_uri": "https://localhost:8080/"
        },
        "id": "4yNTSkpRbk9Z",
        "outputId": "753b58fc-0a1a-4d27-ce13-cd2ce60c987b"
      },
      "outputs": [
        {
          "name": "stdout",
          "output_type": "stream",
          "text": [
            "Column: classification\n",
            "  classification  Counts\n",
            "0            ckd     250\n",
            "1         notckd     150 \n",
            "\n",
            "Column: cad\n",
            "   cad  Counts\n",
            "0   no     366\n",
            "1  yes      34 \n",
            "\n",
            "Column: dm\n",
            "     dm  Counts\n",
            "0    no     263\n",
            "1   yes     136\n",
            "2   yes       1 \n",
            "\n",
            "✅ Synonyms replaced Successfully...\n",
            "\n"
          ]
        }
      ],
      "source": [
        "for col_index in [-1, -5, -6]:\n",
        "    col = dataset.columns[col_index]  # Get the column name\n",
        "    dataset[col] = dataset[col].str.replace(r'(\\tckd|ckd\\t|\\tyes|yes\\t|\\tno|no\\t)', lambda x: x.group(1).strip(), regex=True)\n",
        "    print(f\"Column: {col}\")  # Print the column name\n",
        "    print(dataset.iloc[:, col_index].value_counts().reset_index(name='Counts'), \"\\n\")\n",
        "\n",
        "print(\"✅ Synonyms replaced Successfully...\\n\")"
      ]
    },
    {
      "cell_type": "markdown",
      "metadata": {
        "id": "szLznVnf1W1h"
      },
      "source": [
        "### Step-3.4: Checking for Stopwords and Stemming them:-"
      ]
    },
    {
      "cell_type": "code",
      "execution_count": 56,
      "metadata": {
        "id": "iMWNF_e5j0vb"
      },
      "outputs": [],
      "source": [
        "# from nltk.corpus import stopwords\n",
        "# from nltk.stem.porter import PorterStemmer\n",
        "\n",
        "# if categorical_cols.any():\n",
        "\n",
        "#   nltk.download('stopwords')\n",
        "\n",
        "#   stop_words = set(stopwords.words('english'))\n",
        "#   # stop_words = stop_words.remove('not')\n",
        "#   # print(\"\\n Stop Words are: \", stop_words, \"\\n\")\n",
        "#   def stemming(text):\n",
        "#       words = text.lower().split()\n",
        "\n",
        "#       stemmer = PorterStemmer()\n",
        "#       stemmed_words = [stemmer.stem(word) for word in words if word not in stop_words]\n",
        "#       return ' '.join(stemmed_words)  # Join stemmed words back into a string\n",
        "\n",
        "#   # Apply the stemming function to the specified columns\n",
        "#   for column in categorical_cols:\n",
        "#       dataset[column] = dataset[column].astype(str).apply(stemming)\n",
        "\n",
        "#   print(\"✅ Stemming Completed Successfully... \\n\")\n",
        "#   # print(dataset.head().to_string(header=True))\n",
        "# else:\n",
        "#   print(\"❌ No Stemming Needed...\")"
      ]
    },
    {
      "cell_type": "markdown",
      "metadata": {
        "id": "kluQwU4vAry9"
      },
      "source": [
        "### Step-3.5: Checking any Categorical Data and Encoding them:-"
      ]
    },
    {
      "cell_type": "code",
      "execution_count": 57,
      "metadata": {
        "colab": {
          "base_uri": "https://localhost:8080/"
        },
        "id": "iliWxO0n-9UQ",
        "outputId": "48787766-9588-4923-cbe2-ac6673b7c4fa"
      },
      "outputs": [
        {
          "name": "stdout",
          "output_type": "stream",
          "text": [
            "> String Values present in Column 'rbc'.\n",
            "\t- Also, Categorical values found in column 'rbc'.\n",
            "\t✅ 'rbc' is Encoded Successfully...\n",
            "\n",
            "> String Values present in Column 'pc'.\n",
            "\t- Also, Categorical values found in column 'pc'.\n",
            "\t✅ 'pc' is Encoded Successfully...\n",
            "\n",
            "> String Values present in Column 'pcc'.\n",
            "\t- Also, Categorical values found in column 'pcc'.\n",
            "\t✅ 'pcc' is Encoded Successfully...\n",
            "\n",
            "> String Values present in Column 'ba'.\n",
            "\t- Also, Categorical values found in column 'ba'.\n",
            "\t✅ 'ba' is Encoded Successfully...\n",
            "\n",
            "> String Values present in Column 'pcv'.\n",
            "\t- Also, Categorical values found in column 'pcv'.\n",
            "\t✅ 'pcv' is Encoded Successfully...\n",
            "\n",
            "> String Values present in Column 'wc'.\n",
            "\t- Also, Categorical values found in column 'wc'.\n",
            "\t✅ 'wc' is Encoded Successfully...\n",
            "\n",
            "> String Values present in Column 'rc'.\n",
            "\t- Also, Categorical values found in column 'rc'.\n",
            "\t✅ 'rc' is Encoded Successfully...\n",
            "\n",
            "> String Values present in Column 'htn'.\n",
            "\t- Also, Categorical values found in column 'htn'.\n",
            "\t✅ 'htn' is Encoded Successfully...\n",
            "\n",
            "> String Values present in Column 'dm'.\n",
            "\t- Also, Categorical values found in column 'dm'.\n",
            "\t✅ 'dm' is Encoded Successfully...\n",
            "\n",
            "> String Values present in Column 'cad'.\n",
            "\t- Also, Categorical values found in column 'cad'.\n",
            "\t✅ 'cad' is Encoded Successfully...\n",
            "\n",
            "> String Values present in Column 'appet'.\n",
            "\t- Also, Categorical values found in column 'appet'.\n",
            "\t✅ 'appet' is Encoded Successfully...\n",
            "\n",
            "> String Values present in Column 'pe'.\n",
            "\t- Also, Categorical values found in column 'pe'.\n",
            "\t✅ 'pe' is Encoded Successfully...\n",
            "\n",
            "> String Values present in Column 'ane'.\n",
            "\t- Also, Categorical values found in column 'ane'.\n",
            "\t✅ 'ane' is Encoded Successfully...\n",
            "\n",
            "> String Values present in Column 'classification'(Output Column).\n",
            "\t- Also, Categorical values found in column 'classification'.\n",
            "\t✅ 'classification' is Encoded Successfully...\n",
            "\n",
            "=> Repeating Columns in Matrix of Features(X):  ['rbc', 'pc', 'pcc', 'ba', 'pcv', 'wc', 'rc', 'htn', 'dm', 'cad', 'appet', 'pe', 'ane'] \n",
            "\n"
          ]
        }
      ],
      "source": [
        "import scipy.sparse\n",
        "from sklearn.compose import ColumnTransformer\n",
        "from sklearn.preprocessing import OneHotEncoder, LabelEncoder\n",
        "\n",
        "X = dataset.iloc[:, :-1]\n",
        "# input_features = X.copy()\n",
        "y = dataset.iloc[:, -1]\n",
        "\n",
        "repeating_cols = []\n",
        "\n",
        "if categorical_cols.empty:\n",
        "  print(\"❌ No Encoding needed! No Categorical Columns found...\")\n",
        "else:\n",
        "  for col in categorical_cols:\n",
        "      # Matrix of Feature\n",
        "      if col != y.name:\n",
        "        print(f\"> String Values present in Column '{col}'.\")\n",
        "        # Check for repeating values within the categorical column\n",
        "        value_counts = dataset[col].value_counts()\n",
        "        repeating_values = value_counts[value_counts > 1].index.tolist()\n",
        "        if repeating_values:\n",
        "          repeating_cols.append(col)\n",
        "          # print(f\"\\t- Also, Categorical values found in column '{col}': {repeating_values}.\")\n",
        "          print(f\"\\t- Also, Categorical values found in column '{col}'.\")\n",
        "          print(f\"\\t✅ '{col}' is Encoded Successfully...\\n\")\n",
        "\n",
        "        else:\n",
        "          print(f\"\\t❌ But No Categorical values found in column '{col}'.\\n\")\n",
        "\n",
        "      # Dependent Variable/Output\n",
        "      if col == y.name:\n",
        "        print(f\"> String Values present in Column '{col}'(Output Column).\")\n",
        "        # Check for repeating values within the categorical column\n",
        "        value_counts = dataset[col].value_counts()\n",
        "        repeating_values = value_counts[value_counts > 1].index.tolist()\n",
        "        if repeating_values:\n",
        "          # print(f\"\\t- Also, Categorical values found in column '{col}': {repeating_values}.\")\n",
        "          print(f\"\\t- Also, Categorical values found in column '{col}'.\")\n",
        "          le = LabelEncoder()\n",
        "          y = le.fit_transform(dataset[col])\n",
        "          print(f\"\\t✅ '{col}' is Encoded Successfully...\\n\")\n",
        "        else:\n",
        "          print(f\"\\t❌ But No Categorical values found in column '{col}'.\\n\")\n",
        "\n",
        "  print(\"=> Repeating Columns in Matrix of Features(X): \", repeating_cols, \"\\n\")\n",
        "  if repeating_cols:\n",
        "    encoder = ColumnTransformer(transformers=[('encoder', OneHotEncoder(), repeating_cols)], remainder='passthrough')\n",
        "    encoder_transform = encoder.fit_transform(X)\n",
        "\n",
        "    # Conditional conversion to dense array\n",
        "    if scipy.sparse.issparse(encoder_transform):  # Check if sparse\n",
        "      X = encoder_transform.toarray()\n",
        "    else:\n",
        "      X = encoder_transform\n",
        "\n",
        "  else:\n",
        "    print(\"❌ No Repeating Columns found in Matrix of Features(X). \\n\")\n",
        "\n",
        "  # print(\"Matrix of Features(X): \\n\", pd.DataFrame(X).head().to_string(header=True))\n",
        "  # print(\"\\n\")\n",
        "  # print(\"Dependent Variable(y): \\n\", pd.DataFrame(y).head().to_string(header=False, index=False))\n"
      ]
    },
    {
      "cell_type": "markdown",
      "metadata": {
        "id": "qb_vcgm3qZKW"
      },
      "source": [
        "## Step-4: Split the Dataset into the Training set and Test set:-"
      ]
    },
    {
      "cell_type": "code",
      "execution_count": 58,
      "metadata": {
        "colab": {
          "base_uri": "https://localhost:8080/"
        },
        "id": "4ML-zBGmBkeI",
        "outputId": "28e83936-604a-4d10-84d9-d1e9486c15a3"
      },
      "outputs": [
        {
          "name": "stdout",
          "output_type": "stream",
          "text": [
            "✅ Data Splitted Successfully...\n",
            "\n"
          ]
        }
      ],
      "source": [
        "from sklearn.model_selection import train_test_split\n",
        "\n",
        "X_train, X_test, y_train, y_test = train_test_split(X, y, test_size=0.2, random_state=42)\n",
        "\n",
        "print(\"✅ Data Splitted Successfully...\\n\")\n",
        "\n",
        "# print(\"Printing Training Sets: \")\n",
        "# print(\"> X_train: \\n\", (pd.DataFrame(X_train).head()).to_string(), \"\\n\")\n",
        "# print(\"> X_test: \\n\", (pd.DataFrame(X_test).head()).to_string(), \"\\n\")\n",
        "# print(\"\\n\")\n",
        "# print(\"Printing Test Sets: \")\n",
        "# print(\"> y_train: \\n\", (pd.DataFrame(y_train).head()).to_string(header=False), \"\\n\")\n",
        "# print(\"> y_test: \\n\", (pd.DataFrame(y_test).head()).to_string(header=False), \"\\n\")"
      ]
    },
    {
      "cell_type": "markdown",
      "metadata": {
        "id": "TpGqbS4TqkIR"
      },
      "source": [
        "## Step-5: Feature Scaling:-"
      ]
    },
    {
      "cell_type": "code",
      "execution_count": 59,
      "metadata": {
        "colab": {
          "base_uri": "https://localhost:8080/"
        },
        "id": "HKf1Or3_BlW1",
        "outputId": "49a66270-ab14-417e-8d7d-b4b8a098c13b"
      },
      "outputs": [
        {
          "name": "stdout",
          "output_type": "stream",
          "text": [
            "✅ Feature Scaling is Done Successfully...\n",
            "\n"
          ]
        }
      ],
      "source": [
        "\"\"\" Here we are not applying Feature Scaling in Dependent Variable (y), because there are only 0 and 1 values in y \"\"\"\n",
        "# StandardScaler class from scikit-learn, which is a tool for standardization and Normalization.\n",
        "from sklearn.preprocessing import StandardScaler\n",
        "\n",
        "scaler = StandardScaler()\n",
        "\n",
        "# Convert X_train and X_test to NumPy arrays if they are DataFrames\n",
        "X_train = X_train.to_numpy() if isinstance(X_train, pd.DataFrame) else X_train\n",
        "X_test = X_test.to_numpy() if isinstance(X_test, pd.DataFrame) else X_test\n",
        "\n",
        "# Iterate through columns of X_train and X_test\n",
        "for col in range(X_train.shape[1]):  # Use range to get column indices\n",
        "    # Check if all values in the column are 0 or 1\n",
        "    if np.all(np.isin(X_train[:, col], [0, 1])):\n",
        "        continue  # Skip scaling for this column\n",
        "    else:\n",
        "        # Reshape the column before scaling\n",
        "        X_train[:, col] = scaler.fit_transform(X_train[:, col].reshape(-1, 1)).flatten()\n",
        "        X_test[:, col] = scaler.transform(X_test[:, col].reshape(-1, 1)).flatten()\n",
        "\n",
        "print(\"✅ Feature Scaling is Done Successfully...\\n\")\n",
        "\n",
        "# print(\"Printing Training Sets after Feature Scaling:\")\n",
        "# print(\"> X_train: \\n\", (pd.DataFrame(X_train).head()).to_string(), \"\\n\")\n",
        "# print(\"\\n\")\n",
        "# print(\"Printing Test Sets after Feature Scaling:\")\n",
        "# print(\"> X_test: \\n\", (pd.DataFrame(X_test).head()).to_string(), \"\\n\")\n",
        "# print(\"\\n\")\n",
        "# print(pd.DataFrame(X).head().to_string())"
      ]
    },
    {
      "cell_type": "markdown",
      "metadata": {
        "id": "4ibPqcgELO4w"
      },
      "source": [
        "# ***Step-B: Model Builing & Evaluation...***"
      ]
    },
    {
      "cell_type": "code",
      "execution_count": 60,
      "metadata": {
        "colab": {
          "base_uri": "https://localhost:8080/"
        },
        "id": "srNH7MKCLO4x",
        "outputId": "ac2d23de-5eb3-4e04-dfbd-0c8778a9b0b1"
      },
      "outputs": [
        {
          "name": "stdout",
          "output_type": "stream",
          "text": [
            "✅ RandomForestClassifier is trained Sucessfully...\n",
            "-> RandomForestClassifier:-\n",
            "  Accuracy: \t 1.00\n",
            "  Precision: \t 1.00\n",
            "  Recall: \t\t 1.00\n",
            "  F1 Score: \t 1.00\n",
            "  ROC-AUC Score: 1.00\n",
            "\n",
            "\n",
            "\n"
          ]
        }
      ],
      "source": [
        "from sklearn.metrics import accuracy_score, precision_score, recall_score, f1_score, roc_auc_score\n",
        "from sklearn.ensemble import RandomForestClassifier\n",
        "\n",
        "models = {\n",
        "  RandomForestClassifier(n_estimators=100, random_state=42),\n",
        "}\n",
        "\n",
        "for model in models:\n",
        "  model.fit(X_train, y_train)\n",
        "  y_pred = model.predict(X_test)\n",
        "\n",
        "  # cv_score = cross_val_score(model, X_train, y_train, cv=5)\n",
        "  print(f\"✅ {model.__class__.__name__} is trained Sucessfully...\")\n",
        "  print(f\"-> {model.__class__.__name__}:-\")\n",
        "  print(f\"  Accuracy: \\t {accuracy_score(y_test, y_pred):.2f}\")\n",
        "  print(f\"  Precision: \\t {precision_score(y_test, y_pred):.2f}\")\n",
        "  print(f\"  Recall: \\t\\t {recall_score(y_test, y_pred):.2f}\")\n",
        "  print(f\"  F1 Score: \\t {f1_score(y_test, y_pred):.2f}\")\n",
        "  print(f\"  ROC-AUC Score: {roc_auc_score(y_test, y_pred):.2f}\\n\")\n",
        "  print(\"\\n\")\n"
      ]
    },
    {
      "cell_type": "markdown",
      "metadata": {
        "id": "Pny798jjSDG8"
      },
      "source": [
        "# ***Step-C: Saving the Model & Testing It...***"
      ]
    },
    {
      "cell_type": "markdown",
      "metadata": {
        "id": "ePeQfcipSDG-"
      },
      "source": [
        "## Step-1: Saving the Model(.sav):-"
      ]
    },
    {
      "cell_type": "code",
      "execution_count": 61,
      "metadata": {
        "colab": {
          "base_uri": "https://localhost:8080/"
        },
        "id": "yYfY0iYBSDHB",
        "outputId": "7187c324-0191-4cd7-bdbc-a4bc7226e3f6"
      },
      "outputs": [
        {
          "name": "stdout",
          "output_type": "stream",
          "text": [
            "✅ Model saved: KIDNEY_Disease_Prediction_Model.pkl\n"
          ]
        }
      ],
      "source": [
        "import joblib\n",
        "\n",
        "joblib.dump(model, f'../saved_models/KIDNEY_Disease_Prediction_Model.pkl')\n",
        "print(f\"✅ Model saved: KIDNEY_Disease_Prediction_Model.pkl\")"
      ]
    },
    {
      "cell_type": "markdown",
      "metadata": {
        "id": "eDkDvyfWSDHD"
      },
      "source": [
        "## Step-2: Predicting and Testing the Model:-"
      ]
    },
    {
      "cell_type": "code",
      "execution_count": 62,
      "metadata": {
        "colab": {
          "base_uri": "https://localhost:8080/"
        },
        "id": "FKCjM66sSDHE",
        "outputId": "8294b64b-379f-497f-96ca-cad6f0e8ee03"
      },
      "outputs": [
        {
          "name": "stdout",
          "output_type": "stream",
          "text": [
            "Number of Inputs for Predction:  4 \n",
            "\n",
            "Before Predicting, Sample Data & Output Sales are:-\n",
            "> Sample Data:  [[0.00 1.00 1.00 0.00 0.00 1.00 1.00 0.00 0.00 0.00 0.00 0.00 0.00 0.00\n",
            "  0.00 0.00 0.00 0.00 0.00 0.00 0.00 0.00 0.00 0.00 0.00 0.00 0.00 0.00\n",
            "  1.00 0.00 0.00 0.00 0.00 0.00 0.00 0.00 0.00 0.00 0.00 0.00 0.00 0.00\n",
            "  0.00 0.00 0.00 0.00 0.00 0.00 0.00 0.00 0.00 0.00 0.00 0.00 0.00 0.00\n",
            "  0.00 0.00 0.00 0.00 0.00 0.00 0.00 0.00 0.00 0.00 0.00 0.00 0.00 0.00\n",
            "  0.00 0.00 0.00 0.00 0.00 0.00 0.00 0.00 0.00 0.00 0.00 0.00 0.00 0.00\n",
            "  0.00 0.00 0.00 0.00 0.00 0.00 0.00 0.00 0.00 0.00 0.00 0.00 0.00 0.00\n",
            "  0.00 0.00 0.00 0.00 0.00 0.00 0.00 0.00 0.00 0.00 0.00 0.00 0.00 0.00\n",
            "  0.00 0.00 1.00 0.00 0.00 0.00 0.00 0.00 0.00 0.00 0.00 0.00 0.00 0.00\n",
            "  0.00 0.00 0.00 0.00 0.00 0.00 0.00 0.00 0.00 0.00 0.00 0.00 0.00 0.00\n",
            "  0.00 0.00 0.00 0.00 0.00 0.00 0.00 0.00 0.00 0.00 0.00 0.00 0.00 0.00\n",
            "  0.00 0.00 0.00 0.00 0.00 0.00 0.00 0.00 0.00 1.00 0.00 0.00 0.00 0.00\n",
            "  0.00 0.00 0.00 0.00 0.00 0.00 0.00 0.00 0.00 0.00 0.00 0.00 0.00 0.00\n",
            "  0.00 0.00 0.00 0.00 0.00 0.00 0.00 0.00 0.00 0.00 0.00 0.00 1.00 0.00\n",
            "  1.00 0.00 1.00 0.00 0.00 1.00 0.00 1.00 0.00 1.00 -1.77 -0.17 -0.43\n",
            "  -2.29 2.39 -0.44 -0.45 0.01 0.17 -2.71 -0.70 -0.52]]\n",
            "> Output:  0 \n",
            "\n",
            " - Predicted Sales: 0.00\n",
            "\t✅ Nice Work! your Prediction is correct...\n",
            "\n",
            "=========================================================================== \n",
            "\n",
            "Before Predicting, Sample Data & Output Sales are:-\n",
            "> Sample Data:  [[0.00 1.00 0.00 1.00 1.00 0.00 1.00 0.00 0.00 0.00 0.00 0.00 0.00 0.00\n",
            "  0.00 0.00 0.00 0.00 0.00 0.00 0.00 0.00 0.00 0.00 0.00 0.00 0.00 0.00\n",
            "  0.00 0.00 0.00 0.00 0.00 1.00 0.00 0.00 0.00 0.00 0.00 0.00 0.00 0.00\n",
            "  0.00 0.00 0.00 0.00 0.00 0.00 0.00 0.00 0.00 0.00 0.00 0.00 0.00 0.00\n",
            "  0.00 0.00 0.00 0.00 0.00 0.00 0.00 0.00 0.00 1.00 0.00 0.00 0.00 0.00\n",
            "  0.00 0.00 0.00 0.00 0.00 0.00 0.00 0.00 0.00 0.00 0.00 0.00 0.00 0.00\n",
            "  0.00 0.00 0.00 0.00 0.00 0.00 0.00 0.00 0.00 0.00 0.00 0.00 0.00 0.00\n",
            "  0.00 0.00 0.00 0.00 0.00 0.00 0.00 0.00 0.00 0.00 0.00 0.00 0.00 0.00\n",
            "  0.00 0.00 0.00 0.00 0.00 0.00 0.00 0.00 0.00 0.00 0.00 0.00 0.00 0.00\n",
            "  0.00 0.00 0.00 0.00 0.00 0.00 0.00 0.00 0.00 0.00 0.00 0.00 0.00 0.00\n",
            "  0.00 0.00 0.00 0.00 0.00 0.00 0.00 0.00 0.00 0.00 0.00 0.00 0.00 0.00\n",
            "  0.00 0.00 0.00 0.00 0.00 0.00 0.00 0.00 0.00 0.00 0.00 0.00 0.00 0.00\n",
            "  1.00 0.00 0.00 0.00 0.00 0.00 0.00 0.00 0.00 0.00 0.00 0.00 0.00 0.00\n",
            "  0.00 0.00 0.00 0.00 0.00 0.00 0.00 0.00 0.00 0.00 0.00 0.00 1.00 0.00\n",
            "  0.00 1.00 0.00 1.00 1.00 0.00 1.00 0.00 1.00 0.00 -1.63 0.52 1.74 1.39\n",
            "  -0.79 2.54 1.54 -0.58 -0.29 -0.25 -0.12 0.04]]\n",
            "> Output:  0 \n",
            "\n",
            " - Predicted Sales: 0.00\n",
            "\t✅ Nice Work! your Prediction is correct...\n",
            "\n",
            "=========================================================================== \n",
            "\n",
            "Before Predicting, Sample Data & Output Sales are:-\n",
            "> Sample Data:  [[0.00 1.00 0.00 1.00 1.00 0.00 1.00 0.00 0.00 0.00 0.00 0.00 0.00 0.00\n",
            "  0.00 0.00 0.00 0.00 0.00 0.00 1.00 0.00 0.00 0.00 0.00 0.00 0.00 0.00\n",
            "  0.00 0.00 0.00 0.00 0.00 0.00 0.00 0.00 0.00 0.00 0.00 0.00 0.00 0.00\n",
            "  0.00 0.00 0.00 0.00 0.00 0.00 0.00 0.00 0.00 0.00 0.00 0.00 0.00 0.00\n",
            "  0.00 0.00 0.00 0.00 0.00 0.00 0.00 0.00 0.00 0.00 0.00 0.00 0.00 0.00\n",
            "  0.00 0.00 0.00 0.00 0.00 0.00 0.00 0.00 0.00 0.00 0.00 0.00 0.00 0.00\n",
            "  0.00 0.00 0.00 0.00 0.00 0.00 0.00 0.00 0.00 0.00 0.00 0.00 0.00 0.00\n",
            "  0.00 0.00 0.00 0.00 0.00 0.00 0.00 0.00 0.00 0.00 0.00 0.00 0.00 0.00\n",
            "  0.00 0.00 0.00 0.00 0.00 0.00 0.00 0.00 0.00 0.00 0.00 0.00 0.00 0.00\n",
            "  0.00 0.00 0.00 0.00 0.00 0.00 0.00 0.00 0.00 0.00 0.00 0.00 0.00 0.00\n",
            "  0.00 0.00 1.00 0.00 0.00 0.00 0.00 0.00 0.00 0.00 0.00 0.00 0.00 0.00\n",
            "  0.00 0.00 0.00 0.00 0.00 0.00 0.00 0.00 0.00 0.00 0.00 0.00 0.00 0.00\n",
            "  0.00 0.00 0.00 0.00 0.00 0.00 0.00 0.00 0.00 0.00 1.00 0.00 0.00 0.00\n",
            "  0.00 0.00 0.00 0.00 0.00 0.00 0.00 0.00 0.00 0.00 0.00 1.00 0.00 0.00\n",
            "  0.00 1.00 1.00 0.00 1.00 0.00 1.00 0.00 0.00 1.00 -0.00 1.56 -1.16\n",
            "  -0.01 0.02 0.01 -0.49 0.38 0.00 -0.25 0.39 -1.73]]\n",
            "> Output:  0 \n",
            "\n",
            " - Predicted Sales: 0.00\n",
            "\t✅ Nice Work! your Prediction is correct...\n",
            "\n",
            "=========================================================================== \n",
            "\n",
            "Before Predicting, Sample Data & Output Sales are:-\n",
            "> Sample Data:  [[0.00 1.00 0.00 1.00 1.00 0.00 1.00 0.00 0.00 0.00 0.00 0.00 0.00 0.00\n",
            "  0.00 0.00 0.00 0.00 0.00 0.00 0.00 0.00 0.00 0.00 0.00 0.00 0.00 0.00\n",
            "  0.00 0.00 0.00 0.00 0.00 0.00 0.00 0.00 0.00 0.00 0.00 0.00 0.00 0.00\n",
            "  0.00 0.00 1.00 0.00 0.00 0.00 0.00 0.00 0.00 0.00 0.00 0.00 0.00 0.00\n",
            "  0.00 1.00 0.00 0.00 0.00 0.00 0.00 0.00 0.00 0.00 0.00 0.00 0.00 0.00\n",
            "  0.00 0.00 0.00 0.00 0.00 0.00 0.00 0.00 0.00 0.00 0.00 0.00 0.00 0.00\n",
            "  0.00 0.00 0.00 0.00 0.00 0.00 0.00 0.00 0.00 0.00 0.00 0.00 0.00 0.00\n",
            "  0.00 0.00 0.00 0.00 0.00 0.00 0.00 0.00 0.00 0.00 0.00 0.00 0.00 0.00\n",
            "  0.00 0.00 0.00 0.00 0.00 0.00 0.00 0.00 0.00 0.00 0.00 0.00 0.00 0.00\n",
            "  0.00 0.00 0.00 0.00 0.00 0.00 0.00 0.00 0.00 0.00 0.00 0.00 0.00 0.00\n",
            "  0.00 0.00 0.00 0.00 0.00 0.00 0.00 0.00 0.00 0.00 0.00 0.00 0.00 0.00\n",
            "  0.00 0.00 0.00 0.00 0.00 0.00 0.00 0.00 0.00 0.00 0.00 0.00 0.00 0.00\n",
            "  0.00 0.00 1.00 0.00 0.00 0.00 0.00 0.00 0.00 0.00 0.00 0.00 0.00 0.00\n",
            "  0.00 0.00 0.00 0.00 0.00 0.00 0.00 0.00 0.00 0.00 0.00 1.00 0.00 0.00\n",
            "  1.00 0.00 1.00 0.00 1.00 0.00 1.00 0.00 1.00 0.00 0.42 -0.63 0.29 1.39\n",
            "  -0.79 -0.44 -0.14 -0.93 -0.31 -0.25 0.10 0.91]]\n",
            "> Output:  1 \n",
            "\n",
            " - Predicted Sales: 1.00\n",
            "\t✅ Nice Work! your Prediction is correct...\n",
            "\n",
            "=========================================================================== \n",
            "\n"
          ]
        }
      ],
      "source": [
        "correct_predictions = 0\n",
        "max_correct_predictions = 0\n",
        "model_predictions = {} # dictionary to store model and their correct predictions\n",
        "\n",
        "random_value = np.random.randint(3, 5)\n",
        "print(\"Number of Inputs for Predction: \", random_value, \"\\n\")\n",
        "\n",
        "for i in range(random_value):\n",
        "  sample_input = pd.DataFrame(X_train).iloc[i].values.reshape(1, -1)  # Convert a row to an array\n",
        "  sample_output = round(y_train[i], 2)\n",
        "\n",
        "  print(\"Before Predicting, Sample Data & Output Sales are:-\")\n",
        "  print(\"> Sample Data: \", sample_input)\n",
        "  print(\"> Output: \",sample_output, \"\\n\")\n",
        "\n",
        "  model = joblib.load(f\"../saved_models/KIDNEY_Disease_Prediction_Model.pkl\")\n",
        "  prediction = model.predict(sample_input)\n",
        "  rounded_prediction = round(prediction[0], 2)\n",
        "  print(f\" - Predicted Sales: {rounded_prediction:.2f}\")\n",
        "\n",
        "  if rounded_prediction == sample_output:\n",
        "      correct_predictions += 1\n",
        "      print(\"\\t✅ Nice Work! your Prediction is correct...\\n\")\n",
        "      # increment correct prediction count for the model in the dictionary\n",
        "      model_predictions[model.__class__.__name__] = model_predictions.get(model.__class__.__name__, 0) + 1\n",
        "  else:\n",
        "      print(\"\\t❌ Oops! your Prediction is incorrect...\\n\")\n",
        "\n",
        "  print(\"=\"*75, \"\\n\")"
      ]
    },
    {
      "cell_type": "code",
      "execution_count": 63,
      "metadata": {
        "colab": {
          "base_uri": "https://localhost:8080/"
        },
        "id": "7F1XGCqG25wS",
        "outputId": "c552ebab-b4b9-4aeb-aa3d-7423bde9972b"
      },
      "outputs": [
        {
          "name": "stdout",
          "output_type": "stream",
          "text": [
            "- ✅ 'RandomForestClassifier' has achieved:\n",
            "\t\t\t '4' out of 4 correct predictions\n"
          ]
        }
      ],
      "source": [
        "# Instead of using max, we'll iterate and check for at least one correct prediction\n",
        "models_with_correct_predictions = []  # List to store models with at least one correct prediction\n",
        "\n",
        "for model_name, correct_count in model_predictions.items():\n",
        "    if correct_count >= 1:  # Check for at least one correct prediction\n",
        "        models_with_correct_predictions.append(model_name)\n",
        "\n",
        "# Print the results\n",
        "if models_with_correct_predictions:\n",
        "    for model_name in models_with_correct_predictions:\n",
        "        print(f\"- ✅ '{model_name}' has achieved:\\n\\t\\t\\t '{model_predictions[model_name]}' out of {random_value} correct predictions\")\n",
        "else:\n",
        "    print(\"No models achieved any correct predictions on the samples.\")"
      ]
    },
    {
      "cell_type": "markdown",
      "metadata": {
        "id": "o1eEhXlFSDHE"
      },
      "source": [
        "## Step-3: Predicting the Result from saved Model:-"
      ]
    },
    {
      "cell_type": "code",
      "execution_count": 64,
      "metadata": {
        "id": "w0FjSoO1MGBU"
      },
      "outputs": [],
      "source": [
        "# random_input = np.random.randint(1, 50)\n",
        "# print(f\"Row '{random_input}' for Predction: \\n\")\n",
        "\n",
        "# input_data = pd.DataFrame(input_features).iloc[random_input]  # Convert a row to an array\n",
        "# # changing input data to a numpy array\n",
        "# input_data_as_array = np.asarray(input_data).reshape(1,-1)\n",
        "\n",
        "# feature_names = pd.DataFrame(input_features).columns  # Get the feature names (column names)\n",
        "# # feature_names = pd.DataFrame(X).columns.astype(str)\n",
        "\n",
        "# # Create a dictionary of feature names and values for the selected row\n",
        "# input_data_dict = dict(zip(feature_names, input_data.values))\n",
        "# max_feature_name_length = max(len(name) for name in feature_names)\n",
        "\n",
        "# for feature_name, value in input_data_dict.items():\n",
        "#     print(f\"{feature_name:{max_feature_name_length}} = \\t{value}\")  # Alignment using string formatting\n",
        "# print(\"\\n\")  # Add a newline for better readability\n",
        "\n",
        "# model = pickle.load(open(f\"RandomForestClassifier.sav\", \"rb\"))\n",
        "\n",
        "# prediction = model.predict(input_data_as_array)\n",
        "# print(f\"{'Outcome_Prediction':{max_feature_name_length}} = \\t{prediction[0]}\", \"\\n\")  # Alignment for prediction\n",
        "\n",
        "# if (prediction[0] == 0):\n",
        "#   print(\"😃 Yeah! The Person does not have Heart Disease...\")\n",
        "\n",
        "# else:\n",
        "#   print(\"⚠️ Oops! The Person has a Heart Disease...\")"
      ]
    },
    {
      "cell_type": "code",
      "execution_count": 65,
      "metadata": {
        "id": "kF9VYc3t8O37"
      },
      "outputs": [],
      "source": [
        "# random_input = np.random.randint(1, 50)\n",
        "# print(f\"Row '{random_input}' for Predction: \\n\")\n",
        "\n",
        "# # Use the encoded features (X) instead of the original features (input_features)\n",
        "# input_data = pd.DataFrame(X).iloc[random_input]  # Convert a row to an array\n",
        "\n",
        "# # changing input data to a numpy array\n",
        "# input_data_as_array = np.asarray(input_data).reshape(1,-1)\n",
        "\n",
        "# # Get feature names from the encoded features (X)\n",
        "# feature_names = pd.DataFrame(X).columns  # Get the feature names (column names)\n",
        "# # feature_names = pd.DataFrame(X).columns.astype(str)  # If you need them as strings\n",
        "\n",
        "# # Create a dictionary of feature names and values for the selected row\n",
        "# input_data_dict = dict(zip(feature_names, input_data.values))\n",
        "# max_feature_name_length = max(len(str(name)) for name in feature_names) # Convert feature names to strings for length calculation\n",
        "\n",
        "\n",
        "# for feature_name, value in input_data_dict.items():\n",
        "#     print(f\"{feature_name:{max_feature_name_length}} = \\t{value}\")  # Alignment using string formatting\n",
        "# print(\"\\n\")  # Add a newline for better readability\n",
        "\n",
        "# model = pickle.load(open(f\"RandomForestClassifier.sav\", \"rb\"))\n",
        "\n",
        "# prediction = model.predict(input_data_as_array)\n",
        "# print(f\"{'Outcome_Prediction':{max_feature_name_length}} = \\t{prediction[0]}\", \"\\n\")  # Alignment for prediction\n",
        "\n",
        "# if (prediction[0] == 0):\n",
        "#   print(\"😃 Yeah! The Person does not have Heart Disease...\")\n",
        "\n",
        "# else:\n",
        "#   print(\"⚠️ Oops! The Person has a Heart Disease...\")"
      ]
    }
  ],
  "metadata": {
    "colab": {
      "collapsed_sections": [
        "LbMfPnCfAryw"
      ],
      "include_colab_link": true,
      "provenance": []
    },
    "kernelspec": {
      "display_name": "Python 3",
      "name": "python3"
    },
    "language_info": {
      "codemirror_mode": {
        "name": "ipython",
        "version": 3
      },
      "file_extension": ".py",
      "mimetype": "text/x-python",
      "name": "python",
      "nbconvert_exporter": "python",
      "pygments_lexer": "ipython3",
      "version": "3.12.9"
    }
  },
  "nbformat": 4,
  "nbformat_minor": 0
}
