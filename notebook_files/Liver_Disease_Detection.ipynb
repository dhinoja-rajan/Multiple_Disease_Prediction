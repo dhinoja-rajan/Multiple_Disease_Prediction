{
  "cells": [
    {
      "cell_type": "markdown",
      "metadata": {
        "colab_type": "text",
        "id": "view-in-github"
      },
      "source": [
        "<a href=\"https://colab.research.google.com/github/rajan-dhinoja/Multiple_Disease_Prediction/blob/main/notebook_files/Liver_Disease_Detection.ipynb\" target=\"_parent\"><img src=\"https://colab.research.google.com/assets/colab-badge.svg\" alt=\"Open In Colab\"/></a>"
      ]
    },
    {
      "cell_type": "markdown",
      "metadata": {
        "id": "KBPGWkUlq5PL"
      },
      "source": [
        "---\n",
        "# **Classification Template**\n",
        "---\n",
        "\n"
      ]
    },
    {
      "cell_type": "markdown",
      "metadata": {
        "id": "HvALcJ3yAryu"
      },
      "source": [
        "# ***Step-A: Data Preprocessing:-***"
      ]
    },
    {
      "cell_type": "markdown",
      "metadata": {
        "id": "LbMfPnCfAryw"
      },
      "source": [
        "## Step-1: Import Required Dependencies:-\n",
        "Import essential libraries and modules for data manipulation, visualization, and preprocessing..."
      ]
    },
    {
      "cell_type": "code",
      "execution_count": 2,
      "metadata": {
        "colab": {
          "base_uri": "https://localhost:8080/"
        },
        "id": "MmgVQ5oeAryx",
        "outputId": "f2c31d35-12ea-48d3-d6c3-b153cb9eda2c"
      },
      "outputs": [
        {
          "name": "stdout",
          "output_type": "stream",
          "text": [
            "✅ Required Libraries are Imported - Done!\n",
            "\n"
          ]
        }
      ],
      "source": [
        "# from google.colab import drive\n",
        "# drive.mount('/content/drive')\n",
        "\n",
        "import numpy as np\n",
        "import matplotlib.pyplot as plt\n",
        "import pandas as pd\n",
        "import seaborn as sns\n",
        "import re\n",
        "import nltk\n",
        "import warnings\n",
        "warnings.filterwarnings('ignore')\n",
        "\n",
        "# Set the option to prevent silent downcasting\n",
        "np.set_printoptions(formatter={'float': '{:,.2f}'.format}, suppress=True, precision=2)\n",
        "pd.options.display.float_format = '{:,.2f}'.format\n",
        "pd.set_option('future.no_silent_downcasting', True)\n",
        "\n",
        "print(\"✅ Required Libraries are Imported - Done!\\n\")"
      ]
    },
    {
      "cell_type": "markdown",
      "metadata": {
        "id": "yVRL8v08Aryx"
      },
      "source": [
        "## Step-2: Load the Dataset and Display Different overviews of Datasets:-"
      ]
    },
    {
      "cell_type": "code",
      "execution_count": 3,
      "metadata": {
        "colab": {
          "base_uri": "https://localhost:8080/",
          "height": 0
        },
        "id": "xBtYmKrSAryy",
        "outputId": "79008545-08b9-4223-807b-0161323173b2"
      },
      "outputs": [
        {
          "data": {
            "text/html": [
              "<div>\n",
              "<style scoped>\n",
              "    .dataframe tbody tr th:only-of-type {\n",
              "        vertical-align: middle;\n",
              "    }\n",
              "\n",
              "    .dataframe tbody tr th {\n",
              "        vertical-align: top;\n",
              "    }\n",
              "\n",
              "    .dataframe thead th {\n",
              "        text-align: right;\n",
              "    }\n",
              "</style>\n",
              "<table border=\"1\" class=\"dataframe\">\n",
              "  <thead>\n",
              "    <tr style=\"text-align: right;\">\n",
              "      <th></th>\n",
              "      <th>age</th>\n",
              "      <th>gender</th>\n",
              "      <th>tot_bilirubin</th>\n",
              "      <th>direct_bilirubin</th>\n",
              "      <th>tot_proteins</th>\n",
              "      <th>albumin</th>\n",
              "      <th>ag_ratio</th>\n",
              "      <th>sgpt</th>\n",
              "      <th>sgot</th>\n",
              "      <th>alkphos</th>\n",
              "      <th>is_patient</th>\n",
              "    </tr>\n",
              "  </thead>\n",
              "  <tbody>\n",
              "    <tr>\n",
              "      <th>578</th>\n",
              "      <td>60</td>\n",
              "      <td>Male</td>\n",
              "      <td>0.50</td>\n",
              "      <td>0.10</td>\n",
              "      <td>500</td>\n",
              "      <td>20</td>\n",
              "      <td>34</td>\n",
              "      <td>5.90</td>\n",
              "      <td>1.60</td>\n",
              "      <td>0.37</td>\n",
              "      <td>2</td>\n",
              "    </tr>\n",
              "    <tr>\n",
              "      <th>579</th>\n",
              "      <td>40</td>\n",
              "      <td>Male</td>\n",
              "      <td>0.60</td>\n",
              "      <td>0.10</td>\n",
              "      <td>98</td>\n",
              "      <td>35</td>\n",
              "      <td>31</td>\n",
              "      <td>6.00</td>\n",
              "      <td>3.20</td>\n",
              "      <td>1.10</td>\n",
              "      <td>1</td>\n",
              "    </tr>\n",
              "    <tr>\n",
              "      <th>580</th>\n",
              "      <td>52</td>\n",
              "      <td>Male</td>\n",
              "      <td>0.80</td>\n",
              "      <td>0.20</td>\n",
              "      <td>245</td>\n",
              "      <td>48</td>\n",
              "      <td>49</td>\n",
              "      <td>6.40</td>\n",
              "      <td>3.20</td>\n",
              "      <td>1.00</td>\n",
              "      <td>1</td>\n",
              "    </tr>\n",
              "    <tr>\n",
              "      <th>581</th>\n",
              "      <td>31</td>\n",
              "      <td>Male</td>\n",
              "      <td>1.30</td>\n",
              "      <td>0.50</td>\n",
              "      <td>184</td>\n",
              "      <td>29</td>\n",
              "      <td>32</td>\n",
              "      <td>6.80</td>\n",
              "      <td>3.40</td>\n",
              "      <td>1.00</td>\n",
              "      <td>1</td>\n",
              "    </tr>\n",
              "    <tr>\n",
              "      <th>582</th>\n",
              "      <td>38</td>\n",
              "      <td>Male</td>\n",
              "      <td>1.00</td>\n",
              "      <td>0.30</td>\n",
              "      <td>216</td>\n",
              "      <td>21</td>\n",
              "      <td>24</td>\n",
              "      <td>7.30</td>\n",
              "      <td>4.40</td>\n",
              "      <td>1.50</td>\n",
              "      <td>2</td>\n",
              "    </tr>\n",
              "  </tbody>\n",
              "</table>\n",
              "</div>"
            ],
            "text/plain": [
              "     age gender  tot_bilirubin  direct_bilirubin  tot_proteins  albumin  \\\n",
              "578   60   Male           0.50              0.10           500       20   \n",
              "579   40   Male           0.60              0.10            98       35   \n",
              "580   52   Male           0.80              0.20           245       48   \n",
              "581   31   Male           1.30              0.50           184       29   \n",
              "582   38   Male           1.00              0.30           216       21   \n",
              "\n",
              "     ag_ratio  sgpt  sgot  alkphos  is_patient  \n",
              "578        34  5.90  1.60     0.37           2  \n",
              "579        31  6.00  3.20     1.10           1  \n",
              "580        49  6.40  3.20     1.00           1  \n",
              "581        32  6.80  3.40     1.00           1  \n",
              "582        24  7.30  4.40     1.50           2  "
            ]
          },
          "execution_count": 3,
          "metadata": {},
          "output_type": "execute_result"
        }
      ],
      "source": [
        "# dataset = pd.DataFrame(pd.read_csv('/content/drive/MyDrive/Datasets/CLASSIFICATION/Multiple_Diseases/liver.csv'))\n",
        "dataset = pd.DataFrame(pd.read_csv('../datasets/liver.csv'))\n",
        "# dataset.head()\n",
        "dataset.tail()"
      ]
    },
    {
      "cell_type": "code",
      "execution_count": 3,
      "metadata": {
        "colab": {
          "base_uri": "https://localhost:8080/",
          "height": 0
        },
        "id": "_z7mUwRhXBoc",
        "outputId": "b6979135-55c1-4bc2-dcea-e256b9f42e4c"
      },
      "outputs": [
        {
          "data": {
            "image/png": "[encoded data removed]",
            "text/plain": [
              "<Figure size 640x480 with 1 Axes>"
            ]
          },
          "metadata": {},
          "output_type": "display_data"
        }
      ],
      "source": [
        "# plt.figure(figsize=(10, 6))\n",
        "# Plot target distribution\n",
        "sns.histplot(dataset.iloc[:, -1], bins=30, kde=True)\n",
        "plt.title('Distribution of Last Column')\n",
        "plt.show()"
      ]
    },
    {
      "cell_type": "code",
      "execution_count": 4,
      "metadata": {
        "colab": {
          "base_uri": "https://localhost:8080/"
        },
        "id": "zcZDaNI0I-4g",
        "outputId": "a90edee4-9d78-43e8-bbac-c16d28de001c"
      },
      "outputs": [
        {
          "name": "stdout",
          "output_type": "stream",
          "text": [
            "✅ Categorical Columns found: \n",
            " Index(['gender'], dtype='object') \n",
            "\n",
            "✅ Numerical Columns found: \n",
            " Index(['age', 'tot_bilirubin', 'direct_bilirubin', 'tot_proteins', 'albumin',\n",
            "       'ag_ratio', 'sgpt', 'sgot', 'alkphos', 'is_patient'],\n",
            "      dtype='object')\n"
          ]
        }
      ],
      "source": [
        "# Seperate the whole datset into categorical and numerical columns...\n",
        "\n",
        "categorical_cols = dataset.select_dtypes(include=['object']).columns\n",
        "numerical_cols = dataset.select_dtypes(exclude=['object']).columns\n",
        "\n",
        "if categorical_cols.empty:\n",
        "  print(\"❌ No Categorical Columns Found...\")\n",
        "else:\n",
        "  print(\"✅ Categorical Columns found: \\n\", categorical_cols, \"\\n\")\n",
        "\n",
        "if numerical_cols.empty:\n",
        "  print(\"❌ No Numerical Columns Found...\")\n",
        "else:\n",
        "  print(\"✅ Numerical Columns found: \\n\", numerical_cols)"
      ]
    },
    {
      "cell_type": "code",
      "execution_count": 5,
      "metadata": {
        "colab": {
          "base_uri": "https://localhost:8080/"
        },
        "collapsed": true,
        "id": "ZW3HjieQAry2",
        "outputId": "711a3f01-a1cd-4629-a07a-afa08c1d181c"
      },
      "outputs": [
        {
          "name": "stdout",
          "output_type": "stream",
          "text": [
            "> Shape of the Dataset:  (583, 11) \n",
            "\n",
            "> Information about Dataset:\n",
            "<class 'pandas.core.frame.DataFrame'>\n",
            "RangeIndex: 583 entries, 0 to 582\n",
            "Data columns (total 11 columns):\n",
            " #   Column            Non-Null Count  Dtype  \n",
            "---  ------            --------------  -----  \n",
            " 0   age               583 non-null    int64  \n",
            " 1   gender            583 non-null    object \n",
            " 2   tot_bilirubin     583 non-null    float64\n",
            " 3   direct_bilirubin  583 non-null    float64\n",
            " 4   tot_proteins      583 non-null    int64  \n",
            " 5   albumin           583 non-null    int64  \n",
            " 6   ag_ratio          583 non-null    int64  \n",
            " 7   sgpt              583 non-null    float64\n",
            " 8   sgot              583 non-null    float64\n",
            " 9   alkphos           579 non-null    float64\n",
            " 10  is_patient        583 non-null    int64  \n",
            "dtypes: float64(5), int64(5), object(1)\n",
            "memory usage: 50.2+ KB\n",
            "None \n",
            "\n",
            "> Statistical summary of the Dataset:\n",
            "         age  tot_bilirubin  direct_bilirubin  tot_proteins  albumin  ag_ratio   sgpt   sgot  alkphos  is_patient\n",
            "count 583.00         583.00            583.00        583.00   583.00    583.00 583.00 583.00   579.00      583.00\n",
            "mean   44.75           3.30              1.49        290.58    80.71    109.91   6.48   3.14     0.95        1.29\n",
            "std    16.19           6.21              2.81        242.94   182.62    288.92   1.09   0.80     0.32        0.45\n",
            "min     4.00           0.40              0.10         63.00    10.00     10.00   2.70   0.90     0.30        1.00\n",
            "25%    33.00           0.80              0.20        175.50    23.00     25.00   5.80   2.60     0.70        1.00\n",
            "50%    45.00           1.00              0.30        208.00    35.00     42.00   6.60   3.10     0.93        1.00\n",
            "75%    58.00           2.60              1.30        298.00    60.50     87.00   7.20   3.80     1.10        2.00\n",
            "max    90.00          75.00             19.70      2,110.00 2,000.00  4,929.00   9.60   5.50     2.80        2.00\n"
          ]
        }
      ],
      "source": [
        "print(\"> Shape of the Dataset: \", dataset.shape, \"\\n\")\n",
        "print(\"> Information about Dataset:\")\n",
        "print(dataset.info(), \"\\n\")\n",
        "print(\"> Statistical summary of the Dataset:\")\n",
        "# print(dataset.describe().map(lambda x: round(x, 4)))\n",
        "print(dataset.describe().to_string(header=True))"
      ]
    },
    {
      "cell_type": "code",
      "execution_count": 6,
      "metadata": {
        "colab": {
          "base_uri": "https://localhost:8080/",
          "height": 0
        },
        "id": "5bMrljUcI9zR",
        "outputId": "5cc116ea-fb58-40fa-c0fc-ca7c2c6762f3"
      },
      "outputs": [
        {
          "data": {
            "image/png": "[encoded data removed]",
            "text/plain": [
              "<Figure size 1000x600 with 2 Axes>"
            ]
          },
          "metadata": {},
          "output_type": "display_data"
        }
      ],
      "source": [
        "# Correlation Matrix Heatmap\n",
        "plt.figure(figsize=(10, 6))\n",
        "sns.heatmap(dataset[numerical_cols].corr(), annot=True, cmap='coolwarm')\n",
        "plt.title('Correlation Matrix \\n',fontsize=20,  fontweight=800)\n",
        "plt.show()"
      ]
    },
    {
      "cell_type": "markdown",
      "metadata": {
        "id": "e0E0usXBAry4"
      },
      "source": [
        "## Step-3:- Checking the Dataset:-"
      ]
    },
    {
      "cell_type": "markdown",
      "metadata": {
        "id": "PSX5IX9RAry5"
      },
      "source": [
        "### Step-3.1: Checking any Duplicate Data and Handling them:-"
      ]
    },
    {
      "cell_type": "code",
      "execution_count": 7,
      "metadata": {
        "colab": {
          "base_uri": "https://localhost:8080/"
        },
        "id": "XzvdrZlWAry5",
        "outputId": "d279e44f-3dcc-4e52-b673-279d6b52266f"
      },
      "outputs": [
        {
          "name": "stdout",
          "output_type": "stream",
          "text": [
            "✅ Duplicate Data(or Identical Rows) found and Removed...\n"
          ]
        }
      ],
      "source": [
        "if dataset.duplicated().any():\n",
        "  dataset.drop_duplicates(inplace=True)\n",
        "  print(\"✅ Duplicate Data(or Identical Rows) found and Removed...\")\n",
        "else:\n",
        "    print(\"❌ No Duplicate Data(or Identical Rows) found...\")"
      ]
    },
    {
      "cell_type": "markdown",
      "metadata": {
        "id": "FKBEjTdDAry6"
      },
      "source": [
        "### Step-3.2: Cheking any Missing Data and Handling them:-"
      ]
    },
    {
      "cell_type": "code",
      "execution_count": 8,
      "metadata": {
        "colab": {
          "base_uri": "https://localhost:8080/"
        },
        "id": "vg_Slpg2Ary7",
        "outputId": "e29dd068-8f37-4fe8-ae21-7a8fa1e0d122"
      },
      "outputs": [
        {
          "name": "stdout",
          "output_type": "stream",
          "text": [
            "⚠️ Missing Data Found! Handling them...\n",
            "\n",
            "Missing Data Counts in Categorical Columns: \n",
            " gender    0\n",
            "dtype: int64\n",
            "\n",
            "\n",
            "Missing Data Counts in Numerical Columns: \n",
            " age                 0\n",
            "tot_bilirubin       0\n",
            "direct_bilirubin    0\n",
            "tot_proteins        0\n",
            "albumin             0\n",
            "ag_ratio            0\n",
            "sgpt                0\n",
            "sgot                0\n",
            "alkphos             4\n",
            "is_patient          0\n",
            "dtype: int64\n",
            "\n",
            "\n",
            "✅ Missing Data Handled Successfully...\n"
          ]
        }
      ],
      "source": [
        "# Here from the module named impute of the library scikit-learn, we are using the SimpleImputer Class to Handle the Missing Values.\n",
        "from sklearn.impute import SimpleImputer\n",
        "\n",
        "missing_data_counts = dataset.isnull().sum() + dataset.isin(['', 'N/A', 'Unknown', 'NaN']).sum()\n",
        "\n",
        "# if dataset.isnull().values.any() or dataset.isin(['', 'NaN', 'N/A', 'Unknown']).any().any():\n",
        "if missing_data_counts.any():\n",
        "\n",
        "  categorical_missing_counts = dataset[categorical_cols].isnull().sum() + dataset[categorical_cols].isin(['', 'N/A', 'Unknown', 'NaN']).sum()\n",
        "  numerical_missing_counts = dataset[numerical_cols].isnull().sum()\n",
        "\n",
        "  # Replace \"Unknown\" with NaN in categorical columns\n",
        "  for col in categorical_cols:\n",
        "    dataset[col] = dataset[col].replace('Unknown', np.nan)\n",
        "\n",
        "\n",
        "  # Check if there are any missing values (categorical or numerical)\n",
        "  if categorical_missing_counts.any() or numerical_missing_counts.any():\n",
        "      # Print missing counts for categorical columns in the desired format\n",
        "      print(\"⚠️ Missing Data Found! Handling them...\\n\")\n",
        "      print(\"Missing Data Counts in Categorical Columns: \\n\", categorical_missing_counts)\n",
        "      print(\"\\n\")\n",
        "      print(\"Missing Data Counts in Numerical Columns: \\n\", numerical_missing_counts)\n",
        "      print(\"\\n\")\n",
        "\n",
        "      # Create imputers for categorical and numerical features\n",
        "      categorical_imputer = SimpleImputer(missing_values=np.nan, strategy='most_frequent')\n",
        "      numerical_imputer = SimpleImputer(missing_values=np.nan, strategy='mean')\n",
        "\n",
        "      # Apply imputers to the selected columns in X\n",
        "      if len(categorical_cols) > 0:\n",
        "        categorical_cols_for_impution = [col for col in categorical_cols if col != dataset.columns[-1]]\n",
        "        dataset[categorical_cols_for_impution] = categorical_imputer.fit_transform(dataset[categorical_cols_for_impution])\n",
        "\n",
        "      # Exclude the dependent variable column (last column) if it's numerical\n",
        "      numerical_cols_for_impution = [col for col in numerical_cols if col != dataset.columns[-1]]\n",
        "      if len(numerical_cols_for_impution) > 0:\n",
        "          dataset[numerical_cols_for_impution] = numerical_imputer.fit_transform(dataset[numerical_cols_for_impution])\n",
        "      # if len(numerical_cols) > 0:\n",
        "          # dataset[numerical_cols] = numerical_imputer.fit_transform(dataset[numerical_cols])\n",
        "      print(\"✅ Missing Data Handled Successfully...\")\n",
        "      # print(\"New Data with replaced missing values: \\n\", dataset.head(10).to_string(header=True))\n",
        "else:\n",
        "    print(\"❌ No missing data found...\")\n",
        "\n"
      ]
    },
    {
      "cell_type": "markdown",
      "metadata": {
        "id": "-F0V-G0-Ary8"
      },
      "source": [
        "### Step-3.3: Checking any Synonyms or Aliases and Handling them:-"
      ]
    },
    {
      "cell_type": "code",
      "execution_count": 9,
      "metadata": {
        "colab": {
          "base_uri": "https://localhost:8080/"
        },
        "id": "rJwxtUSyAry8",
        "outputId": "cc34c267-a2d4-4ee0-98e1-a4ef7ad1ff6d"
      },
      "outputs": [
        {
          "name": "stdout",
          "output_type": "stream",
          "text": [
            "Column: \t\t'age'\n",
            "Unique Values:  60.00 45.00 50.00 32.00 42.00 48.00 38.00 55.00 65.00 40.00 46.00 33.00 75.00 26.00 58.00 35.00 66.00 51.00 18.00 49.00 22.00 62.00 30.00 36.00 37.00 70.00 54.00 28.00 21.00 29.00 31.00 72.00 57.00 52.00 34.00 27.00 47.00 53.00 64.00 24.00 17.00 41.00 61.00 25.00 39.00 56.00 43.00 13.00 68.00 74.00 16.00 44.00 23.00 20.00 63.00 14.00 73.00 69.00 12.00 4.00 7.00 19.00 6.00 8.00 84.00 85.00 15.00 78.00 11.00 67.00 10.00 90.00\n",
            "Counts:         34.00 25.00 23.00 20.00 20.00 20.00 20.00 18.00 17.00 16.00 16.00 15.00 14.00 14.00 13.00 12.00 12.00 10.00 10.00 10.00  9.00  9.00  9.00  9.00  9.00  9.00  8.00  8.00  7.00  7.00  7.00  7.00  7.00  7.00  7.00  6.00  6.00  6.00  6.00  5.00  5.00  5.00  5.00  5.00  5.00  4.00  4.00  4.00  4.00  4.00  3.00  3.00  3.00  3.00  2.00  2.00  2.00  2.00  2.00 2.00 2.00  2.00 1.00 1.00  1.00  1.00  1.00  1.00  1.00  1.00  1.00  1.00 \n",
            "\n",
            "Column: \t\t'gender'\n",
            "Unique Values:   Male  Female\n",
            "Counts:           430     140 \n",
            "\n",
            "Column: \t\t'tot_bilirubin'\n",
            "Unique Values:   0.80  0.70  0.90  0.60  1.00  1.10  1.80  1.40  1.30  1.70 2.70 2.20 2.00 1.20 1.60 1.90 2.90 1.50 5.80 0.50 2.40 2.10 2.60 2.30 6.80 3.90 2.80 3.20 3.70 7.30 3.30 4.00 3.50 4.20 4.50 3.60 10.90 2.50 30.50 7.10 6.70 3.00 12.70 8.90 5.00 18.40 3.10 27.70 23.30 16.70 3.40 7.70 7.90 7.40 22.50 0.40 15.60 12.10 25.00 8.20 19.80 17.30 11.10 30.80 10.20 20.20 5.50 42.80 15.80 19.60 9.40 32.60 15.20 4.40 16.60 26.30 20.00 17.70 4.90 22.80 7.50 4.70 4.10 6.20 14.20 5.70 8.60 5.20 3.80 6.60 5.30 15.90 18.00 23.00 22.70 11.30 5.90 22.60 8.70 11.00 11.50 75.00 14.10 14.80 10.60 8.00 6.30 27.20 16.40 14.50 18.50 23.20 15.00\n",
            "Counts:         89.00 76.00 56.00 44.00 27.00 19.00 14.00 13.00 12.00 11.00 9.00 8.00 8.00 8.00 7.00 7.00 6.00 5.00 5.00 5.00 5.00 4.00 4.00 4.00 4.00 4.00 4.00 3.00 3.00 3.00 3.00 3.00 3.00 2.00 2.00 2.00  2.00 2.00  2.00 2.00 2.00 2.00  2.00 2.00 2.00  2.00 2.00  1.00  1.00  1.00 1.00 1.00 1.00 1.00  1.00 1.00  1.00  1.00  1.00 1.00  1.00  1.00  1.00  1.00  1.00  1.00 1.00  1.00  1.00  1.00 1.00  1.00  1.00 1.00  1.00  1.00  1.00  1.00 1.00  1.00 1.00 1.00 1.00 1.00  1.00 1.00 1.00 1.00 1.00 1.00 1.00  1.00  1.00  1.00  1.00  1.00 1.00  1.00 1.00  1.00  1.00  1.00  1.00  1.00  1.00 1.00 1.00  1.00  1.00  1.00  1.00  1.00  1.00 \n",
            "\n",
            "Column: \t\t'direct_bilirubin'\n",
            "Unique Values:    0.20  0.10  0.30  0.80  0.40  0.50  0.60  1.00  1.30  0.70  1.60 1.20 1.40 1.10 0.90 3.20 1.50 3.00 3.60 2.30 2.10 2.50 4.00 2.70 1.80 9.50 2.00 9.00 7.60 12.60 4.10 5.00 2.20 1.70 8.80 8.50 4.30 8.20 7.00 3.70 1.90 8.40 11.80 5.20 10.00 12.10 14.10 17.10 2.90 11.70 18.30 7.20 12.80 10.80 6.10 4.20 19.70 7.70 6.00 10.40 8.90 5.10 5.50 2.80 2.40 7.80 6.20 11.30 10.20 5.60 4.90 3.90 4.60 14.20 4.50 6.40 3.30 11.40 2.60 13.70\n",
            "Counts:         192.00 60.00 50.00 22.00 20.00 19.00 16.00 13.00 12.00 11.00 11.00 9.00 7.00 7.00 6.00 6.00 6.00 5.00 4.00 4.00 4.00 3.00 3.00 3.00 3.00 3.00 2.00 2.00 2.00  2.00 2.00 2.00 2.00 2.00 2.00 2.00 2.00 2.00 2.00 2.00 2.00 2.00  2.00 1.00  1.00  1.00  1.00  1.00 1.00  1.00  1.00 1.00  1.00  1.00 1.00 1.00  1.00 1.00 1.00  1.00 1.00 1.00 1.00 1.00 1.00 1.00 1.00  1.00  1.00 1.00 1.00 1.00 1.00  1.00 1.00 1.00 1.00  1.00 1.00  1.00 \n",
            "\n",
            "Column: \t\t'tot_proteins'\n"
          ]
        },
        {
          "name": "stdout",
          "output_type": "stream",
          "text": [
            "Unique Values:  198.00 215.00 298.00 190.00 195.00 182.00 180.00 145.00 165.00 218.00 158.00 282.00 202.00 188.00 206.00 205.00 230.00 192.00 162.00 168.00 310.00 196.00 290.00 189.00 186.00 175.00 152.00 159.00 185.00 160.00 178.00 208.00 194.00 170.00 214.00 171.00 210.00 272.00 201.00 285.00 140.00 163.00 258.00 482.00 350.00 224.00 142.00 220.00 275.00 750.00 191.00 238.00 146.00 265.00 239.00 245.00 300.00 358.00 315.00 174.00 176.00 173.00 216.00 289.00 380.00 157.00 268.00 279.00 292.00 199.00 137.00 332.00 110.00 200.00 250.00 236.00 209.00 135.00 100.00 1,350.00 450.00 92.00 172.00 130.00 316.00 155.00 144.00 187.00 219.00 320.00 237.00 156.00 161.00 257.00 204.00 183.00 179.00 150.00 260.00 240.00 280.00 263.00 154.00 490.00 148.00 862.00 592.00 293.00 177.00 342.00 246.00 690.00 1,750.00 212.00 181.00 1,550.00 1,100.00 166.00 554.00 509.00 326.00 650.00 115.00 621.00 256.00 418.00 271.00 231.00 558.00 331.00 555.00 542.00 105.00 102.00 149.00 580.00 610.00 719.00 309.00 686.00 167.00 164.00 227.00 97.00 406.00 114.00 153.00 768.00 232.00 390.00 356.00 388.00 143.00 251.00 134.00 612.00 515.00 560.00 500.00 98.00 395.00 466.00 270.00 138.00 90.00 375.00 197.00 226.00 352.00 103.00 850.00 276.00 193.00 805.00 151.00 349.00 365.00 305.00 127.00 254.00 108.00 405.00 106.00 458.00 211.00 386.00 308.00 538.00 614.00 314.00 1,124.00 664.00 269.00 169.00 1,420.00 75.00 915.00 670.00 699.00 401.00 1,620.00 116.00 562.00 1,020.00 950.00 392.00 248.00 1,896.00 512.00 1,110.00 1,630.00 1,580.00 661.00 286.00 962.00 486.00 462.00 225.00 243.00 1,050.00 599.00 312.00 125.00 147.00 518.00 340.00 460.00 262.00 374.00 123.00 575.00 410.00 128.00 234.00 630.00 430.00 588.00 527.00 574.00 802.00 63.00 302.00 235.00 415.00 400.00 480.00 120.00 470.00 259.00 2,110.00 360.00 367.00 498.00 680.00 348.00 253.00 859.00 901.00 335.00 505.00 228.00 247.00 184.00\n",
            "Counts:          11.00  11.00  11.00  10.00  10.00   9.00   9.00   8.00   8.00   7.00   7.00   7.00   7.00   7.00   6.00   6.00   6.00   6.00   6.00   6.00   6.00   6.00   6.00   6.00   5.00   5.00   5.00   5.00   5.00   5.00   5.00   5.00   5.00   4.00   4.00   4.00   4.00   4.00   4.00   4.00   4.00   3.00   3.00   3.00   3.00   3.00   3.00   3.00   3.00   3.00   3.00   3.00   3.00   3.00   3.00   3.00   3.00   3.00   3.00   3.00   3.00   3.00   3.00   3.00   3.00   3.00   2.00   2.00   2.00   2.00   2.00   2.00   2.00   2.00   2.00   2.00   2.00   2.00   2.00     2.00   2.00  2.00   2.00   2.00   2.00   2.00   2.00   2.00   2.00   2.00   2.00   2.00   2.00   2.00   2.00   2.00   2.00   2.00   2.00   2.00   2.00   2.00   2.00   2.00   2.00   1.00   1.00   1.00   1.00   1.00   1.00   1.00     1.00   1.00   1.00     1.00     1.00   1.00   1.00   1.00   1.00   1.00   1.00   1.00   1.00   1.00   1.00   1.00   1.00   1.00   1.00   1.00   1.00   1.00   1.00   1.00   1.00   1.00   1.00   1.00   1.00   1.00   1.00  1.00   1.00   1.00   1.00   1.00   1.00   1.00   1.00   1.00   1.00   1.00   1.00   1.00   1.00   1.00   1.00  1.00   1.00   1.00   1.00   1.00  1.00   1.00   1.00   1.00   1.00   1.00   1.00   1.00   1.00   1.00   1.00   1.00   1.00   1.00   1.00   1.00   1.00   1.00   1.00   1.00   1.00   1.00   1.00   1.00   1.00   1.00     1.00   1.00   1.00   1.00     1.00  1.00   1.00   1.00   1.00   1.00     1.00   1.00   1.00     1.00   1.00   1.00   1.00     1.00   1.00     1.00     1.00     1.00   1.00   1.00   1.00   1.00   1.00   1.00   1.00     1.00   1.00   1.00   1.00   1.00   1.00   1.00   1.00   1.00   1.00   1.00   1.00   1.00   1.00   1.00   1.00   1.00   1.00   1.00   1.00   1.00  1.00   1.00   1.00   1.00   1.00   1.00   1.00   1.00   1.00     1.00   1.00   1.00   1.00   1.00   1.00   1.00   1.00   1.00   1.00   1.00   1.00   1.00   1.00 \n",
            "\n",
            "Column: \t\t'albumin'\n",
            "Unique Values:  25.00 20.00 22.00 18.00 21.00 28.00 30.00 15.00 24.00 48.00 31.00 36.00 32.00 29.00 33.00 12.00 26.00 50.00 40.00 27.00 23.00 35.00 37.00 42.00 38.00 16.00 17.00 14.00 45.00 60.00 19.00 52.00 41.00 46.00 55.00 62.00 53.00 56.00 39.00 43.00 10.00 64.00 13.00 74.00 58.00 102.00 85.00 119.00 69.00 47.00 54.00 34.00 44.00 79.00 80.00 91.00 61.00 412.00 1,250.00 96.00 65.00 110.00 59.00 168.00 70.00 57.00 95.00 133.00 140.00 11.00 67.00 88.00 63.00 190.00 349.00 155.00 137.00 142.00 233.00 94.00 115.00 509.00 123.00 141.00 198.00 1,680.00 173.00 160.00 213.00 407.00 179.00 157.00 440.00 284.00 321.00 68.00 196.00 139.00 154.00 132.00 779.00 622.00 382.00 78.00 159.00 75.00 425.00 49.00 76.00 93.00 178.00 89.00 120.00 875.00 378.00 99.00 84.00 72.00 166.00 189.00 322.00 482.00 1,350.00 2,000.00 181.00 194.00 51.00 308.00 97.00 126.00 220.00 112.00 71.00 232.00 230.00 390.00 152.00 205.00 148.00 404.00 90.00 1,630.00 149.00 114.00 116.00 86.00 82.00 950.00 790.00 107.00 118.00 131.00\n",
            "Counts:         25.00 22.00 18.00 17.00 17.00 17.00 15.00 14.00 13.00 13.00 11.00 11.00 11.00 11.00 10.00 10.00 10.00  9.00  9.00  9.00  9.00  9.00  8.00  8.00  8.00  8.00  8.00  8.00  7.00  7.00  6.00  6.00  5.00  5.00  5.00  5.00  5.00  4.00  4.00  4.00  4.00  4.00  4.00  4.00  4.00   4.00  3.00   3.00  3.00  3.00  3.00  3.00  3.00  3.00  3.00  3.00  3.00   2.00     2.00  2.00  2.00   2.00  2.00   2.00  2.00  2.00  2.00   2.00   2.00  2.00  2.00  2.00  2.00   2.00   1.00   1.00   1.00   1.00   1.00  1.00   1.00   1.00   1.00   1.00   1.00     1.00   1.00   1.00   1.00   1.00   1.00   1.00   1.00   1.00   1.00  1.00   1.00   1.00   1.00   1.00   1.00   1.00   1.00  1.00   1.00  1.00   1.00  1.00  1.00  1.00   1.00  1.00   1.00   1.00   1.00  1.00  1.00  1.00   1.00   1.00   1.00   1.00     1.00     1.00   1.00   1.00  1.00   1.00  1.00   1.00   1.00   1.00  1.00   1.00   1.00   1.00   1.00   1.00   1.00   1.00  1.00     1.00   1.00   1.00   1.00  1.00  1.00   1.00   1.00   1.00   1.00   1.00 \n",
            "\n",
            "Column: \t\t'ag_ratio'\n",
            "Unique Values:  23.00 20.00 21.00 30.00 28.00 22.00 25.00 24.00 32.00 29.00 15.00 19.00 40.00 34.00 26.00 16.00 18.00 42.00 58.00 17.00 27.00 14.00 31.00 54.00 33.00 35.00 41.00 43.00 39.00 44.00 66.00 36.00 57.00 47.00 12.00 48.00 56.00 68.00 38.00 46.00 51.00 92.00 87.00 88.00 37.00 90.00 45.00 53.00 59.00 50.00 850.00 108.00 79.00 80.00 65.00 70.00 73.00 140.00 113.00 138.00 13.00 141.00 1,050.00 145.00 71.00 104.00 103.00 83.00 190.00 63.00 111.00 67.00 82.00 55.00 105.00 74.00 62.00 350.00 86.00 75.00 95.00 143.00 178.00 127.00 231.00 152.00 125.00 52.00 630.00 11.00 186.00 180.00 126.00 102.00 81.00 176.00 511.00 232.00 91.00 236.00 188.00 72.00 135.00 134.00 168.00 101.00 367.00 384.00 562.00 330.00 348.00 78.00 220.00 623.00 200.00 155.00 181.00 540.00 230.00 185.00 235.00 221.00 76.00 401.00 248.00 368.00 844.00 497.00 250.00 61.00 500.00 950.00 2,946.00 149.00 64.00 285.00 98.00 116.00 10.00 405.00 161.00 202.00 275.00 400.00 794.00 110.00 142.00 576.00 397.00 960.00 406.00 150.00 1,600.00 84.00 130.00 114.00 298.00 89.00 156.00 85.00 148.00 1,500.00 60.00 441.00 97.00 247.00 77.00 99.00 602.00 245.00 187.00 233.00 731.00 139.00 100.00 4,929.00 49.00\n",
            "Counts:         16.00 14.00 14.00 14.00 13.00 13.00 13.00 12.00 12.00 11.00 11.00 11.00 11.00 11.00  9.00  9.00  9.00  9.00  9.00  8.00  8.00  8.00  8.00  7.00  7.00  7.00  7.00  6.00  6.00  6.00  6.00  5.00  5.00  5.00  5.00  5.00  5.00  5.00  5.00  4.00  4.00  4.00  4.00  4.00  4.00  4.00  4.00  4.00  4.00  4.00   4.00   3.00  3.00  3.00  3.00  3.00  3.00   3.00   3.00   3.00  3.00   2.00     2.00   2.00  2.00   2.00   2.00  2.00   2.00  2.00   2.00  2.00  2.00  2.00   2.00  2.00  2.00   2.00  2.00  2.00  2.00   2.00   2.00   2.00   2.00   2.00   2.00  2.00   2.00  2.00   2.00   2.00   1.00   1.00  1.00   1.00   1.00   1.00  1.00   1.00   1.00  1.00   1.00   1.00   1.00   1.00   1.00   1.00   1.00   1.00   1.00  1.00   1.00   1.00   1.00   1.00   1.00   1.00   1.00   1.00   1.00   1.00  1.00   1.00   1.00   1.00   1.00   1.00   1.00  1.00   1.00   1.00     1.00   1.00  1.00   1.00  1.00   1.00  1.00   1.00   1.00   1.00   1.00   1.00   1.00   1.00   1.00   1.00   1.00   1.00   1.00   1.00     1.00  1.00   1.00   1.00   1.00  1.00   1.00  1.00   1.00     1.00  1.00   1.00  1.00   1.00  1.00  1.00   1.00   1.00   1.00   1.00   1.00   1.00   1.00     1.00  1.00 \n",
            "\n",
            "Column: \t\t'sgpt'\n",
            "Unique Values:   7.00  6.00  6.80  6.90  6.20  7.10  7.20  8.00  6.40  7.30  6.10  5.50  6.60  5.60  6.70  7.50  6.50  7.90  6.30  5.90  5.40  5.80  5.20  5.70  7.40  5.30 5.10 7.80 5.00 7.60 8.20 4.90 8.10 8.50 4.50 4.40 4.60 4.30 3.60 8.40 8.60 8.30 7.70 4.80 3.90 9.20 4.10 4.70 4.00 3.80 2.70 2.80 9.50 9.60 8.90 8.70 3.00 3.70\n",
            "Counts:         32.00 28.00 27.00 25.00 24.00 22.00 20.00 20.00 18.00 18.00 18.00 16.00 16.00 16.00 15.00 15.00 15.00 14.00 14.00 14.00 13.00 12.00 12.00 11.00 11.00 10.00 9.00 9.00 9.00 9.00 8.00 6.00 6.00 5.00 4.00 4.00 4.00 3.00 3.00 3.00 3.00 3.00 3.00 3.00 2.00 2.00 2.00 2.00 2.00 2.00 1.00 1.00 1.00 1.00 1.00 1.00 1.00 1.00 \n",
            "\n",
            "Column: \t\t'sgot'\n",
            "Unique Values:   3.00  4.00  2.90  3.10  3.20  3.90  2.50  3.50  2.70  3.30  3.40  3.70  2.60  2.00  2.80  3.60  4.10  2.40  3.80  2.10  4.30  2.30  4.20  1.80  2.20 1.60 4.40 1.90 4.50 4.90 4.60 1.50 1.70 1.40 4.70 0.90 5.50 4.80 5.00 1.00\n",
            "Counts:         44.00 37.00 29.00 27.00 26.00 25.00 23.00 23.00 22.00 21.00 21.00 20.00 20.00 19.00 18.00 17.00 16.00 16.00 15.00 14.00 13.00 12.00 12.00 12.00 11.00 8.00 8.00 7.00 6.00 4.00 4.00 3.00 3.00 3.00 3.00 2.00 2.00 2.00 1.00 1.00 \n",
            "\n",
            "Column: \t\t'alkphos'\n",
            "Unique Values:    1.00  0.80  0.90  0.70  1.10  1.20  0.60  0.50  1.30  1.40  0.40  1.50 1.60 0.30 1.70 0.95 0.75 1.80 0.96 1.34 1.06 0.47 0.52 1.38 0.92 1.85 1.16 0.95 0.93 0.76 1.58 1.18 2.50 0.45 1.51 0.35 0.97 0.89 0.64 0.61 1.09 1.36 0.88 1.11 1.72 2.80 0.46 0.39 1.02 0.87 1.12 1.90 1.66 1.39 1.25 0.78 1.55 0.71 0.62 0.67 0.74 0.55 0.48 0.58 0.69 1.27 0.53 1.03 0.68 0.37\n",
            "Counts:         104.00 62.00 57.00 53.00 45.00 35.00 31.00 26.00 25.00 17.00 14.00 10.00 4.00 4.00 4.00 4.00 4.00 3.00 3.00 2.00 2.00 2.00 2.00 2.00 2.00 2.00 2.00 2.00 2.00 2.00 2.00 2.00 2.00 1.00 1.00 1.00 1.00 1.00 1.00 1.00 1.00 1.00 1.00 1.00 1.00 1.00 1.00 1.00 1.00 1.00 1.00 1.00 1.00 1.00 1.00 1.00 1.00 1.00 1.00 1.00 1.00 1.00 1.00 1.00 1.00 1.00 1.00 1.00 1.00 1.00 \n",
            "\n",
            "Column: \t\t'is_patient'\n",
            "Unique Values:     1    2\n",
            "Counts:          406  164 \n",
            "\n"
          ]
        }
      ],
      "source": [
        "for col in dataset.columns:\n",
        "  value_counts_dataset = dataset[col].value_counts().rename_axis('Unique Values: ').reset_index(name='Counts: ')\n",
        "\n",
        "  print(f\"Column: \\t\\t'{col}'\")\n",
        "  print(value_counts_dataset.T.to_string(header=False), \"\\n\")"
      ]
    },
    {
      "cell_type": "markdown",
      "metadata": {
        "id": "szLznVnf1W1h"
      },
      "source": [
        "### Step-3.4: Checking for Stopwords and Stemming them:-"
      ]
    },
    {
      "cell_type": "code",
      "execution_count": 10,
      "metadata": {
        "id": "iMWNF_e5j0vb"
      },
      "outputs": [],
      "source": [
        "# from nltk.corpus import stopwords\n",
        "# from nltk.stem.porter import PorterStemmer\n",
        "\n",
        "# if categorical_cols.any():\n",
        "\n",
        "#   nltk.download('stopwords')\n",
        "\n",
        "#   stop_words = set(stopwords.words('english'))\n",
        "#   # stop_words = stop_words.remove('not')\n",
        "#   # print(\"\\n Stop Words are: \", stop_words, \"\\n\")\n",
        "#   def stemming(text):\n",
        "#       words = text.lower().split()\n",
        "\n",
        "#       stemmer = PorterStemmer()\n",
        "#       stemmed_words = [stemmer.stem(word) for word in words if word not in stop_words]\n",
        "#       return ' '.join(stemmed_words)  # Join stemmed words back into a string\n",
        "\n",
        "#   # Apply the stemming function to the specified columns\n",
        "#   for column in categorical_cols:\n",
        "#       dataset[column] = dataset[column].astype(str).apply(stemming)\n",
        "\n",
        "#   print(\"✅ Stemming Completed Successfully... \\n\")\n",
        "#   # print(dataset.head().to_string(header=True))\n",
        "# else:\n",
        "#   print(\"❌ No Stemming Needed...\")"
      ]
    },
    {
      "cell_type": "markdown",
      "metadata": {
        "id": "kluQwU4vAry9"
      },
      "source": [
        "### Step-3.5: Checking any Categorical Data and Encoding them:-"
      ]
    },
    {
      "cell_type": "code",
      "execution_count": 11,
      "metadata": {},
      "outputs": [
        {
          "name": "stdout",
          "output_type": "stream",
          "text": [
            "> 'gender' column with unique values: \t['Female' 'Male']\n",
            "> 'is_patient' column with unique values: \t[1 2]\n",
            "\n",
            "\n",
            " '2' Columns Found: \n",
            "\t ['gender', 'is_patient']\n"
          ]
        }
      ],
      "source": [
        "# Check for binary and multi-value categorical columns#+\n",
        "\n",
        "cols_for_encoding = []\n",
        "\n",
        "for col in dataset.columns:\n",
        "    unique_values = dataset[col].unique()\n",
        "    if 2 <= len(unique_values) < 18:\n",
        "        cols_for_encoding.append(col)\n",
        "        print(f\"> '{col}' column with unique values: \\t{unique_values}\")\n",
        "\n",
        "print(\"\\n\")\n",
        "print(f\" '{len(cols_for_encoding)}' Columns Found: \\n\\t {cols_for_encoding}\")\n"
      ]
    },
    {
      "cell_type": "code",
      "execution_count": 12,
      "metadata": {},
      "outputs": [
        {
          "name": "stdout",
          "output_type": "stream",
          "text": [
            "✅ 'gender' has been encoded Successfully...\n",
            "\n",
            "✅ 'is_patient' has been encoded Successfully...\n",
            "\n",
            "Matrix of Features(X): \n",
            "     age  gender  tot_bilirubin  direct_bilirubin  tot_proteins  albumin  ag_ratio  sgpt  sgot  alkphos\n",
            "0 65.00       0           0.70              0.10        187.00    16.00     18.00  6.80  3.30     0.90\n",
            "1 62.00       1          10.90              5.50        699.00    64.00    100.00  7.50  3.20     0.74\n",
            "2 62.00       1           7.30              4.10        490.00    60.00     68.00  7.00  3.30     0.89\n",
            "3 58.00       1           1.00              0.40        182.00    14.00     20.00  6.80  3.40     1.00\n",
            "4 72.00       1           3.90              2.00        195.00    27.00     59.00  7.30  2.40     0.40 \n",
            "\n",
            "Dependent Variable(y): \n",
            "    is_patient\n",
            "0           0\n",
            "1           0\n",
            "2           0\n",
            "3           0\n",
            "4           0\n"
          ]
        }
      ],
      "source": [
        "from sklearn.preprocessing import LabelEncoder\n",
        "\n",
        "encoders = {}\n",
        "# LabelEncode binary columns\n",
        "for col in cols_for_encoding:\n",
        "    le = LabelEncoder()\n",
        "    dataset[col] = le.fit_transform(dataset[col])\n",
        "    encoders[col] = le  # Store encoder for later use\n",
        "    print(f\"✅ '{col}' has been encoded Successfully...\\n\")\n",
        "\n",
        "X = dataset.drop(columns=['is_patient'])\n",
        "y = dataset['is_patient']\n",
        "\n",
        "print(\"Matrix of Features(X): \\n\", pd.DataFrame(X).head().to_string(header=True), \"\\n\")\n",
        "print(\"Dependent Variable(y): \\n\", pd.DataFrame(y).head().to_string(header=True))\n"
      ]
    },
    {
      "cell_type": "markdown",
      "metadata": {
        "id": "qb_vcgm3qZKW"
      },
      "source": [
        "## Step-4: Split the Dataset into the Training set and Test set:-"
      ]
    },
    {
      "cell_type": "code",
      "execution_count": 13,
      "metadata": {
        "colab": {
          "base_uri": "https://localhost:8080/"
        },
        "id": "4ML-zBGmBkeI",
        "outputId": "f249eba5-f0c7-4562-802a-71bbbb620a52"
      },
      "outputs": [
        {
          "name": "stdout",
          "output_type": "stream",
          "text": [
            "✅ Data Splitted Successfully...\n",
            "\n"
          ]
        }
      ],
      "source": [
        "from sklearn.model_selection import train_test_split\n",
        "\n",
        "X_train, X_test, y_train, y_test = train_test_split(X, y, test_size=0.2, random_state=42)\n",
        "\n",
        "print(\"✅ Data Splitted Successfully...\\n\")\n",
        "\n",
        "# print(\"Printing Training Sets: \")\n",
        "# print(\"> X_train: \\n\", (pd.DataFrame(X_train).head()).to_string(), \"\\n\")\n",
        "# print(\"> X_test: \\n\", (pd.DataFrame(X_test).head()).to_string(), \"\\n\")\n",
        "# print(\"\\n\")\n",
        "# print(\"Printing Test Sets: \")\n",
        "# print(\"> y_train: \\n\", (pd.DataFrame(y_train).head()).to_string(header=False), \"\\n\")\n",
        "# print(\"> y_test: \\n\", (pd.DataFrame(y_test).head()).to_string(header=False), \"\\n\")"
      ]
    },
    {
      "cell_type": "markdown",
      "metadata": {
        "id": "TpGqbS4TqkIR"
      },
      "source": [
        "## Step-5: Feature Scaling:-"
      ]
    },
    {
      "cell_type": "code",
      "execution_count": 14,
      "metadata": {
        "colab": {
          "base_uri": "https://localhost:8080/"
        },
        "id": "HKf1Or3_BlW1",
        "outputId": "756131c5-0bed-4280-c17a-61d3856cb545"
      },
      "outputs": [
        {
          "name": "stdout",
          "output_type": "stream",
          "text": [
            "✅ scaler have been saved Successfully...\n",
            "\n",
            "✅ Feature Scaling is Done Successfully...\n",
            "\n"
          ]
        }
      ],
      "source": [
        "import joblib\n",
        "from sklearn.preprocessing import StandardScaler\n",
        "\n",
        "# Scaling Features\n",
        "scaler = StandardScaler()\n",
        "X_train = scaler.fit_transform(X_train)\n",
        "X_test = scaler.transform(X_test)\n",
        "\n",
        "joblib.dump(scaler, '../saved_models/liver_disease_scaler.pkl')\n",
        "print(\"✅ scaler have been saved Successfully...\\n\")\n",
        "\n",
        "print(\"✅ Feature Scaling is Done Successfully...\\n\")\n",
        "# print(\"Printing Training Sets after Feature Scaling:\")\n",
        "# print(\"> X_train: \\n\", X_train)\n",
        "# print(\"\\n\")\n",
        "# print(\"Printing Test Sets after Feature Scaling:\")\n",
        "# print(\"> X_test: \\n\", X_test)"
      ]
    },
    {
      "cell_type": "markdown",
      "metadata": {
        "id": "4ibPqcgELO4w"
      },
      "source": [
        "# ***Step-B: Model Builing & Evaluation...***"
      ]
    },
    {
      "cell_type": "code",
      "execution_count": 15,
      "metadata": {
        "colab": {
          "base_uri": "https://localhost:8080/"
        },
        "id": "srNH7MKCLO4x",
        "outputId": "251909fa-74f3-442d-8354-c9bba9e425dd"
      },
      "outputs": [
        {
          "name": "stdout",
          "output_type": "stream",
          "text": [
            "✅ RandomForestClassifier is trained Sucessfully...\n",
            "-> RandomForestClassifier:-\n",
            "  Accuracy: \t 0.75\n",
            "  Precision: \t 0.52\n",
            "  Recall: \t\t 0.38\n",
            "  F1 Score: \t 0.44\n",
            "  ROC-AUC Score: 0.63\n",
            "\n",
            "\n",
            "\n"
          ]
        }
      ],
      "source": [
        "from sklearn.metrics import accuracy_score, precision_score, recall_score, f1_score, roc_auc_score\n",
        "from sklearn.ensemble import RandomForestClassifier\n",
        "\n",
        "models = {\n",
        "  RandomForestClassifier(n_estimators=100, random_state=42),\n",
        "}\n",
        "\n",
        "for model in models:\n",
        "  model.fit(X_train, y_train)\n",
        "  y_pred = model.predict(X_test)\n",
        "\n",
        "  # cv_score = cross_val_score(model, X_train, y_train, cv=5)\n",
        "  print(f\"✅ {model.__class__.__name__} is trained Sucessfully...\")\n",
        "  print(f\"-> {model.__class__.__name__}:-\")\n",
        "  print(f\"  Accuracy: \\t {accuracy_score(y_test, y_pred):.2f}\")\n",
        "  print(f\"  Precision: \\t {precision_score(y_test, y_pred):.2f}\")\n",
        "  print(f\"  Recall: \\t\\t {recall_score(y_test, y_pred):.2f}\")\n",
        "  print(f\"  F1 Score: \\t {f1_score(y_test, y_pred):.2f}\")\n",
        "  print(f\"  ROC-AUC Score: {roc_auc_score(y_test, y_pred):.2f}\\n\")\n",
        "  print(\"\\n\")\n"
      ]
    },
    {
      "cell_type": "markdown",
      "metadata": {
        "id": "Pny798jjSDG8"
      },
      "source": [
        "# ***Step-C: Saving the Model & Testing It...***"
      ]
    },
    {
      "cell_type": "markdown",
      "metadata": {
        "id": "ePeQfcipSDG-"
      },
      "source": [
        "## Step-1: Saving the Model(.sav):-"
      ]
    },
    {
      "cell_type": "code",
      "execution_count": 16,
      "metadata": {
        "colab": {
          "base_uri": "https://localhost:8080/"
        },
        "id": "yYfY0iYBSDHB",
        "outputId": "bb67ddec-f033-412d-bd91-7aceb26331bc"
      },
      "outputs": [
        {
          "name": "stdout",
          "output_type": "stream",
          "text": [
            "✅ Model saved: LIVER_Disease_Prediction_Model.pkl\n"
          ]
        }
      ],
      "source": [
        "import joblib\n",
        "\n",
        "joblib.dump(model, f'../saved_models/LIVER_Disease_Prediction_Model.pkl')\n",
        "print(f\"✅ Model saved: LIVER_Disease_Prediction_Model.pkl\")"
      ]
    },
    {
      "cell_type": "markdown",
      "metadata": {
        "id": "eDkDvyfWSDHD"
      },
      "source": [
        "## Step-2: Predicting and Testing the Model:-"
      ]
    },
    {
      "cell_type": "code",
      "execution_count": 17,
      "metadata": {
        "colab": {
          "base_uri": "https://localhost:8080/"
        },
        "id": "FKCjM66sSDHE",
        "outputId": "0d7ab713-8995-4ffc-e6cf-af94f92ecc2f"
      },
      "outputs": [],
      "source": [
        "# correct_predictions = 0\n",
        "# max_correct_predictions = 0\n",
        "# model_predictions = {} # dictionary to store model and their correct predictions\n",
        "\n",
        "# random_value = np.random.randint(3, 5)\n",
        "# print(\"Number of Inputs for Predction: \", random_value, \"\\n\")\n",
        "\n",
        "# for i in range(random_value):\n",
        "#   sample_input = pd.DataFrame(X_train).iloc[i].values.reshape(1, -1)  # Convert a row to an array\n",
        "#   sample_output = round(y_train.iloc[i], 2)\n",
        "\n",
        "#   print(\"Before Predicting, Sample Data & Output Sales are:-\")\n",
        "#   print(\"> Sample Data: \", sample_input)\n",
        "#   print(\"> Output: \",sample_output, \"\\n\")\n",
        "\n",
        "#   model = joblib.load(f\"../saved_models/LIVER_Disease_Prediction_Model.pkl\")\n",
        "#   prediction = model.predict(sample_input)\n",
        "#   rounded_prediction = round(prediction[0], 2)\n",
        "#   print(f\" - Predicted Sales: {rounded_prediction:.2f}\")\n",
        "\n",
        "#   if rounded_prediction == sample_output:\n",
        "#       correct_predictions += 1\n",
        "#       print(\"\\t✅ Nice Work! your Prediction is correct...\\n\")\n",
        "#       # increment correct prediction count for the model in the dictionary\n",
        "#       model_predictions[model.__class__.__name__] = model_predictions.get(model.__class__.__name__, 0) + 1\n",
        "#   else:\n",
        "#       print(\"\\t❌ Oops! your Prediction is incorrect...\\n\")\n",
        "\n",
        "#   print(\"=\"*75, \"\\n\")"
      ]
    },
    {
      "cell_type": "code",
      "execution_count": 18,
      "metadata": {
        "colab": {
          "base_uri": "https://localhost:8080/"
        },
        "id": "bL2IotjR3zUD",
        "outputId": "e5374ec5-1d79-4a24-c286-092752049882"
      },
      "outputs": [],
      "source": [
        "# # Instead of using max, we'll iterate and check for at least one correct prediction\n",
        "# models_with_correct_predictions = []  # List to store models with at least one correct prediction\n",
        "\n",
        "# for model_name, correct_count in model_predictions.items():\n",
        "#     if correct_count >= 1:  # Check for at least one correct prediction\n",
        "#         models_with_correct_predictions.append(model_name)\n",
        "\n",
        "# # Print the results\n",
        "# if models_with_correct_predictions:\n",
        "#     for model_name in models_with_correct_predictions:\n",
        "#         print(f\"- ✅ '{model_name}' has achieved:\\n\\t\\t\\t '{model_predictions[model_name]}' out of {random_value} correct predictions\")\n",
        "# else:\n",
        "#     print(\"No models achieved any correct predictions on the samples.\")"
      ]
    },
    {
      "cell_type": "markdown",
      "metadata": {
        "id": "o1eEhXlFSDHE"
      },
      "source": [
        "## Step-3: Predicting the Result from saved Model:-"
      ]
    },
    {
      "cell_type": "code",
      "execution_count": 19,
      "metadata": {
        "id": "w0FjSoO1MGBU"
      },
      "outputs": [],
      "source": [
        "# random_input = np.random.randint(1, 50)\n",
        "# print(f\"Row '{random_input}' for Predction: \\n\")\n",
        "\n",
        "# input_data = pd.DataFrame(X).iloc[random_input]  # Convert a row to an array\n",
        "# # changing input data to a numpy arrayṅṅ\n",
        "# input_data_as_array = np.asarray(input_data).reshape(1,-1)\n",
        "\n",
        "# feature_names = pd.DataFrame(X).columns  # Get the feature names (column names)\n",
        "# # feature_names = pd.DataFrame(X).columns.astype(str)\n",
        "\n",
        "# # Create a dictionary of feature names and values for the selected row\n",
        "# input_data_dict = dict(zip(feature_names, input_data.values))\n",
        "# max_feature_name_length = max(len(name) for name in feature_names)\n",
        "\n",
        "# for feature_name, value in input_data_dict.items():\n",
        "#     print(f\"{feature_name:{max_feature_name_length}} = \\t{value}\")  # Alignment using string formatting\n",
        "# print(\"\\n\")  # Add a newline for better readability\n",
        "\n",
        "# model = pickle.load(open(f\"RandomForestClassifier.sav\", \"rb\"))\n",
        "\n",
        "# prediction = model.predict(input_data_as_array)\n",
        "# print(f\"{'Outcome_Prediction':{max_feature_name_length}} = \\t{prediction[0]}\", \"\\n\")  # Alignment for prediction\n",
        "\n",
        "# if (prediction[0] == 0):\n",
        "#   print(\"😃 Yeah! The Person does not have Liver Disease...\")\n",
        "\n",
        "# else:\n",
        "#   print(\"⚠️ Oops! The Person has a Liver Disease...\")"
      ]
    }
  ],
  "metadata": {
    "colab": {
      "collapsed_sections": [
        "HvALcJ3yAryu",
        "4ibPqcgELO4w"
      ],
      "include_colab_link": true,
      "provenance": []
    },
    "kernelspec": {
      "display_name": "Python 3",
      "name": "python3"
    },
    "language_info": {
      "codemirror_mode": {
        "name": "ipython",
        "version": 3
      },
      "file_extension": ".py",
      "mimetype": "text/x-python",
      "name": "python",
      "nbconvert_exporter": "python",
      "pygments_lexer": "ipython3",
      "version": "3.12.9"
    }
  },
  "nbformat": 4,
  "nbformat_minor": 0
}
