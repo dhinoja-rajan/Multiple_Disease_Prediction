{
  "cells": [
    {
      "cell_type": "markdown",
      "metadata": {
        "id": "WxMdJEKhtjiH"
      },
      "source": [
        "---\n",
        "# **Diabetes Disease Prediction**\n",
        "---\n",
        "\n"
      ]
    },
    {
      "cell_type": "markdown",
      "metadata": {
        "id": "HvALcJ3yAryu"
      },
      "source": [
        "# ***Step-A: Data Preprocessing:-***"
      ]
    },
    {
      "cell_type": "markdown",
      "metadata": {
        "id": "LbMfPnCfAryw"
      },
      "source": [
        "## Step-1: Import Required Dependencies:-\n",
        "Import essential libraries and modules for data manipulation, visualization, and preprocessing..."
      ]
    },
    {
      "cell_type": "code",
      "execution_count": 1,
      "metadata": {
        "colab": {
          "base_uri": "https://localhost:8080/"
        },
        "id": "MmgVQ5oeAryx",
        "outputId": "c6d1caab-c122-4503-adc0-29c1e644e70b"
      },
      "outputs": [
        {
          "name": "stdout",
          "output_type": "stream",
          "text": [
            "✅ Required Libraries are Imported - Done!\n",
            "\n"
          ]
        }
      ],
      "source": [
        "# from google.colab import drive\n",
        "# drive.mount('/content/drive')\n",
        "\n",
        "import numpy as np\n",
        "import matplotlib.pyplot as plt\n",
        "import pandas as pd\n",
        "import seaborn as sns\n",
        "import re\n",
        "import nltk\n",
        "import warnings\n",
        "warnings.filterwarnings('ignore')\n",
        "\n",
        "# Set the option to prevent silent downcasting\n",
        "np.set_printoptions(formatter={'float': '{:,.2f}'.format}, suppress=True, precision=2)\n",
        "pd.options.display.float_format = '{:,.2f}'.format\n",
        "pd.set_option('future.no_silent_downcasting', True)\n",
        "\n",
        "print(\"✅ Required Libraries are Imported - Done!\\n\")"
      ]
    },
    {
      "cell_type": "markdown",
      "metadata": {
        "id": "yVRL8v08Aryx"
      },
      "source": [
        "## Step-2: Load the Dataset and Display Different overviews of Datasets:-"
      ]
    },
    {
      "cell_type": "code",
      "execution_count": 2,
      "metadata": {
        "colab": {
          "base_uri": "https://localhost:8080/",
          "height": 0
        },
        "id": "xBtYmKrSAryy",
        "outputId": "adbd033e-8c85-417a-bf00-86416ca974a4"
      },
      "outputs": [
        {
          "data": {
            "text/html": [
              "<div>\n",
              "<style scoped>\n",
              "    .dataframe tbody tr th:only-of-type {\n",
              "        vertical-align: middle;\n",
              "    }\n",
              "\n",
              "    .dataframe tbody tr th {\n",
              "        vertical-align: top;\n",
              "    }\n",
              "\n",
              "    .dataframe thead th {\n",
              "        text-align: right;\n",
              "    }\n",
              "</style>\n",
              "<table border=\"1\" class=\"dataframe\">\n",
              "  <thead>\n",
              "    <tr style=\"text-align: right;\">\n",
              "      <th></th>\n",
              "      <th>Pregnancies</th>\n",
              "      <th>Glucose</th>\n",
              "      <th>BloodPressure</th>\n",
              "      <th>SkinThickness</th>\n",
              "      <th>Insulin</th>\n",
              "      <th>BMI</th>\n",
              "      <th>DiabetesPedigreeFunction</th>\n",
              "      <th>Age</th>\n",
              "      <th>Outcome</th>\n",
              "    </tr>\n",
              "  </thead>\n",
              "  <tbody>\n",
              "    <tr>\n",
              "      <th>0</th>\n",
              "      <td>6</td>\n",
              "      <td>148</td>\n",
              "      <td>72</td>\n",
              "      <td>35</td>\n",
              "      <td>0</td>\n",
              "      <td>33.60</td>\n",
              "      <td>0.63</td>\n",
              "      <td>50</td>\n",
              "      <td>1</td>\n",
              "    </tr>\n",
              "    <tr>\n",
              "      <th>1</th>\n",
              "      <td>1</td>\n",
              "      <td>85</td>\n",
              "      <td>66</td>\n",
              "      <td>29</td>\n",
              "      <td>0</td>\n",
              "      <td>26.60</td>\n",
              "      <td>0.35</td>\n",
              "      <td>31</td>\n",
              "      <td>0</td>\n",
              "    </tr>\n",
              "    <tr>\n",
              "      <th>2</th>\n",
              "      <td>8</td>\n",
              "      <td>183</td>\n",
              "      <td>64</td>\n",
              "      <td>0</td>\n",
              "      <td>0</td>\n",
              "      <td>23.30</td>\n",
              "      <td>0.67</td>\n",
              "      <td>32</td>\n",
              "      <td>1</td>\n",
              "    </tr>\n",
              "    <tr>\n",
              "      <th>3</th>\n",
              "      <td>1</td>\n",
              "      <td>89</td>\n",
              "      <td>66</td>\n",
              "      <td>23</td>\n",
              "      <td>94</td>\n",
              "      <td>28.10</td>\n",
              "      <td>0.17</td>\n",
              "      <td>21</td>\n",
              "      <td>0</td>\n",
              "    </tr>\n",
              "    <tr>\n",
              "      <th>4</th>\n",
              "      <td>0</td>\n",
              "      <td>137</td>\n",
              "      <td>40</td>\n",
              "      <td>35</td>\n",
              "      <td>168</td>\n",
              "      <td>43.10</td>\n",
              "      <td>2.29</td>\n",
              "      <td>33</td>\n",
              "      <td>1</td>\n",
              "    </tr>\n",
              "  </tbody>\n",
              "</table>\n",
              "</div>"
            ],
            "text/plain": [
              "   Pregnancies  Glucose  BloodPressure  SkinThickness  Insulin   BMI  \\\n",
              "0            6      148             72             35        0 33.60   \n",
              "1            1       85             66             29        0 26.60   \n",
              "2            8      183             64              0        0 23.30   \n",
              "3            1       89             66             23       94 28.10   \n",
              "4            0      137             40             35      168 43.10   \n",
              "\n",
              "   DiabetesPedigreeFunction  Age  Outcome  \n",
              "0                      0.63   50        1  \n",
              "1                      0.35   31        0  \n",
              "2                      0.67   32        1  \n",
              "3                      0.17   21        0  \n",
              "4                      2.29   33        1  "
            ]
          },
          "execution_count": 2,
          "metadata": {},
          "output_type": "execute_result"
        }
      ],
      "source": [
        "# dataset = pd.DataFrame(pd.read_csv('/content/drive/MyDrive/Datasets/CLASSIFICATION/Multiple_Diseases/diabetes.csv'))\n",
        "dataset = pd.DataFrame(pd.read_csv('../datasets/diabetes.csv'))\n",
        "dataset.head()\n",
        "# dataset.tail()"
      ]
    },
    {
      "cell_type": "code",
      "execution_count": 3,
      "metadata": {
        "colab": {
          "base_uri": "https://localhost:8080/",
          "height": 0
        },
        "id": "_z7mUwRhXBoc",
        "outputId": "ed5f0c56-4d2f-4a32-a440-68bad302c2c9"
      },
      "outputs": [
        {
          "data": {
            "image/png": "[encoded data removed]",
            "text/plain": [
              "<Figure size 640x480 with 1 Axes>"
            ]
          },
          "metadata": {},
          "output_type": "display_data"
        }
      ],
      "source": [
        "# Plot target distribution\n",
        "\n",
        "# plt.figure(figsize=(10, 6))\n",
        "sns.histplot(dataset.iloc[:, -1], bins=30, kde=True, color='green', edgecolor='black', alpha=0.7)\n",
        "plt.title('Distribution of Last Column')\n",
        "plt.show()"
      ]
    },
    {
      "cell_type": "code",
      "execution_count": 4,
      "metadata": {
        "colab": {
          "base_uri": "https://localhost:8080/"
        },
        "id": "zcZDaNI0I-4g",
        "outputId": "9251c0bf-c37a-4382-90ea-2db180262ebd"
      },
      "outputs": [
        {
          "name": "stdout",
          "output_type": "stream",
          "text": [
            "❌ No Categorical Columns Found...\n",
            "✅ Numerical Columns found: \n",
            " Index(['Pregnancies', 'Glucose', 'BloodPressure', 'SkinThickness', 'Insulin',\n",
            "       'BMI', 'DiabetesPedigreeFunction', 'Age', 'Outcome'],\n",
            "      dtype='object')\n"
          ]
        }
      ],
      "source": [
        "# Seperate the whole datset into categorical and numerical columns...\n",
        "\n",
        "categorical_cols = dataset.select_dtypes(include=['object']).columns\n",
        "numerical_cols = dataset.select_dtypes(exclude=['object']).columns\n",
        "\n",
        "if categorical_cols.empty:\n",
        "  print(\"❌ No Categorical Columns Found...\")\n",
        "else:\n",
        "  print(\"✅ Categorical Columns found: \\n\", categorical_cols, \"\\n\")\n",
        "\n",
        "if numerical_cols.empty:\n",
        "  print(\"❌ No Numerical Columns Found...\")\n",
        "else:\n",
        "  print(\"✅ Numerical Columns found: \\n\", numerical_cols)"
      ]
    },
    {
      "cell_type": "code",
      "execution_count": 5,
      "metadata": {
        "colab": {
          "base_uri": "https://localhost:8080/"
        },
        "id": "ZW3HjieQAry2",
        "outputId": "57d89bbd-7c4a-45e2-87d3-f0f403f1155f"
      },
      "outputs": [
        {
          "name": "stdout",
          "output_type": "stream",
          "text": [
            "> Shape of the Dataset:  (768, 9) \n",
            "\n",
            "> Information about Dataset:\n",
            "<class 'pandas.core.frame.DataFrame'>\n",
            "RangeIndex: 768 entries, 0 to 767\n",
            "Data columns (total 9 columns):\n",
            " #   Column                    Non-Null Count  Dtype  \n",
            "---  ------                    --------------  -----  \n",
            " 0   Pregnancies               768 non-null    int64  \n",
            " 1   Glucose                   768 non-null    int64  \n",
            " 2   BloodPressure             768 non-null    int64  \n",
            " 3   SkinThickness             768 non-null    int64  \n",
            " 4   Insulin                   768 non-null    int64  \n",
            " 5   BMI                       768 non-null    float64\n",
            " 6   DiabetesPedigreeFunction  768 non-null    float64\n",
            " 7   Age                       768 non-null    int64  \n",
            " 8   Outcome                   768 non-null    int64  \n",
            "dtypes: float64(2), int64(7)\n",
            "memory usage: 54.1 KB\n",
            "None \n",
            "\n",
            "> Statistical summary of the Dataset:\n",
            "       Pregnancies  Glucose  BloodPressure  SkinThickness  Insulin    BMI  DiabetesPedigreeFunction    Age  Outcome\n",
            "count       768.00   768.00         768.00         768.00   768.00 768.00                    768.00 768.00   768.00\n",
            "mean          3.85   120.89          69.11          20.54    79.80  31.99                      0.47  33.24     0.35\n",
            "std           3.37    31.97          19.36          15.95   115.24   7.88                      0.33  11.76     0.48\n",
            "min           0.00     0.00           0.00           0.00     0.00   0.00                      0.08  21.00     0.00\n",
            "25%           1.00    99.00          62.00           0.00     0.00  27.30                      0.24  24.00     0.00\n",
            "50%           3.00   117.00          72.00          23.00    30.50  32.00                      0.37  29.00     0.00\n",
            "75%           6.00   140.25          80.00          32.00   127.25  36.60                      0.63  41.00     1.00\n",
            "max          17.00   199.00         122.00          99.00   846.00  67.10                      2.42  81.00     1.00\n"
          ]
        }
      ],
      "source": [
        "print(\"> Shape of the Dataset: \", dataset.shape, \"\\n\")\n",
        "print(\"> Information about Dataset:\")\n",
        "print(dataset.info(), \"\\n\")\n",
        "print(\"> Statistical summary of the Dataset:\")\n",
        "# print(dataset.describe().map(lambda x: round(x, 4)))\n",
        "print(dataset.describe().to_string(header=True))"
      ]
    },
    {
      "cell_type": "code",
      "execution_count": 6,
      "metadata": {
        "colab": {
          "base_uri": "https://localhost:8080/",
          "height": 0
        },
        "id": "5bMrljUcI9zR",
        "outputId": "5d03e310-707c-4833-ee09-7a291cbe888a"
      },
      "outputs": [
        {
          "data": {
            "image/png": "[encoded data removed]",
            "text/plain": [
              "<Figure size 1000x600 with 2 Axes>"
            ]
          },
          "metadata": {},
          "output_type": "display_data"
        }
      ],
      "source": [
        "# Correlation Matrix Heatmap\n",
        "plt.figure(figsize=(10, 6))\n",
        "sns.heatmap(dataset[numerical_cols].corr(), annot=True, cmap='coolwarm')\n",
        "plt.title('Correlation Matrix \\n',fontsize=20,  fontweight=800)\n",
        "plt.show()"
      ]
    },
    {
      "cell_type": "markdown",
      "metadata": {
        "id": "e0E0usXBAry4"
      },
      "source": [
        "## Step-3:- Checking the Dataset:-"
      ]
    },
    {
      "cell_type": "markdown",
      "metadata": {
        "id": "PSX5IX9RAry5"
      },
      "source": [
        "### Step-3.1: Checking any Duplicate Data and Handling them:-"
      ]
    },
    {
      "cell_type": "code",
      "execution_count": 7,
      "metadata": {
        "colab": {
          "base_uri": "https://localhost:8080/"
        },
        "id": "XzvdrZlWAry5",
        "outputId": "76061d53-bb3b-4229-d384-ad9002215987"
      },
      "outputs": [
        {
          "name": "stdout",
          "output_type": "stream",
          "text": [
            "❌ No Duplicate Data(or Identical Rows) found...\n"
          ]
        }
      ],
      "source": [
        "if dataset.duplicated().any():\n",
        "  dataset.drop_duplicates(inplace=True)\n",
        "  print(\"✅ Duplicate Data(or Identical Rows) found and Removed...\")\n",
        "else:\n",
        "    print(\"❌ No Duplicate Data(or Identical Rows) found...\")"
      ]
    },
    {
      "cell_type": "markdown",
      "metadata": {
        "id": "FKBEjTdDAry6"
      },
      "source": [
        "### Step-3.2: Cheking any Missing Data and Handling them:-"
      ]
    },
    {
      "cell_type": "code",
      "execution_count": 8,
      "metadata": {
        "colab": {
          "base_uri": "https://localhost:8080/"
        },
        "id": "vg_Slpg2Ary7",
        "outputId": "06d6148f-23b8-4679-a9f8-f04d4fa8adc2"
      },
      "outputs": [
        {
          "name": "stdout",
          "output_type": "stream",
          "text": [
            "❌ No missing data found...\n"
          ]
        }
      ],
      "source": [
        "# Here from the module named impute of the library scikit-learn, we are using the SimpleImputer Class to Handle the Missing Values.\n",
        "from sklearn.impute import SimpleImputer\n",
        "\n",
        "missing_data_counts = dataset.isnull().sum() + dataset.isin(['', 'N/A', 'Unknown', 'NaN']).sum()\n",
        "\n",
        "# if dataset.isnull().values.any() or dataset.isin(['', 'NaN', 'N/A', 'Unknown']).any().any():\n",
        "if missing_data_counts.any():\n",
        "\n",
        "  categorical_missing_counts = dataset[categorical_cols].isnull().sum() + dataset[categorical_cols].isin(['', 'N/A', 'Unknown', 'NaN']).sum()\n",
        "  numerical_missing_counts = dataset[numerical_cols].isnull().sum()\n",
        "\n",
        "  # Replace \"Unknown\" with NaN in categorical columns\n",
        "  for col in categorical_cols:\n",
        "    dataset[col] = dataset[col].replace('Unknown', np.nan)\n",
        "\n",
        "\n",
        "  # Check if there are any missing values (categorical or numerical)\n",
        "  if categorical_missing_counts.any() or numerical_missing_counts.any():\n",
        "      # Print missing counts for categorical columns in the desired format\n",
        "      print(\"⚠️ Missing Data Found! Handling them...\\n\")\n",
        "      print(\"Missing Data Counts in Categorical Columns: \\n\", categorical_missing_counts)\n",
        "      print(\"\\n\")\n",
        "      print(\"Missing Data Counts in Numerical Columns: \\n\", numerical_missing_counts)\n",
        "      print(\"\\n\")\n",
        "\n",
        "      # Create imputers for categorical and numerical features\n",
        "      categorical_imputer = SimpleImputer(missing_values=np.nan, strategy='most_frequent')\n",
        "      numerical_imputer = SimpleImputer(missing_values=np.nan, strategy='mean')\n",
        "\n",
        "      # Apply imputers to the selected columns in X\n",
        "      if len(categorical_cols) > 0:\n",
        "        dataset[categorical_cols] = categorical_imputer.fit_transform(dataset[categorical_cols])\n",
        "\n",
        "      # Exclude the dependent variable column (last column) if it's numerical\n",
        "      if len(numerical_cols) > 0:\n",
        "          dataset[numerical_cols] = numerical_imputer.fit_transform(dataset[numerical_cols])\n",
        "      # if len(numerical_cols) > 0:\n",
        "          # dataset[numerical_cols] = numerical_imputer.fit_transform(dataset[numerical_cols])\n",
        "      print(\"✅ Missing Data Handled Successfully...\")\n",
        "      # print(\"New Data with replaced missing values: \\n\", dataset.head(10).to_string(header=True))\n",
        "else:\n",
        "    print(\"❌ No missing data found...\")\n",
        "\n"
      ]
    },
    {
      "cell_type": "markdown",
      "metadata": {
        "id": "-F0V-G0-Ary8"
      },
      "source": [
        "### Step-3.3: Checking any Synonyms or Aliases and Handling them:-"
      ]
    },
    {
      "cell_type": "code",
      "execution_count": 9,
      "metadata": {
        "id": "rJwxtUSyAry8"
      },
      "outputs": [],
      "source": [
        "# for col in dataset.columns:\n",
        "#   value_counts_dataset = dataset[col].value_counts().rename_axis('Unique Values: ').reset_index(name='Counts: ')\n",
        "\n",
        "#   print(f\"Column: \\t\\t'{col}'\")\n",
        "#   print(value_counts_dataset.T.to_string(header=False), \"\\n\")"
      ]
    },
    {
      "cell_type": "markdown",
      "metadata": {
        "id": "szLznVnf1W1h"
      },
      "source": [
        "### Step-3.4: Checking for Stopwords and Stemming them:-"
      ]
    },
    {
      "cell_type": "code",
      "execution_count": null,
      "metadata": {
        "colab": {
          "base_uri": "https://localhost:8080/"
        },
        "id": "iMWNF_e5j0vb",
        "outputId": "70b30485-093d-433d-e09e-4dd600273e01"
      },
      "outputs": [
        {
          "name": "stdout",
          "output_type": "stream",
          "text": [
            "❌ No Stemming Needed...\n"
          ]
        }
      ],
      "source": [
        "from nltk.corpus import stopwords\n",
        "from nltk.stem.porter import PorterStemmer\n",
        "\n",
        "if categorical_cols.any():\n",
        "\n",
        "  nltk.download('stopwords')\n",
        "\n",
        "  stop_words = set(stopwords.words('english'))\n",
        "  stop_words.discard('not')\n",
        "  # print(\"\\n Stop Words are: \", stop_words, \"\\n\")\n",
        "  def stemming(text):\n",
        "      words = text.lower().split()\n",
        "\n",
        "      stemmer = PorterStemmer()\n",
        "      stemmed_words = [stemmer.stem(word) for word in words if word not in stop_words]\n",
        "      return ' '.join(stemmed_words)  # Join stemmed words back into a string\n",
        "\n",
        "  # Apply the stemming function to the specified columns\n",
        "  for column in categorical_cols:\n",
        "      dataset[column] = dataset[column].astype(str).apply(stemming)\n",
        "\n",
        "  print(\"✅ Stemming Completed Successfully... \\n\")\n",
        "  # print(dataset.head().to_string(header=True))\n",
        "else:\n",
        "  print(\"❌ No Stemming Needed...\")"
      ]
    },
    {
      "cell_type": "markdown",
      "metadata": {
        "id": "kluQwU4vAry9"
      },
      "source": [
        "### Step-3.5: Checking any Categorical Data and Encoding them:-"
      ]
    },
    {
      "cell_type": "code",
      "execution_count": 11,
      "metadata": {},
      "outputs": [
        {
          "name": "stdout",
          "output_type": "stream",
          "text": [
            "> 'Pregnancies' column with unique values: \t[ 6  1  8  0  5  3 10  2  4  7  9 11 13 15 17 12 14]\n",
            "> 'Outcome' column with unique values: \t[1 0]\n",
            "\n",
            "\n",
            " '2' Columns Found: \n",
            "\t ['Pregnancies', 'Outcome']\n"
          ]
        }
      ],
      "source": [
        "# Check for binary and multi-value categorical columns#+\n",
        "\n",
        "cols_for_encoding = []\n",
        "\n",
        "for col in dataset.columns:\n",
        "    unique_values = dataset[col].unique()\n",
        "    if 2 <= len(unique_values) < 18:\n",
        "        cols_for_encoding.append(col)\n",
        "        print(f\"> '{col}' column with unique values: \\t{unique_values}\")\n",
        "\n",
        "print(\"\\n\")\n",
        "print(f\" '{len(cols_for_encoding)}' Columns Found: \\n\\t {cols_for_encoding}\")\n"
      ]
    },
    {
      "cell_type": "code",
      "execution_count": 12,
      "metadata": {
        "colab": {
          "base_uri": "https://localhost:8080/"
        },
        "id": "iliWxO0n-9UQ",
        "outputId": "b9309771-8e75-44dc-f7b1-0ef8e5753684"
      },
      "outputs": [
        {
          "name": "stdout",
          "output_type": "stream",
          "text": [
            "✅ 'Pregnancies' has been encoded Successfully...\n",
            "\n",
            "✅ 'Outcome' has been encoded Successfully...\n",
            "\n",
            "Matrix of Features(X): \n",
            "    Pregnancies  Glucose  BloodPressure  SkinThickness  Insulin   BMI  DiabetesPedigreeFunction  Age\n",
            "0            6      148             72             35        0 33.60                      0.63   50\n",
            "1            1       85             66             29        0 26.60                      0.35   31\n",
            "2            8      183             64              0        0 23.30                      0.67   32\n",
            "3            1       89             66             23       94 28.10                      0.17   21\n",
            "4            0      137             40             35      168 43.10                      2.29   33 \n",
            "\n",
            "Dependent Variable(y): \n",
            "    Outcome\n",
            "0        1\n",
            "1        0\n",
            "2        1\n",
            "3        0\n",
            "4        1\n"
          ]
        }
      ],
      "source": [
        "from sklearn.preprocessing import LabelEncoder\n",
        "\n",
        "encoders = {}\n",
        "# LabelEncode binary columns\n",
        "for col in cols_for_encoding:\n",
        "    le = LabelEncoder()\n",
        "    dataset[col] = le.fit_transform(dataset[col])\n",
        "    encoders[col] = le  # Store encoder for later use\n",
        "    print(f\"✅ '{col}' has been encoded Successfully...\\n\")\n",
        "\n",
        "X = dataset.drop(columns=['Outcome'])\n",
        "y = dataset['Outcome']\n",
        "\n",
        "print(\"Matrix of Features(X): \\n\", pd.DataFrame(X).head().to_string(header=True), \"\\n\")\n",
        "print(\"Dependent Variable(y): \\n\", pd.DataFrame(y).head().to_string(header=True))\n"
      ]
    },
    {
      "cell_type": "markdown",
      "metadata": {
        "id": "qb_vcgm3qZKW"
      },
      "source": [
        "## Step-4: Split the Dataset into the Training set and Test set:-"
      ]
    },
    {
      "cell_type": "code",
      "execution_count": 13,
      "metadata": {
        "colab": {
          "base_uri": "https://localhost:8080/"
        },
        "id": "4ML-zBGmBkeI",
        "outputId": "9f735af0-da2a-42d9-ed91-27e7ed038d8e"
      },
      "outputs": [
        {
          "name": "stdout",
          "output_type": "stream",
          "text": [
            "✅ Data Splitted Successfully...\n",
            "\n"
          ]
        }
      ],
      "source": [
        "from sklearn.model_selection import train_test_split\n",
        "\n",
        "X_train, X_test, y_train, y_test = train_test_split(X, y, test_size=0.2, random_state=42)\n",
        "\n",
        "print(\"✅ Data Splitted Successfully...\\n\")\n",
        "\n",
        "# print(\"Printing Training Sets: \")\n",
        "# print(\"> X_train: \\n\", (pd.DataFrame(X_train).head()).to_string(), \"\\n\")\n",
        "# print(\"> X_test: \\n\", (pd.DataFrame(X_test).head()).to_string(), \"\\n\")\n",
        "# print(\"\\n\")\n",
        "# print(\"Printing Test Sets: \")\n",
        "# print(\"> y_train: \\n\", (pd.DataFrame(y_train).head()).to_string(header=False), \"\\n\")\n",
        "# print(\"> y_test: \\n\", (pd.DataFrame(y_test).head()).to_string(header=False), \"\\n\")"
      ]
    },
    {
      "cell_type": "markdown",
      "metadata": {
        "id": "TpGqbS4TqkIR"
      },
      "source": [
        "## Step-5: Feature Scaling:-"
      ]
    },
    {
      "cell_type": "code",
      "execution_count": null,
      "metadata": {
        "colab": {
          "base_uri": "https://localhost:8080/"
        },
        "id": "HKf1Or3_BlW1",
        "outputId": "5025cce4-52c3-49e3-906c-3c0211dc6b06"
      },
      "outputs": [
        {
          "name": "stdout",
          "output_type": "stream",
          "text": [
            "✅ scaler have been saved Successfully...\n",
            "\n",
            "✅ Feature Scaling is Done Successfully...\n",
            "\n"
          ]
        }
      ],
      "source": [
        "# import joblib\n",
        "# from sklearn.preprocessing import StandardScaler\n",
        "\n",
        "# # Scaling Features\n",
        "# scaler = StandardScaler()\n",
        "# X_train = scaler.fit_transform(X_train)\n",
        "# X_test = scaler.transform(X_test)\n",
        "\n",
        "# joblib.dump(scaler, '../saved_models/diabetes_scaler.pkl')\n",
        "# print(\"✅ scaler have been saved Successfully...\\n\")\n",
        "\n",
        "# print(\"✅ Feature Scaling is Done Successfully...\\n\")\n",
        "# # print(\"Printing Training Sets after Feature Scaling:\")\n",
        "# # print(\"> X_train: \\n\", X_train)\n",
        "# # print(\"\\n\")\n",
        "# # print(\"Printing Test Sets after Feature Scaling:\")\n",
        "# # print(\"> X_test: \\n\", X_test)"
      ]
    },
    {
      "cell_type": "markdown",
      "metadata": {
        "id": "4ibPqcgELO4w"
      },
      "source": [
        "# ***Step-B: Model Builing & Evaluation...***"
      ]
    },
    {
      "cell_type": "code",
      "execution_count": 15,
      "metadata": {
        "colab": {
          "base_uri": "https://localhost:8080/"
        },
        "id": "GGBW4O9UCNA9",
        "outputId": "97d8e71c-6b96-4fd6-eb65-19ad9a823dca"
      },
      "outputs": [
        {
          "name": "stdout",
          "output_type": "stream",
          "text": [
            "✅ DecisionTreeClassifier is trained Sucessfully...\n",
            "-> DecisionTreeClassifier:-\n",
            "  Accuracy: \t 0.80\n",
            "  Precision: \t 0.76\n",
            "  Recall: \t 0.64\n",
            "  F1 Score: \t 0.69\n",
            "  ROC-AUC Score: 0.76\n",
            "\n"
          ]
        }
      ],
      "source": [
        "from sklearn.metrics import accuracy_score, precision_score, recall_score, f1_score, roc_auc_score\n",
        "from sklearn.tree import DecisionTreeClassifier\n",
        "\n",
        "models = {\n",
        "  DecisionTreeClassifier(max_depth=5)\n",
        "}\n",
        "\n",
        "for model in models:\n",
        "  model.fit(X_train, y_train)\n",
        "  y_pred = model.predict(X_test)\n",
        "\n",
        "  # cv_score = cross_val_score(model, X_train, y_train, cv=5)\n",
        "  print(f\"✅ {model.__class__.__name__} is trained Sucessfully...\")\n",
        "  print(f\"-> {model.__class__.__name__}:-\")\n",
        "  print(f\"  Accuracy: \\t {accuracy_score(y_test, y_pred):.2f}\")\n",
        "  print(f\"  Precision: \\t {precision_score(y_test, y_pred):.2f}\")\n",
        "  print(f\"  Recall: \\t {recall_score(y_test, y_pred):.2f}\")\n",
        "  print(f\"  F1 Score: \\t {f1_score(y_test, y_pred):.2f}\")\n",
        "  print(f\"  ROC-AUC Score: {roc_auc_score(y_test, y_pred):.2f}\\n\")"
      ]
    },
    {
      "cell_type": "markdown",
      "metadata": {
        "id": "-jxm0v8kSBaE"
      },
      "source": [
        "# ***Step-C: Saving the Model...***"
      ]
    },
    {
      "cell_type": "code",
      "execution_count": 16,
      "metadata": {
        "colab": {
          "base_uri": "https://localhost:8080/"
        },
        "id": "9jJROblESBaK",
        "outputId": "7a373977-d983-4d9d-b1c4-a645c2a05e65"
      },
      "outputs": [
        {
          "name": "stdout",
          "output_type": "stream",
          "text": [
            "✅ Model saved: DIABETES_Disease_Prediction_Model.pkl\n"
          ]
        }
      ],
      "source": [
        "import joblib\n",
        "\n",
        "joblib.dump(model, f'../saved_models/DIABETES_Disease_Prediction_Model.pkl')\n",
        "print(f\"✅ Model saved: DIABETES_Disease_Prediction_Model.pkl\")"
      ]
    }
  ],
  "metadata": {
    "colab": {
      "collapsed_sections": [
        "HvALcJ3yAryu",
        "4ibPqcgELO4w"
      ],
      "include_colab_link": true,
      "provenance": []
    },
    "kernelspec": {
      "display_name": "Python 3",
      "name": "python3"
    },
    "language_info": {
      "codemirror_mode": {
        "name": "ipython",
        "version": 3
      },
      "file_extension": ".py",
      "mimetype": "text/x-python",
      "name": "python",
      "nbconvert_exporter": "python",
      "pygments_lexer": "ipython3",
      "version": "3.12.9"
    }
  },
  "nbformat": 4,
  "nbformat_minor": 0
}
