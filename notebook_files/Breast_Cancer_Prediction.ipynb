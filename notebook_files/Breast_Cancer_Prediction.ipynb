{
  "cells": [
    {
      "cell_type": "markdown",
      "metadata": {
        "colab_type": "text",
        "id": "view-in-github"
      },
      "source": [
        "<a href=\"https://colab.research.google.com/github/rajan-dhinoja/Multiple_Disease_Prediction/blob/main/notebook_files/Breast_Cancer_Detection.ipynb\" target=\"_parent\"><img src=\"https://colab.research.google.com/assets/colab-badge.svg\" alt=\"Open In Colab\"/></a>"
      ]
    },
    {
      "cell_type": "markdown",
      "metadata": {
        "id": "KBPGWkUlq5PL"
      },
      "source": [
        "---\n",
        "# **Breast Cancer Prediction**\n",
        "---\n",
        "\n"
      ]
    },
    {
      "cell_type": "markdown",
      "metadata": {
        "id": "HvALcJ3yAryu"
      },
      "source": [
        "# ***Step-A: Data Preprocessing:-***"
      ]
    },
    {
      "cell_type": "markdown",
      "metadata": {
        "id": "LbMfPnCfAryw"
      },
      "source": [
        "## Step-1: Import Required Dependencies:-\n",
        "Import essential libraries and modules for data manipulation, visualization, and preprocessing..."
      ]
    },
    {
      "cell_type": "code",
      "execution_count": 1,
      "metadata": {
        "colab": {
          "base_uri": "https://localhost:8080/"
        },
        "id": "MmgVQ5oeAryx",
        "outputId": "f7cef8b9-7fee-4c03-9fde-66bbfd70b3d8"
      },
      "outputs": [
        {
          "name": "stdout",
          "output_type": "stream",
          "text": [
            "✅ Required Libraries are Imported - Done!\n",
            "\n"
          ]
        }
      ],
      "source": [
        "# from google.colab import drive\n",
        "# drive.mount('/content/drive')\n",
        "\n",
        "import numpy as np\n",
        "import matplotlib.pyplot as plt\n",
        "import pandas as pd\n",
        "import seaborn as sns\n",
        "import re\n",
        "import nltk\n",
        "import warnings\n",
        "warnings.filterwarnings('ignore')\n",
        "\n",
        "# Set the option to prevent silent downcasting\n",
        "np.set_printoptions(formatter={'float': '{:,.2f}'.format}, suppress=True, precision=2)\n",
        "pd.options.display.float_format = '{:,.2f}'.format\n",
        "pd.set_option('future.no_silent_downcasting', True)\n",
        "\n",
        "print(\"✅ Required Libraries are Imported - Done!\\n\")"
      ]
    },
    {
      "cell_type": "markdown",
      "metadata": {
        "id": "yVRL8v08Aryx"
      },
      "source": [
        "## Step-2: Load the Dataset and Display Different overviews of Datasets:-"
      ]
    },
    {
      "cell_type": "code",
      "execution_count": 2,
      "metadata": {
        "colab": {
          "base_uri": "https://localhost:8080/",
          "height": 0
        },
        "id": "xBtYmKrSAryy",
        "outputId": "3fcf009a-ef1f-495f-a150-3106f8ede195"
      },
      "outputs": [
        {
          "data": {
            "text/html": [
              "<div>\n",
              "<style scoped>\n",
              "    .dataframe tbody tr th:only-of-type {\n",
              "        vertical-align: middle;\n",
              "    }\n",
              "\n",
              "    .dataframe tbody tr th {\n",
              "        vertical-align: top;\n",
              "    }\n",
              "\n",
              "    .dataframe thead th {\n",
              "        text-align: right;\n",
              "    }\n",
              "</style>\n",
              "<table border=\"1\" class=\"dataframe\">\n",
              "  <thead>\n",
              "    <tr style=\"text-align: right;\">\n",
              "      <th></th>\n",
              "      <th>id</th>\n",
              "      <th>diagnosis</th>\n",
              "      <th>radius_mean</th>\n",
              "      <th>texture_mean</th>\n",
              "      <th>perimeter_mean</th>\n",
              "      <th>area_mean</th>\n",
              "      <th>smoothness_mean</th>\n",
              "      <th>compactness_mean</th>\n",
              "      <th>concavity_mean</th>\n",
              "      <th>concave points_mean</th>\n",
              "      <th>...</th>\n",
              "      <th>radius_worst</th>\n",
              "      <th>texture_worst</th>\n",
              "      <th>perimeter_worst</th>\n",
              "      <th>area_worst</th>\n",
              "      <th>smoothness_worst</th>\n",
              "      <th>compactness_worst</th>\n",
              "      <th>concavity_worst</th>\n",
              "      <th>concave points_worst</th>\n",
              "      <th>symmetry_worst</th>\n",
              "      <th>fractal_dimension_worst</th>\n",
              "    </tr>\n",
              "  </thead>\n",
              "  <tbody>\n",
              "    <tr>\n",
              "      <th>0</th>\n",
              "      <td>842302</td>\n",
              "      <td>M</td>\n",
              "      <td>17.99</td>\n",
              "      <td>10.38</td>\n",
              "      <td>122.80</td>\n",
              "      <td>1,001.00</td>\n",
              "      <td>0.12</td>\n",
              "      <td>0.28</td>\n",
              "      <td>0.30</td>\n",
              "      <td>0.15</td>\n",
              "      <td>...</td>\n",
              "      <td>25.38</td>\n",
              "      <td>17.33</td>\n",
              "      <td>184.60</td>\n",
              "      <td>2,019.00</td>\n",
              "      <td>0.16</td>\n",
              "      <td>0.67</td>\n",
              "      <td>0.71</td>\n",
              "      <td>0.27</td>\n",
              "      <td>0.46</td>\n",
              "      <td>0.12</td>\n",
              "    </tr>\n",
              "    <tr>\n",
              "      <th>1</th>\n",
              "      <td>842517</td>\n",
              "      <td>M</td>\n",
              "      <td>20.57</td>\n",
              "      <td>17.77</td>\n",
              "      <td>132.90</td>\n",
              "      <td>1,326.00</td>\n",
              "      <td>0.08</td>\n",
              "      <td>0.08</td>\n",
              "      <td>0.09</td>\n",
              "      <td>0.07</td>\n",
              "      <td>...</td>\n",
              "      <td>24.99</td>\n",
              "      <td>23.41</td>\n",
              "      <td>158.80</td>\n",
              "      <td>1,956.00</td>\n",
              "      <td>0.12</td>\n",
              "      <td>0.19</td>\n",
              "      <td>0.24</td>\n",
              "      <td>0.19</td>\n",
              "      <td>0.28</td>\n",
              "      <td>0.09</td>\n",
              "    </tr>\n",
              "    <tr>\n",
              "      <th>2</th>\n",
              "      <td>84300903</td>\n",
              "      <td>M</td>\n",
              "      <td>19.69</td>\n",
              "      <td>21.25</td>\n",
              "      <td>130.00</td>\n",
              "      <td>1,203.00</td>\n",
              "      <td>0.11</td>\n",
              "      <td>0.16</td>\n",
              "      <td>0.20</td>\n",
              "      <td>0.13</td>\n",
              "      <td>...</td>\n",
              "      <td>23.57</td>\n",
              "      <td>25.53</td>\n",
              "      <td>152.50</td>\n",
              "      <td>1,709.00</td>\n",
              "      <td>0.14</td>\n",
              "      <td>0.42</td>\n",
              "      <td>0.45</td>\n",
              "      <td>0.24</td>\n",
              "      <td>0.36</td>\n",
              "      <td>0.09</td>\n",
              "    </tr>\n",
              "    <tr>\n",
              "      <th>3</th>\n",
              "      <td>84348301</td>\n",
              "      <td>M</td>\n",
              "      <td>11.42</td>\n",
              "      <td>20.38</td>\n",
              "      <td>77.58</td>\n",
              "      <td>386.10</td>\n",
              "      <td>0.14</td>\n",
              "      <td>0.28</td>\n",
              "      <td>0.24</td>\n",
              "      <td>0.11</td>\n",
              "      <td>...</td>\n",
              "      <td>14.91</td>\n",
              "      <td>26.50</td>\n",
              "      <td>98.87</td>\n",
              "      <td>567.70</td>\n",
              "      <td>0.21</td>\n",
              "      <td>0.87</td>\n",
              "      <td>0.69</td>\n",
              "      <td>0.26</td>\n",
              "      <td>0.66</td>\n",
              "      <td>0.17</td>\n",
              "    </tr>\n",
              "    <tr>\n",
              "      <th>4</th>\n",
              "      <td>84358402</td>\n",
              "      <td>M</td>\n",
              "      <td>20.29</td>\n",
              "      <td>14.34</td>\n",
              "      <td>135.10</td>\n",
              "      <td>1,297.00</td>\n",
              "      <td>0.10</td>\n",
              "      <td>0.13</td>\n",
              "      <td>0.20</td>\n",
              "      <td>0.10</td>\n",
              "      <td>...</td>\n",
              "      <td>22.54</td>\n",
              "      <td>16.67</td>\n",
              "      <td>152.20</td>\n",
              "      <td>1,575.00</td>\n",
              "      <td>0.14</td>\n",
              "      <td>0.20</td>\n",
              "      <td>0.40</td>\n",
              "      <td>0.16</td>\n",
              "      <td>0.24</td>\n",
              "      <td>0.08</td>\n",
              "    </tr>\n",
              "  </tbody>\n",
              "</table>\n",
              "<p>5 rows × 32 columns</p>\n",
              "</div>"
            ],
            "text/plain": [
              "         id diagnosis  radius_mean  texture_mean  perimeter_mean  area_mean  \\\n",
              "0    842302         M        17.99         10.38          122.80   1,001.00   \n",
              "1    842517         M        20.57         17.77          132.90   1,326.00   \n",
              "2  84300903         M        19.69         21.25          130.00   1,203.00   \n",
              "3  84348301         M        11.42         20.38           77.58     386.10   \n",
              "4  84358402         M        20.29         14.34          135.10   1,297.00   \n",
              "\n",
              "   smoothness_mean  compactness_mean  concavity_mean  concave points_mean  \\\n",
              "0             0.12              0.28            0.30                 0.15   \n",
              "1             0.08              0.08            0.09                 0.07   \n",
              "2             0.11              0.16            0.20                 0.13   \n",
              "3             0.14              0.28            0.24                 0.11   \n",
              "4             0.10              0.13            0.20                 0.10   \n",
              "\n",
              "   ...  radius_worst  texture_worst  perimeter_worst  area_worst  \\\n",
              "0  ...         25.38          17.33           184.60    2,019.00   \n",
              "1  ...         24.99          23.41           158.80    1,956.00   \n",
              "2  ...         23.57          25.53           152.50    1,709.00   \n",
              "3  ...         14.91          26.50            98.87      567.70   \n",
              "4  ...         22.54          16.67           152.20    1,575.00   \n",
              "\n",
              "   smoothness_worst  compactness_worst  concavity_worst  concave points_worst  \\\n",
              "0              0.16               0.67             0.71                  0.27   \n",
              "1              0.12               0.19             0.24                  0.19   \n",
              "2              0.14               0.42             0.45                  0.24   \n",
              "3              0.21               0.87             0.69                  0.26   \n",
              "4              0.14               0.20             0.40                  0.16   \n",
              "\n",
              "   symmetry_worst  fractal_dimension_worst  \n",
              "0            0.46                     0.12  \n",
              "1            0.28                     0.09  \n",
              "2            0.36                     0.09  \n",
              "3            0.66                     0.17  \n",
              "4            0.24                     0.08  \n",
              "\n",
              "[5 rows x 32 columns]"
            ]
          },
          "execution_count": 2,
          "metadata": {},
          "output_type": "execute_result"
        }
      ],
      "source": [
        "# dataset = pd.DataFrame(pd.read_csv('/content/drive/MyDrive/Datasets/CLASSIFICATION/Multiple_Diseases/breast_cancer.csv'))\n",
        "dataset = pd.DataFrame(pd.read_csv('../datasets/breast_cancer.csv'))\n",
        "dataset.head()"
      ]
    },
    {
      "cell_type": "code",
      "execution_count": 3,
      "metadata": {
        "colab": {
          "base_uri": "https://localhost:8080/",
          "height": 0
        },
        "id": "_z7mUwRhXBoc",
        "outputId": "9bded108-7f68-44ac-aa2e-401a9946f78d"
      },
      "outputs": [
        {
          "data": {
            "image/png": "[encoded data removed]",
            "text/plain": [
              "<Figure size 640x480 with 1 Axes>"
            ]
          },
          "metadata": {},
          "output_type": "display_data"
        }
      ],
      "source": [
        "# plt.figure(figsize=(10, 6))\n",
        "# Plot target distribution\n",
        "sns.histplot(dataset['diagnosis'], bins=30, kde=True)\n",
        "plt.title('Distribution of Diagnosis Column')\n",
        "plt.show()"
      ]
    },
    {
      "cell_type": "code",
      "execution_count": 4,
      "metadata": {
        "colab": {
          "base_uri": "https://localhost:8080/"
        },
        "id": "zcZDaNI0I-4g",
        "outputId": "e5e8ca41-b9af-4ad4-dd8f-2696b8bac7a3"
      },
      "outputs": [
        {
          "name": "stdout",
          "output_type": "stream",
          "text": [
            "✅ Categorical Columns found: \n",
            " Index(['diagnosis'], dtype='object') \n",
            "\n",
            "✅ Numerical Columns found: \n",
            " Index(['id', 'radius_mean', 'texture_mean', 'perimeter_mean', 'area_mean',\n",
            "       'smoothness_mean', 'compactness_mean', 'concavity_mean',\n",
            "       'concave points_mean', 'symmetry_mean', 'fractal_dimension_mean',\n",
            "       'radius_se', 'texture_se', 'perimeter_se', 'area_se', 'smoothness_se',\n",
            "       'compactness_se', 'concavity_se', 'concave points_se', 'symmetry_se',\n",
            "       'fractal_dimension_se', 'radius_worst', 'texture_worst',\n",
            "       'perimeter_worst', 'area_worst', 'smoothness_worst',\n",
            "       'compactness_worst', 'concavity_worst', 'concave points_worst',\n",
            "       'symmetry_worst', 'fractal_dimension_worst'],\n",
            "      dtype='object')\n"
          ]
        }
      ],
      "source": [
        "# Seperate the whole datset into categorical and numerical columns...\n",
        "\n",
        "categorical_cols = dataset.select_dtypes(include=['object']).columns\n",
        "numerical_cols = dataset.select_dtypes(exclude=['object']).columns\n",
        "\n",
        "if categorical_cols.empty:\n",
        "  print(\"❌ No Categorical Columns Found...\")\n",
        "else:\n",
        "  print(\"✅ Categorical Columns found: \\n\", categorical_cols, \"\\n\")\n",
        "\n",
        "if numerical_cols.empty:\n",
        "  print(\"❌ No Numerical Columns Found...\")\n",
        "else:\n",
        "  print(\"✅ Numerical Columns found: \\n\", numerical_cols)"
      ]
    },
    {
      "cell_type": "code",
      "execution_count": 5,
      "metadata": {
        "colab": {
          "base_uri": "https://localhost:8080/"
        },
        "id": "ZW3HjieQAry2",
        "outputId": "5cb845d9-367a-4dfe-ef79-33472bc8b285"
      },
      "outputs": [
        {
          "name": "stdout",
          "output_type": "stream",
          "text": [
            "> Shape of the Dataset:  (569, 32) \n",
            "\n",
            "> Information about Dataset:\n",
            "<class 'pandas.core.frame.DataFrame'>\n",
            "RangeIndex: 569 entries, 0 to 568\n",
            "Data columns (total 32 columns):\n",
            " #   Column                   Non-Null Count  Dtype  \n",
            "---  ------                   --------------  -----  \n",
            " 0   id                       569 non-null    int64  \n",
            " 1   diagnosis                569 non-null    object \n",
            " 2   radius_mean              569 non-null    float64\n",
            " 3   texture_mean             569 non-null    float64\n",
            " 4   perimeter_mean           569 non-null    float64\n",
            " 5   area_mean                569 non-null    float64\n",
            " 6   smoothness_mean          569 non-null    float64\n",
            " 7   compactness_mean         569 non-null    float64\n",
            " 8   concavity_mean           569 non-null    float64\n",
            " 9   concave points_mean      569 non-null    float64\n",
            " 10  symmetry_mean            569 non-null    float64\n",
            " 11  fractal_dimension_mean   569 non-null    float64\n",
            " 12  radius_se                569 non-null    float64\n",
            " 13  texture_se               569 non-null    float64\n",
            " 14  perimeter_se             569 non-null    float64\n",
            " 15  area_se                  569 non-null    float64\n",
            " 16  smoothness_se            569 non-null    float64\n",
            " 17  compactness_se           569 non-null    float64\n",
            " 18  concavity_se             569 non-null    float64\n",
            " 19  concave points_se        569 non-null    float64\n",
            " 20  symmetry_se              569 non-null    float64\n",
            " 21  fractal_dimension_se     569 non-null    float64\n",
            " 22  radius_worst             569 non-null    float64\n",
            " 23  texture_worst            569 non-null    float64\n",
            " 24  perimeter_worst          569 non-null    float64\n",
            " 25  area_worst               569 non-null    float64\n",
            " 26  smoothness_worst         569 non-null    float64\n",
            " 27  compactness_worst        569 non-null    float64\n",
            " 28  concavity_worst          569 non-null    float64\n",
            " 29  concave points_worst     569 non-null    float64\n",
            " 30  symmetry_worst           569 non-null    float64\n",
            " 31  fractal_dimension_worst  569 non-null    float64\n",
            "dtypes: float64(30), int64(1), object(1)\n",
            "memory usage: 142.4+ KB\n",
            "None \n",
            "\n",
            "> Statistical summary of the Dataset:\n",
            "                  id  radius_mean  texture_mean  perimeter_mean  area_mean  smoothness_mean  compactness_mean  concavity_mean  concave points_mean  symmetry_mean  fractal_dimension_mean  radius_se  texture_se  perimeter_se  area_se  smoothness_se  compactness_se  concavity_se  concave points_se  symmetry_se  fractal_dimension_se  radius_worst  texture_worst  perimeter_worst  area_worst  smoothness_worst  compactness_worst  concavity_worst  concave points_worst  symmetry_worst  fractal_dimension_worst\n",
            "count         569.00       569.00        569.00          569.00     569.00           569.00            569.00          569.00               569.00         569.00                  569.00     569.00      569.00        569.00   569.00         569.00          569.00        569.00             569.00       569.00                569.00        569.00         569.00           569.00      569.00            569.00             569.00           569.00                569.00          569.00                   569.00\n",
            "mean   30,371,831.43        14.13         19.29           91.97     654.89             0.10              0.10            0.09                 0.05           0.18                    0.06       0.41        1.22          2.87    40.34           0.01            0.03          0.03               0.01         0.02                  0.00         16.27          25.68           107.26      880.58              0.13               0.25             0.27                  0.11            0.29                     0.08\n",
            "std   125,020,585.61         3.52          4.30           24.30     351.91             0.01              0.05            0.08                 0.04           0.03                    0.01       0.28        0.55          2.02    45.49           0.00            0.02          0.03               0.01         0.01                  0.00          4.83           6.15            33.60      569.36              0.02               0.16             0.21                  0.07            0.06                     0.02\n",
            "min         8,670.00         6.98          9.71           43.79     143.50             0.05              0.02            0.00                 0.00           0.11                    0.05       0.11        0.36          0.76     6.80           0.00            0.00          0.00               0.00         0.01                  0.00          7.93          12.02            50.41      185.20              0.07               0.03             0.00                  0.00            0.16                     0.06\n",
            "25%       869,218.00        11.70         16.17           75.17     420.30             0.09              0.06            0.03                 0.02           0.16                    0.06       0.23        0.83          1.61    17.85           0.01            0.01          0.02               0.01         0.02                  0.00         13.01          21.08            84.11      515.30              0.12               0.15             0.11                  0.06            0.25                     0.07\n",
            "50%       906,024.00        13.37         18.84           86.24     551.10             0.10              0.09            0.06                 0.03           0.18                    0.06       0.32        1.11          2.29    24.53           0.01            0.02          0.03               0.01         0.02                  0.00         14.97          25.41            97.66      686.50              0.13               0.21             0.23                  0.10            0.28                     0.08\n",
            "75%     8,813,129.00        15.78         21.80          104.10     782.70             0.11              0.13            0.13                 0.07           0.20                    0.07       0.48        1.47          3.36    45.19           0.01            0.03          0.04               0.01         0.02                  0.00         18.79          29.72           125.40    1,084.00              0.15               0.34             0.38                  0.16            0.32                     0.09\n",
            "max   911,320,502.00        28.11         39.28          188.50   2,501.00             0.16              0.35            0.43                 0.20           0.30                    0.10       2.87        4.88         21.98   542.20           0.03            0.14          0.40               0.05         0.08                  0.03         36.04          49.54           251.20    4,254.00              0.22               1.06             1.25                  0.29            0.66                     0.21\n"
          ]
        }
      ],
      "source": [
        "print(\"> Shape of the Dataset: \", dataset.shape, \"\\n\")\n",
        "print(\"> Information about Dataset:\")\n",
        "print(dataset.info(), \"\\n\")\n",
        "print(\"> Statistical summary of the Dataset:\")\n",
        "# print(dataset.describe().map(lambda x: round(x, 4)))\n",
        "print(dataset.describe().to_string(header=True))"
      ]
    },
    {
      "cell_type": "code",
      "execution_count": 6,
      "metadata": {
        "id": "5bMrljUcI9zR"
      },
      "outputs": [],
      "source": [
        "# # Correlation Matrix Heatmap\n",
        "# plt.figure(figsize=(15, 8))\n",
        "# sns.heatmap(dataset[numerical_cols].corr(), annot=True, cmap='coolwarm')\n",
        "# plt.title('Correlation Matrix \\n',fontsize=20,  fontweight=800)\n",
        "# plt.show()"
      ]
    },
    {
      "cell_type": "markdown",
      "metadata": {
        "id": "e0E0usXBAry4"
      },
      "source": [
        "## Step-3:- Checking the Dataset:-"
      ]
    },
    {
      "cell_type": "markdown",
      "metadata": {
        "id": "PSX5IX9RAry5"
      },
      "source": [
        "### Step-3.1: Checking any Duplicate Data and Handling them:-"
      ]
    },
    {
      "cell_type": "code",
      "execution_count": 7,
      "metadata": {
        "colab": {
          "base_uri": "https://localhost:8080/"
        },
        "id": "XzvdrZlWAry5",
        "outputId": "854c896a-cc5f-4dd6-dcb3-061fee99d684"
      },
      "outputs": [
        {
          "name": "stdout",
          "output_type": "stream",
          "text": [
            "❌ No Duplicate Data(or Identical Rows) found...\n"
          ]
        }
      ],
      "source": [
        "if dataset.duplicated().any():\n",
        "  dataset.drop_duplicates(inplace=True)\n",
        "  print(\"✅ Duplicate Data(or Identical Rows) found and Removed...\")\n",
        "else:\n",
        "    print(\"❌ No Duplicate Data(or Identical Rows) found...\")"
      ]
    },
    {
      "cell_type": "markdown",
      "metadata": {
        "id": "FKBEjTdDAry6"
      },
      "source": [
        "### Step-3.2: Cheking any Missing Data and Handling them:-"
      ]
    },
    {
      "cell_type": "code",
      "execution_count": 8,
      "metadata": {
        "colab": {
          "base_uri": "https://localhost:8080/"
        },
        "id": "vg_Slpg2Ary7",
        "outputId": "d6ab762b-d983-4d19-c63c-203b6d97f1e8"
      },
      "outputs": [
        {
          "name": "stdout",
          "output_type": "stream",
          "text": [
            "❌ No missing data found...\n"
          ]
        }
      ],
      "source": [
        "# Here from the module named impute of the library scikit-learn, we are using the SimpleImputer Class to Handle the Missing Values.\n",
        "from sklearn.impute import SimpleImputer\n",
        "\n",
        "missing_data_counts = dataset.isnull().sum() + dataset.isin(['', 'N/A', 'Unknown', 'NaN']).sum()\n",
        "\n",
        "# if dataset.isnull().values.any() or dataset.isin(['', 'NaN', 'N/A', 'Unknown']).any().any():\n",
        "if missing_data_counts.any():\n",
        "\n",
        "  categorical_missing_counts = dataset[categorical_cols].isnull().sum() + dataset[categorical_cols].isin(['', 'N/A', 'Unknown', 'NaN']).sum()\n",
        "  numerical_missing_counts = dataset[numerical_cols].isnull().sum()\n",
        "\n",
        "  # Replace \"Unknown\" with NaN in categorical columns\n",
        "  for col in categorical_cols:\n",
        "    dataset[col] = dataset[col].replace('Unknown', np.nan)\n",
        "\n",
        "\n",
        "  # Check if there are any missing values (categorical or numerical)\n",
        "  if categorical_missing_counts.any() or numerical_missing_counts.any():\n",
        "      # Print missing counts for categorical columns in the desired format\n",
        "      print(\"⚠️ Missing Data Found! Handling them...\\n\")\n",
        "      print(\"Missing Data Counts in Categorical Columns: \\n\", categorical_missing_counts)\n",
        "      print(\"\\n\")\n",
        "      print(\"Missing Data Counts in Numerical Columns: \\n\", numerical_missing_counts)\n",
        "      print(\"\\n\")\n",
        "\n",
        "      # Create imputers for categorical and numerical features\n",
        "      categorical_imputer = SimpleImputer(missing_values=np.nan, strategy='most_frequent')\n",
        "      numerical_imputer = SimpleImputer(missing_values=np.nan, strategy='mean')\n",
        "\n",
        "      # Apply imputers to the selected columns in X\n",
        "      if len(categorical_cols) > 0:\n",
        "        categorical_cols_for_impution = [col for col in categorical_cols if col != dataset.columns[-1]]\n",
        "        dataset[categorical_cols_for_impution] = categorical_imputer.fit_transform(dataset[categorical_cols_for_impution])\n",
        "\n",
        "      # Exclude the dependent variable column (last column) if it's numerical\n",
        "      numerical_cols_for_impution = [col for col in numerical_cols if col != dataset.columns[-1]]\n",
        "      if len(numerical_cols_for_impution) > 0:\n",
        "          dataset[numerical_cols_for_impution] = numerical_imputer.fit_transform(dataset[numerical_cols_for_impution])\n",
        "      # if len(numerical_cols) > 0:\n",
        "          # dataset[numerical_cols] = numerical_imputer.fit_transform(dataset[numerical_cols])\n",
        "      print(\"✅ Missing Data Handled Successfully...\")\n",
        "      # print(\"New Data with replaced missing values: \\n\", dataset.head(10).to_string(header=True))\n",
        "else:\n",
        "    print(\"❌ No missing data found...\")\n",
        "\n"
      ]
    },
    {
      "cell_type": "markdown",
      "metadata": {
        "id": "-F0V-G0-Ary8"
      },
      "source": [
        "### Step-3.3: Checking any Synonyms or Aliases and Handling them:-"
      ]
    },
    {
      "cell_type": "code",
      "execution_count": 9,
      "metadata": {
        "id": "rJwxtUSyAry8"
      },
      "outputs": [],
      "source": [
        "# for col in dataset.columns:\n",
        "#   value_counts_dataset = dataset[col].value_counts().rename_axis('Unique Values: ').reset_index(name='Counts: ')\n",
        "\n",
        "#   print(f\"Column: \\t\\t'{col}'\")\n",
        "#   print(value_counts_dataset.T.to_string(header=False), \"\\n\")"
      ]
    },
    {
      "cell_type": "code",
      "execution_count": 21,
      "metadata": {},
      "outputs": [
        {
          "name": "stdout",
          "output_type": "stream",
          "text": [
            "id                        842,517.00\n",
            "diagnosis                       1.00\n",
            "radius_mean                    20.57\n",
            "texture_mean                   17.77\n",
            "perimeter_mean                132.90\n",
            "area_mean                   1,326.00\n",
            "smoothness_mean                 0.08\n",
            "compactness_mean                0.08\n",
            "concavity_mean                  0.09\n",
            "concave points_mean             0.07\n",
            "symmetry_mean                   0.18\n",
            "fractal_dimension_mean          0.06\n",
            "radius_se                       0.54\n",
            "texture_se                      0.73\n",
            "perimeter_se                    3.40\n",
            "area_se                        74.08\n",
            "smoothness_se                   0.01\n",
            "compactness_se                  0.01\n",
            "concavity_se                    0.02\n",
            "concave points_se               0.01\n",
            "symmetry_se                     0.01\n",
            "fractal_dimension_se            0.00\n",
            "radius_worst                   24.99\n",
            "texture_worst                  23.41\n",
            "perimeter_worst               158.80\n",
            "area_worst                  1,956.00\n",
            "smoothness_worst                0.12\n",
            "compactness_worst               0.19\n",
            "concavity_worst                 0.24\n",
            "concave points_worst            0.19\n",
            "symmetry_worst                  0.28\n",
            "fractal_dimension_worst         0.09\n",
            "Name: 1, dtype: float64 \n",
            "\n"
          ]
        }
      ],
      "source": [
        "print(dataset.iloc[1, :], \"\\n\")\n",
        "# print(dataset.iloc[190, :]) "
      ]
    },
    {
      "cell_type": "markdown",
      "metadata": {
        "id": "szLznVnf1W1h"
      },
      "source": [
        "### Step-3.4: Checking for Stopwords and Stemming them:-"
      ]
    },
    {
      "cell_type": "code",
      "execution_count": 11,
      "metadata": {
        "id": "iMWNF_e5j0vb"
      },
      "outputs": [],
      "source": [
        "# from nltk.corpus import stopwords\n",
        "# from nltk.stem.porter import PorterStemmer\n",
        "\n",
        "# if categorical_cols.any():\n",
        "\n",
        "#   nltk.download('stopwords')\n",
        "\n",
        "#   stop_words = set(stopwords.words('english'))\n",
        "#   # stop_words = stop_words.remove('not')\n",
        "#   # print(\"\\n Stop Words are: \", stop_words, \"\\n\")\n",
        "#   def stemming(text):\n",
        "#       words = text.lower().split()\n",
        "\n",
        "#       stemmer = PorterStemmer()\n",
        "#       stemmed_words = [stemmer.stem(word) for word in words if word not in stop_words]\n",
        "#       return ' '.join(stemmed_words)  # Join stemmed words back into a string\n",
        "\n",
        "#   # Apply the stemming function to the specified columns\n",
        "#   for column in categorical_cols:\n",
        "#       dataset[column] = dataset[column].astype(str).apply(stemming)\n",
        "\n",
        "#   print(\"✅ Stemming Completed Successfully... \\n\")\n",
        "#   # print(dataset.head().to_string(header=True))\n",
        "# else:\n",
        "#   print(\"❌ No Stemming Needed...\")"
      ]
    },
    {
      "cell_type": "markdown",
      "metadata": {
        "id": "kluQwU4vAry9"
      },
      "source": [
        "### Step-3.5: Checking any Categorical Data and Encoding them:-"
      ]
    },
    {
      "cell_type": "code",
      "execution_count": 12,
      "metadata": {},
      "outputs": [
        {
          "name": "stdout",
          "output_type": "stream",
          "text": [
            "> 'diagnosis' column with unique values: \t['M' 'B']\n",
            "\n",
            "\n",
            " '1' Columns Found: \n",
            "\t ['diagnosis']\n"
          ]
        }
      ],
      "source": [
        "# Check for binary and multi-value categorical columns#+\n",
        "\n",
        "cols_for_encoding = []\n",
        "\n",
        "for col in dataset.columns:\n",
        "    unique_values = dataset[col].unique()\n",
        "    if 2 <= len(unique_values) < 18:\n",
        "        cols_for_encoding.append(col)\n",
        "        print(f\"> '{col}' column with unique values: \\t{unique_values}\")\n",
        "\n",
        "print(\"\\n\")\n",
        "print(f\" '{len(cols_for_encoding)}' Columns Found: \\n\\t {cols_for_encoding}\")\n"
      ]
    },
    {
      "cell_type": "code",
      "execution_count": 13,
      "metadata": {
        "colab": {
          "base_uri": "https://localhost:8080/"
        },
        "id": "iliWxO0n-9UQ",
        "outputId": "8070daba-37a5-4d79-b709-e86eb55e665d"
      },
      "outputs": [
        {
          "name": "stdout",
          "output_type": "stream",
          "text": [
            "✅ 'diagnosis' has been encoded Successfully...\n",
            "\n",
            "Matrix of Features(X): \n",
            "    radius_mean  texture_mean  perimeter_mean  area_mean  smoothness_mean  compactness_mean  concavity_mean  concave points_mean  symmetry_mean  fractal_dimension_mean  radius_se  texture_se  perimeter_se  area_se  smoothness_se  compactness_se  concavity_se  concave points_se  symmetry_se  fractal_dimension_se  radius_worst  texture_worst  perimeter_worst  area_worst  smoothness_worst  compactness_worst  concavity_worst  concave points_worst  symmetry_worst  fractal_dimension_worst\n",
            "0        17.99         10.38          122.80   1,001.00             0.12              0.28            0.30                 0.15           0.24                    0.08       1.09        0.91          8.59   153.40           0.01            0.05          0.05               0.02         0.03                  0.01         25.38          17.33           184.60    2,019.00              0.16               0.67             0.71                  0.27            0.46                     0.12\n",
            "1        20.57         17.77          132.90   1,326.00             0.08              0.08            0.09                 0.07           0.18                    0.06       0.54        0.73          3.40    74.08           0.01            0.01          0.02               0.01         0.01                  0.00         24.99          23.41           158.80    1,956.00              0.12               0.19             0.24                  0.19            0.28                     0.09\n",
            "2        19.69         21.25          130.00   1,203.00             0.11              0.16            0.20                 0.13           0.21                    0.06       0.75        0.79          4.58    94.03           0.01            0.04          0.04               0.02         0.02                  0.00         23.57          25.53           152.50    1,709.00              0.14               0.42             0.45                  0.24            0.36                     0.09\n",
            "3        11.42         20.38           77.58     386.10             0.14              0.28            0.24                 0.11           0.26                    0.10       0.50        1.16          3.44    27.23           0.01            0.07          0.06               0.02         0.06                  0.01         14.91          26.50            98.87      567.70              0.21               0.87             0.69                  0.26            0.66                     0.17\n",
            "4        20.29         14.34          135.10   1,297.00             0.10              0.13            0.20                 0.10           0.18                    0.06       0.76        0.78          5.44    94.44           0.01            0.02          0.06               0.02         0.02                  0.01         22.54          16.67           152.20    1,575.00              0.14               0.20             0.40                  0.16            0.24                     0.08 \n",
            "\n",
            "Dependent Variable(y): \n",
            "    diagnosis\n",
            "0          1\n",
            "1          1\n",
            "2          1\n",
            "3          1\n",
            "4          1\n"
          ]
        }
      ],
      "source": [
        "from sklearn.preprocessing import LabelEncoder\n",
        "\n",
        "encoders = {}\n",
        "# LabelEncode binary columns\n",
        "for col in cols_for_encoding:\n",
        "    le = LabelEncoder()\n",
        "    dataset[col] = le.fit_transform(dataset[col])\n",
        "    encoders[col] = le  # Store encoder for later use\n",
        "    print(f\"✅ '{col}' has been encoded Successfully...\\n\")\n",
        "\n",
        "X = dataset.drop(columns=['id', 'diagnosis'])\n",
        "y = dataset['diagnosis']\n",
        "\n",
        "print(\"Matrix of Features(X): \\n\", pd.DataFrame(X).head().to_string(header=True), \"\\n\")\n",
        "print(\"Dependent Variable(y): \\n\", pd.DataFrame(y).head().to_string(header=True))\n"
      ]
    },
    {
      "cell_type": "markdown",
      "metadata": {
        "id": "qb_vcgm3qZKW"
      },
      "source": [
        "## Step-4: Split the Dataset into the Training set and Test set:-"
      ]
    },
    {
      "cell_type": "code",
      "execution_count": 14,
      "metadata": {
        "colab": {
          "base_uri": "https://localhost:8080/"
        },
        "id": "4ML-zBGmBkeI",
        "outputId": "2c46c44f-81df-4575-cfb6-121da537b8c5"
      },
      "outputs": [
        {
          "name": "stdout",
          "output_type": "stream",
          "text": [
            "✅ Data Splitted Successfully...\n",
            "\n"
          ]
        }
      ],
      "source": [
        "from sklearn.model_selection import train_test_split\n",
        "\n",
        "X_train, X_test, y_train, y_test = train_test_split(X, y, test_size=0.2, random_state=42)\n",
        "\n",
        "print(\"✅ Data Splitted Successfully...\\n\")\n",
        "\n",
        "# print(\"Printing Training Sets: \")\n",
        "# print(\"> X_train: \\n\", (pd.DataFrame(X_train).head()).to_string(), \"\\n\")\n",
        "# print(\"> X_test: \\n\", (pd.DataFrame(X_test).head()).to_string(), \"\\n\")\n",
        "# print(\"\\n\")\n",
        "# print(\"Printing Test Sets: \")\n",
        "# print(\"> y_train: \\n\", (pd.DataFrame(y_train).head()).to_string(header=False), \"\\n\")\n",
        "# print(\"> y_test: \\n\", (pd.DataFrame(y_test).head()).to_string(header=False), \"\\n\")"
      ]
    },
    {
      "cell_type": "markdown",
      "metadata": {
        "id": "TpGqbS4TqkIR"
      },
      "source": [
        "## Step-5: Feature Scaling:-"
      ]
    },
    {
      "cell_type": "code",
      "execution_count": 15,
      "metadata": {
        "colab": {
          "base_uri": "https://localhost:8080/"
        },
        "id": "HKf1Or3_BlW1",
        "outputId": "4d39949c-cb84-4dbf-bea0-655768ce30e2"
      },
      "outputs": [
        {
          "name": "stdout",
          "output_type": "stream",
          "text": [
            "✅ scaler have been saved Successfully...\n",
            "\n",
            "✅ Feature Scaling is Done Successfully...\n",
            "\n"
          ]
        }
      ],
      "source": [
        "import joblib\n",
        "from sklearn.preprocessing import StandardScaler\n",
        "\n",
        "# Scaling Features\n",
        "scaler = StandardScaler()\n",
        "X_train = scaler.fit_transform(X_train)\n",
        "X_test = scaler.transform(X_test)\n",
        "\n",
        "joblib.dump(scaler, '../saved_models/breast_cancer_scaler.pkl')\n",
        "print(\"✅ scaler have been saved Successfully...\\n\")\n",
        "\n",
        "print(\"✅ Feature Scaling is Done Successfully...\\n\")\n",
        "# print(\"Printing Training Sets after Feature Scaling:\")\n",
        "# print(\"> X_train: \\n\", X_train)\n",
        "# print(\"\\n\")\n",
        "# print(\"Printing Test Sets after Feature Scaling:\")\n",
        "# print(\"> X_test: \\n\", X_test)"
      ]
    },
    {
      "cell_type": "markdown",
      "metadata": {
        "id": "4ibPqcgELO4w"
      },
      "source": [
        "# ***Step-B: Model Builing & Evaluation...***"
      ]
    },
    {
      "cell_type": "code",
      "execution_count": 16,
      "metadata": {
        "colab": {
          "base_uri": "https://localhost:8080/"
        },
        "id": "srNH7MKCLO4x",
        "outputId": "93dbe2f7-fb71-4e4e-9f2a-8bfde052db84"
      },
      "outputs": [
        {
          "name": "stdout",
          "output_type": "stream",
          "text": [
            "✅ SVC is trained Sucessfully...\n",
            "-> SVC:-\n",
            "  Accuracy: \t 0.98\n",
            "  Precision: \t 1.00\n",
            "  Recall: \t 0.95\n",
            "  F1 Score: \t 0.98\n",
            "  ROC-AUC Score: 0.98\n",
            "\n"
          ]
        }
      ],
      "source": [
        "from sklearn.metrics import accuracy_score, precision_score, recall_score, f1_score, roc_auc_score\n",
        "from sklearn.svm import SVC\n",
        "\n",
        "models = {\n",
        "  SVC(kernel='rbf', probability=True),\n",
        "}\n",
        "\n",
        "for model in models:\n",
        "  model.fit(X_train, y_train)\n",
        "  y_pred = model.predict(X_test)\n",
        "\n",
        "  # cv_score = cross_val_score(model, X_train, y_train, cv=5)\n",
        "  print(f\"✅ {model.__class__.__name__} is trained Sucessfully...\")\n",
        "  print(f\"-> {model.__class__.__name__}:-\")\n",
        "  print(f\"  Accuracy: \\t {accuracy_score(y_test, y_pred):.2f}\")\n",
        "  print(f\"  Precision: \\t {precision_score(y_test, y_pred):.2f}\")\n",
        "  print(f\"  Recall: \\t {recall_score(y_test, y_pred):.2f}\")\n",
        "  print(f\"  F1 Score: \\t {f1_score(y_test, y_pred):.2f}\")\n",
        "  print(f\"  ROC-AUC Score: {roc_auc_score(y_test, y_pred):.2f}\\n\")"
      ]
    },
    {
      "cell_type": "markdown",
      "metadata": {
        "id": "Pny798jjSDG8"
      },
      "source": [
        "# ***Step-C: Saving the Model & Testing It...***"
      ]
    },
    {
      "cell_type": "markdown",
      "metadata": {
        "id": "ePeQfcipSDG-"
      },
      "source": [
        "## Step-1: Saving the Model(.sav):-"
      ]
    },
    {
      "cell_type": "code",
      "execution_count": 17,
      "metadata": {
        "colab": {
          "base_uri": "https://localhost:8080/"
        },
        "id": "yYfY0iYBSDHB",
        "outputId": "af1a2642-1cd9-4c66-8d97-2df0c9aea2c7"
      },
      "outputs": [
        {
          "name": "stdout",
          "output_type": "stream",
          "text": [
            "✅ Model saved: BREAST_CANCER_Prediction_Model.pkl\n"
          ]
        }
      ],
      "source": [
        "import joblib\n",
        "\n",
        "joblib.dump(model, f'../saved_models/BREAST_CANCER_Prediction_Model.pkl')\n",
        "print(f\"✅ Model saved: BREAST_CANCER_Prediction_Model.pkl\")"
      ]
    },
    {
      "cell_type": "markdown",
      "metadata": {
        "id": "eDkDvyfWSDHD"
      },
      "source": [
        "## Step-2: Predicting and Testing the Model:-"
      ]
    },
    {
      "cell_type": "code",
      "execution_count": 18,
      "metadata": {
        "colab": {
          "base_uri": "https://localhost:8080/"
        },
        "id": "FKCjM66sSDHE",
        "outputId": "b15972b2-c020-4d48-c424-3e0d34c1a4c5"
      },
      "outputs": [],
      "source": [
        "# correct_predictions = 0\n",
        "# max_correct_predictions = 0\n",
        "# model_predictions = {}  # dictionary to store model and their correct predictions\n",
        "\n",
        "# random_value = np.random.randint(3, 5)\n",
        "# print(\"Number of Inputs for Predction: \", random_value, \"\\n\")\n",
        "\n",
        "# for i in range(random_value):\n",
        "#     sample_input = (\n",
        "#         pd.DataFrame(X_train).iloc[i].values.reshape(1, -1)\n",
        "#     )  # Convert a row to an array\n",
        "#     sample_output = round(y_train[i], 2)\n",
        "\n",
        "#     print(\"Before Predicting, Sample Data & Output Sales are:-\")\n",
        "#     print(\"> Sample Data: \", sample_input)\n",
        "#     print(\"> Output: \", sample_output, \"\\n\")\n",
        "\n",
        "#     model = joblib.load(\"../saved_models/BREAST_CANCER_Prediction_Model.pkl\")\n",
        "#     prediction = model.predict(sample_input)\n",
        "#     rounded_prediction = round(prediction[0], 2)\n",
        "#     print(f\" - Predicted Sales: {rounded_prediction:.2f}\")\n",
        "\n",
        "#     if rounded_prediction == sample_output:\n",
        "#         correct_predictions += 1\n",
        "#         print(\"\\t✅ Nice Work! your Prediction is correct...\\n\")\n",
        "#         # increment correct prediction count for the model in the dictionary\n",
        "#         model_predictions[model.__class__.__name__] = (\n",
        "#             model_predictions.get(model.__class__.__name__, 0) + 1\n",
        "#         )\n",
        "#     else:\n",
        "#         print(\"\\t❌ Oops! your Prediction is incorrect...\\n\")\n",
        "\n",
        "#     print(\"=\" * 75, \"\\n\")"
      ]
    },
    {
      "cell_type": "code",
      "execution_count": 19,
      "metadata": {
        "colab": {
          "base_uri": "https://localhost:8080/"
        },
        "id": "jfulfnNf33GI",
        "outputId": "2959f94a-4733-49a3-c376-1d6b16656c3f"
      },
      "outputs": [],
      "source": [
        "# # Instead of using max, we'll iterate and check for at least one correct prediction\n",
        "# models_with_correct_predictions = []  # List to store models with at least one correct prediction\n",
        "\n",
        "# for model_name, correct_count in model_predictions.items():\n",
        "#     if correct_count >= 1:  # Check for at least one correct prediction\n",
        "#         models_with_correct_predictions.append(model_name)\n",
        "\n",
        "# # Print the results\n",
        "# if models_with_correct_predictions:\n",
        "#     for model_name in models_with_correct_predictions:\n",
        "#         print(f\"- ✅ '{model_name}' has achieved:\\n\\t\\t '{model_predictions[model_name]}' out of {random_value} correct predictions\")\n",
        "# else:\n",
        "#     print(\"No models achieved any correct predictions on the samples.\")"
      ]
    },
    {
      "cell_type": "markdown",
      "metadata": {
        "id": "o1eEhXlFSDHE"
      },
      "source": [
        "## Step-3: Predicting the Result from saved Model:-"
      ]
    },
    {
      "cell_type": "code",
      "execution_count": 20,
      "metadata": {
        "id": "w0FjSoO1MGBU"
      },
      "outputs": [],
      "source": [
        "# random_input = np.random.randint(1, 50)\n",
        "# print(f\"Row '{random_input}' for Predction: \\n\")\n",
        "\n",
        "# input_data = pd.DataFrame(X).iloc[random_input]  # Convert a row to an array\n",
        "# # changing input data to a numpy array\n",
        "# input_data_as_array = np.asarray(input_data).reshape(1,-1)\n",
        "\n",
        "# feature_names = pd.DataFrame(X).columns  # Get the feature names (column names)\n",
        "\n",
        "# # Create a dictionary of feature names and values for the selected row\n",
        "# input_data_dict = dict(zip(feature_names, input_data.values))\n",
        "# max_feature_name_length = max(len(name) for name in feature_names)\n",
        "\n",
        "# for feature_name, value in input_data_dict.items():\n",
        "#     print(f\"{feature_name:{max_feature_name_length}} = \\t{value}\")  # Alignment using string formatting\n",
        "# print(\"\\n\")  # Add a newline for better readability\n",
        "\n",
        "# model = pickle.load(open(f\"SVC.sav\", \"rb\"))\n",
        "\n",
        "# prediction = model.predict(input_data_as_array)\n",
        "# print(f\"{'Outcome_Prediction':{max_feature_name_length}} = \\t{prediction[0]}\", \"\\n\")  # Alignment for prediction\n",
        "\n",
        "# if (prediction[0] == 0):\n",
        "#   print(\"😃 Yeah! The Person does not have Breast Cancer...\")\n",
        "\n",
        "# else:\n",
        "#   print(\"⚠️ Oops! The Person has a Breast Cancer...\")"
      ]
    }
  ],
  "metadata": {
    "colab": {
      "collapsed_sections": [
        "HvALcJ3yAryu"
      ],
      "include_colab_link": true,
      "provenance": []
    },
    "kernelspec": {
      "display_name": "Python 3",
      "name": "python3"
    },
    "language_info": {
      "codemirror_mode": {
        "name": "ipython",
        "version": 3
      },
      "file_extension": ".py",
      "mimetype": "text/x-python",
      "name": "python",
      "nbconvert_exporter": "python",
      "pygments_lexer": "ipython3",
      "version": "3.12.9"
    }
  },
  "nbformat": 4,
  "nbformat_minor": 0
}
